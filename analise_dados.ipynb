{
 "cells": [
  {
   "cell_type": "markdown",
   "metadata": {},
   "source": [
    "# Preparação dos dados"
   ]
  },
  {
   "cell_type": "code",
   "execution_count": 42,
   "metadata": {},
   "outputs": [],
   "source": [
    "# Importação de pacotes\n",
    "import pandas as pd\n",
    "import numpy as np\n",
    "import matplotlib.pyplot as plt\n",
    "import plotly.graph_objects as go\n",
    "\n",
    "# configurações de visualização\n",
    "pd.set_option('display.max_columns', None)"
   ]
  },
  {
   "cell_type": "markdown",
   "metadata": {},
   "source": [
    "## Dados de Apólices"
   ]
  },
  {
   "cell_type": "code",
   "execution_count": null,
   "metadata": {},
   "outputs": [],
   "source": [
    "# Importação dos dados de apólices\n",
    "df_apolice = pd.read_excel('Apolices_Emitidas_.xlsx')\n",
    "\n",
    "# Ajustar nome de colunas\n",
    "df_apolice_colunas_nomes ={\n",
    "\t\"nrProposta\":\t\t\t\t\t\t\"nr_proposta\",\n",
    "\t\"nrApolice\":\t\t\t\t\t\t\"nr_apolice\",\n",
    "\t\"nrEndosso\":\t\t\t\t\t\t\"nr_endosso\",\n",
    "\t\"nrEndossoAssociado\":\t\t\t\t\"nr_endosso_associado\",\n",
    "\t\"dsEndosso\":\t\t\t\t\t\t\"ds_endosso\",\n",
    "\t\"statusApolice\":\t\t\t\t\t\"status_apolice\",\n",
    "\t\"idGrupoRamoSeguro\":\t\t\t\t\"id_grp_ramo\",\n",
    "\t\"RamoSeguro\":\t\t\t\t\t\t\"nm_ramo\",\n",
    "\t\"nmGrupoRamoSeguro\":\t\t\t\t\"nm_grp_ramo\",\n",
    "\t\"dtEmissaoMovimento\":\t\t\t\t\"dt_emissao_mvto\",\n",
    "\t\"dtIniVigencia\":\t\t\t\t\t\"dt_inicio_vigencia\",\n",
    "\t\"dtFimVigencia\":\t\t\t\t\t\"dt_fim_vigencia\",\n",
    "\t\"vlPremioComercialSeguroMoeda\":\t\t\"vl_premio_comercial\",\n",
    "\t\"vlCustoAquisicaoOperacionalMoeda\":\t\"vl_custo_aquisicao\",\n",
    "\t\"vlIOF\":\t\t\t\t\t\t\t\"vl_iof\",\n",
    "\t\"vlAdicionalFracionamentoMoeda\":\t\"vl_adicional_fracionamento\",\n",
    "\t\"vlIS\":\t\t\t\t\t\t\t\t\"vl_is\",\n",
    "\t\"nrTotalFracionamento\":\t\t\t\t\"nr_total_fracionamento\",\n",
    "\t\"nrCpfCnpjCorretorLider\":\t\t\t\"cpf_cnpj\",\n",
    "\t\"nmRazaoSocialCorretorLider\":\t\t\"razao_social\",\n",
    "\t\"dtNnascimento\":\t\t\t\t\t\"dt_nascimento\",\n",
    "\t\"nmSexo\":\t\t\t\t\t\t\t\"sexo\",\n",
    "\t\"tipoPessoa\":\t\t\t\t\t\t\"tipo_pessoa\",\n",
    "\t\"cdProdutoApolice\":\t\t\t\t\t\"cd_produto\",\n",
    "\t\"nmProduto\":\t\t\t\t\t\t\"nm_produto\",\n",
    "\t\"nmCep\":\t\t\t\t\t\t\t\"cep\",\n",
    "\t\"nmCidade\":\t\t\t\t\t\t\t\"cidade\",\n",
    "\t\"nmUF\":\t\t\t\t\t\t\t\t\"uf\"\n",
    "}\n",
    "df_apolice = df_apolice.rename(columns=df_apolice_colunas_nomes)\n",
    "memory_usage_before_df_apolice = df_apolice.memory_usage(deep=True)\n",
    "types_before = df_apolice.dtypes\n",
    "\n",
    "# Ajustar tipos de colunas\n",
    "df_apolice_colunas_tipos ={\n",
    "\t\"ds_endosso\":\t\t\t\t\t\t\"category\",\n",
    "\t\"status_apolice\":\t\t\t\t\t\"category\",\n",
    "\t\"id_grp_ramo\":\t\t\t\t\t\t\"category\",\n",
    "\t\"nm_ramo\":\t\t\t\t\t\t\t\"category\",\n",
    "\t\"nm_grp_ramo\":\t\t\t\t\t\t\"category\",\n",
    "\t\"dt_emissao_mvto\":\t\t\t\t\t\"datetime64[ns]\",\n",
    "\t\"dt_inicio_vigencia\":\t\t\t\t\"datetime64[ns]\",\n",
    "\t\"dt_fim_vigencia\":\t\t\t\t\t\"datetime64[ns]\",\n",
    "\t\"vl_premio_comercial\":\t\t\t\t\"float64\",\n",
    "\t\"vl_custo_aquisicao\":\t\t\t\t\"float64\",\n",
    "\t\"vl_iof\":\t\t\t\t\t\t\t\"float64\",\n",
    "\t\"vl_adicional_fracionamento\":\t\t\"float64\",\n",
    "\t\"vl_is\":\t\t\t\t\t\t\t\"float64\",\n",
    "\t\"nr_total_fracionamento\":\t\t\t\"category\",\n",
    "\t\"cpf_cnpj\":\t\t\t\t\t\t\t\"category\",\n",
    "\t\"razao_social\":\t\t\t\t\t\t\"category\",\n",
    "\t\"dt_nascimento\":\t\t\t\t\t\"datetime64[ns]\",\n",
    "\t\"sexo\":\t\t\t\t\t\t\t\t\"category\",\n",
    "\t\"tipo_pessoa\":\t\t\t\t\t\t\"category\",\n",
    "\t\"cd_produto\":\t\t\t\t\t\t\"category\",\n",
    "\t\"nm_produto\":\t\t\t\t\t\t\"category\",\n",
    "\t\"cep\":\t\t\t\t\t\t\t\t\"string\",\n",
    "\t\"cidade\":\t\t\t\t\t\t\t\"category\",\n",
    "\t\"uf\":\t\t\t\t\t\t\t\t\"category\"\n",
    "\t}\n",
    "df_apolice = df_apolice.astype(df_apolice_colunas_tipos)\n",
    "memory_usage_after_df_apolice = df_apolice.memory_usage(deep=True)\n",
    "types_after = df_apolice.dtypes"
   ]
  },
  {
   "cell_type": "code",
   "execution_count": null,
   "metadata": {},
   "outputs": [],
   "source": [
    "# Comparar uso de memória de apólices\n",
    "memory_usage_df_apolice = pd.DataFrame({\n",
    "    'types_before': types_before,\n",
    "\t'types_after': types_after,\n",
    "    'Memory Usage Before': memory_usage_before_df_apolice,\n",
    "    'Memory Usage After': memory_usage_after_df_apolice,\n",
    "    'Percentage Difference': (memory_usage_after_df_apolice\n",
    "                              - memory_usage_before_df_apolice)\n",
    "                              / memory_usage_before_df_apolice * 100\n",
    "})\n",
    "memory_usage_df_apolice.loc['Diferença total de memória'] = [\n",
    "    '---',\n",
    "    '---',\n",
    "    memory_usage_df_apolice['Memory Usage Before'].sum(),\n",
    "    memory_usage_df_apolice['Memory Usage After'].sum(),\n",
    "    (memory_usage_df_apolice['Memory Usage After'].sum() \n",
    "     - memory_usage_df_apolice['Memory Usage Before'].sum()) \n",
    "     / memory_usage_df_apolice['Memory Usage Before'].sum() * 100\n",
    "]\n",
    "\n",
    "memory_usage_df_apolice"
   ]
  },
  {
   "cell_type": "code",
   "execution_count": 51,
   "metadata": {},
   "outputs": [
    {
     "name": "stdout",
     "output_type": "stream",
     "text": [
      "Ponto de Pareto para vl_premio_comercial por cidade: 710\n",
      "Valor acumulado até o ponto de Pareto: 248085858.74000004\n",
      "Percentual de registros até o ponto de Pareto: 80.02984652962866%\n"
     ]
    },
    {
     "name": "stderr",
     "output_type": "stream",
     "text": [
      "C:\\Users\\frosa\\AppData\\Local\\Temp\\ipykernel_47912\\2866448968.py:4: FutureWarning:\n",
      "\n",
      "The default of observed=False is deprecated and will be changed to True in a future version of pandas. Pass observed=False to retain current behavior or observed=True to adopt the future default and silence this warning.\n",
      "\n"
     ]
    },
    {
     "data": {
      "application/vnd.plotly.v1+json": {
       "config": {
        "plotlyServerURL": "https://plot.ly"
       },
       "data": [
        {
         "name": "Soma dos valores",
         "type": "bar",
         "x": [
          "MARINGÁ",
          "FRANCISCO BELTRÃO",
          "LONDRINA",
          "TOLEDO",
          "CASCAVEL",
          "UMUARAMA",
          "CURITIBA",
          "CANOAS",
          "PATO BRANCO",
          "ASSIS CHATEAUBRIAND",
          "FOZ DO IGUAÇU",
          "APUCARANA",
          "MARECHAL CÂNDIDO RONDON",
          "BELÉM",
          "ARAPONGAS",
          "PARANAVAÍ",
          "DOIS VIZINHOS",
          "SARANDI",
          "MEDIANEIRA",
          "CIANORTE",
          "REALEZA",
          "SANTA TEREZINHA DE ITAIPU",
          "SÃO PAULO",
          "SÃO JORGE D'OESTE",
          "GUARAPUAVA",
          "LARANJEIRAS DO SUL",
          "AMPÉRE",
          "CAMPO MOURÃO",
          "JESUÍTAS",
          "PONTA GROSSA",
          "VERÊ",
          "MARMELEIRO",
          "NOVA PRATA DO IGUAÇU",
          "CORNÉLIO PROCÓPIO",
          "SANTO ANTÔNIO DO SUDOESTE",
          "FORMOSA DO OESTE",
          "CAPANEMA",
          "BRAGANEY",
          "SANTA IZABEL DO OESTE",
          "CORBÉLIA",
          "CORONEL VIVIDA",
          "MARIALVA",
          "COLORADO",
          "CAMPINA DA LAGOA",
          "CAMBARÁ",
          "ALVORADA DO SUL",
          "NOVA AURORA",
          "UBIRATÃ",
          "SALTO DO LONTRA",
          "SÃO JOÃO",
          "PAIÇANDU",
          "ROLÂNDIA",
          "CAMBÉ",
          "TELÊMACO BORBA",
          "GUARANIAÇU",
          "GUAÍRA",
          "PALOTINA",
          "MANDAGUARI",
          "ASSAÍ",
          "TUPÃSSI",
          "PRANCHITA",
          "CÉU AZUL",
          "MACAPÁ",
          "SÃO MIGUEL DO IGUAÇU",
          "GRAVATAÍ",
          "BANDEIRANTES",
          "SANTO INÁCIO",
          "MATELÂNDIA",
          "CRUZEIRO DO OESTE",
          "PRUDENTÓPOLIS",
          "TERRA BOA",
          "LOANDA",
          "SÃO JOSÉ DOS PINHAIS",
          "PLANALTO",
          "NOVA ESPERANÇA",
          "FAZENDA RIO GRANDE",
          "CAFELÂNDIA",
          "BOA ESPERANÇA DO IGUAÇU",
          "JUNDIAÍ",
          "JOAQUIM TÁVORA",
          "CAMPINAS",
          "MAMBORÊ",
          "SÃO CARLOS DO IVAÍ",
          "JAPURÁ",
          "IBIPORÃ",
          "GUARULHOS",
          "MANDAGUAÇU",
          "CACHOEIRA DO SUL",
          "PITANGA",
          "IMBITUVA",
          "PEABIRU",
          "CHOPINZINHO",
          "MISSAL",
          "RONDON",
          "CRUZEIRO DO IGUAÇU",
          "ALTO PARANÁ",
          "CANTAGALO",
          "PRESIDENTE VENCESLAU",
          "QUEDAS DO IGUAÇU",
          "CAXIAS DO SUL",
          null
         ],
         "y": [
          53400781.19,
          24026133.75,
          20488033.66,
          14554147.8,
          13689834.84,
          12880361.55,
          10934105.09,
          10503362.12,
          9489561.51,
          6996553.08,
          6406047.38,
          4518847.85,
          4272156.05,
          4202601.91,
          2767295.73,
          2203757.79,
          2114856.82,
          2073420.23,
          1904887.16,
          1694355.06,
          1564615.2,
          1551065.36,
          1545153.77,
          1358086.04,
          1310045.94,
          1239872.3699999999,
          1223892.84,
          1164669.59,
          1116465.1,
          1090848.76,
          1090784.6,
          1060796.53,
          1009810.82,
          977972.7899999999,
          967419.11,
          924915.24,
          912963.86,
          906689.54,
          905216.04,
          882551.33,
          882430.14,
          879490.28,
          875755.45,
          807030.75,
          789561.84,
          776098.34,
          767581.77,
          756739.19,
          739275.23,
          726720.08,
          716350.11,
          705297.34,
          694300.05,
          685354.9,
          659808.11,
          607550.9,
          597996.23,
          594673.77,
          585488.89,
          581834.37,
          578147.31,
          578083.68,
          575354.61,
          571581.9,
          558324.95,
          536922.93,
          528053.1900000001,
          526882.77,
          523490.45,
          521798.61,
          520739.02,
          517866.62,
          495359.59,
          492621.46,
          486617.72000000003,
          482136.6,
          473817.25,
          466984.82,
          464635.32,
          464580.75,
          459093.92,
          457118.95,
          446571.52,
          443756.2,
          442648.25,
          438142.95,
          437919.26,
          427307.11,
          424521.07,
          421315.68,
          419115.36,
          417739.76,
          415070.54,
          414100.01,
          412207.88,
          411095.11,
          397275.02999999997,
          396366.23,
          394343.34,
          392504.27,
          44805186.1
         ]
        },
        {
         "mode": "lines",
         "name": "Acumulado de Pareto",
         "type": "scatter",
         "x": [
          "MARINGÁ",
          "FRANCISCO BELTRÃO",
          "LONDRINA",
          "TOLEDO",
          "CASCAVEL",
          "UMUARAMA",
          "CURITIBA",
          "CANOAS",
          "PATO BRANCO",
          "ASSIS CHATEAUBRIAND",
          "FOZ DO IGUAÇU",
          "APUCARANA",
          "MARECHAL CÂNDIDO RONDON",
          "BELÉM",
          "ARAPONGAS",
          "PARANAVAÍ",
          "DOIS VIZINHOS",
          "SARANDI",
          "MEDIANEIRA",
          "CIANORTE",
          "REALEZA",
          "SANTA TEREZINHA DE ITAIPU",
          "SÃO PAULO",
          "SÃO JORGE D'OESTE",
          "GUARAPUAVA",
          "LARANJEIRAS DO SUL",
          "AMPÉRE",
          "CAMPO MOURÃO",
          "JESUÍTAS",
          "PONTA GROSSA",
          "VERÊ",
          "MARMELEIRO",
          "NOVA PRATA DO IGUAÇU",
          "CORNÉLIO PROCÓPIO",
          "SANTO ANTÔNIO DO SUDOESTE",
          "FORMOSA DO OESTE",
          "CAPANEMA",
          "BRAGANEY",
          "SANTA IZABEL DO OESTE",
          "CORBÉLIA",
          "CORONEL VIVIDA",
          "MARIALVA",
          "COLORADO",
          "CAMPINA DA LAGOA",
          "CAMBARÁ",
          "ALVORADA DO SUL",
          "NOVA AURORA",
          "UBIRATÃ",
          "SALTO DO LONTRA",
          "SÃO JOÃO",
          "PAIÇANDU",
          "ROLÂNDIA",
          "CAMBÉ",
          "TELÊMACO BORBA",
          "GUARANIAÇU",
          "GUAÍRA",
          "PALOTINA",
          "MANDAGUARI",
          "ASSAÍ",
          "TUPÃSSI",
          "PRANCHITA",
          "CÉU AZUL",
          "MACAPÁ",
          "SÃO MIGUEL DO IGUAÇU",
          "GRAVATAÍ",
          "BANDEIRANTES",
          "SANTO INÁCIO",
          "MATELÂNDIA",
          "CRUZEIRO DO OESTE",
          "PRUDENTÓPOLIS",
          "TERRA BOA",
          "LOANDA",
          "SÃO JOSÉ DOS PINHAIS",
          "PLANALTO",
          "NOVA ESPERANÇA",
          "FAZENDA RIO GRANDE",
          "CAFELÂNDIA",
          "BOA ESPERANÇA DO IGUAÇU",
          "JUNDIAÍ",
          "JOAQUIM TÁVORA",
          "CAMPINAS",
          "MAMBORÊ",
          "SÃO CARLOS DO IVAÍ",
          "JAPURÁ",
          "IBIPORÃ",
          "GUARULHOS",
          "MANDAGUAÇU",
          "CACHOEIRA DO SUL",
          "PITANGA",
          "IMBITUVA",
          "PEABIRU",
          "CHOPINZINHO",
          "MISSAL",
          "RONDON",
          "CRUZEIRO DO IGUAÇU",
          "ALTO PARANÁ",
          "CANTAGALO",
          "PRESIDENTE VENCESLAU",
          "QUEDAS DO IGUAÇU",
          "CAXIAS DO SUL",
          null
         ],
         "y": [
          53400781.19,
          77426914.94,
          97914948.6,
          112469096.39999999,
          126158931.24,
          139039292.79,
          149973397.88,
          160476760,
          169966321.51,
          176962874.59,
          183368921.97,
          187887769.82,
          192159925.87,
          196362527.78,
          199129823.51,
          201333581.29999998,
          203448438.11999997,
          205521858.34999996,
          207426745.50999996,
          209121100.56999996,
          210685715.76999995,
          212236781.12999997,
          213781934.89999998,
          215140020.93999997,
          216450066.87999997,
          217689939.24999997,
          218913832.08999997,
          220078501.67999998,
          221194966.77999997,
          222285815.53999996,
          223376600.13999996,
          224437396.66999996,
          225447207.48999995,
          226425180.27999994,
          227392599.38999996,
          228317514.62999997,
          229230478.48999998,
          230137168.02999997,
          231042384.06999996,
          231924935.39999998,
          232807365.53999996,
          233686855.81999996,
          234562611.26999995,
          235369642.01999995,
          236159203.85999995,
          236935302.19999996,
          237702883.96999997,
          238459623.15999997,
          239198898.38999996,
          239925618.46999997,
          240641968.57999998,
          241347265.92,
          242041565.97,
          242726920.87,
          243386728.98000002,
          243994279.88000003,
          244592276.11,
          245186949.88000003,
          245772438.77,
          246354273.14000002,
          246932420.45000002,
          247510504.13000003,
          248085858.74000004,
          248657440.64000005,
          249215765.59000003,
          249752688.52000004,
          250280741.71000004,
          250807624.48000005,
          251331114.93000004,
          251852913.54000005,
          252373652.56000006,
          252891519.18000007,
          253386878.77000007,
          253879500.23000008,
          254366117.95000008,
          254848254.55000007,
          255322071.80000007,
          255789056.62000006,
          256253691.94000006,
          256718272.69000006,
          257177366.61000004,
          257634485.56000003,
          258081057.08000004,
          258524813.28000003,
          258967461.53000003,
          259405604.48000002,
          259843523.74,
          260270830.85000002,
          260695351.92000002,
          261116667.60000002,
          261535782.96000004,
          261953522.72000003,
          262368593.26000002,
          262782693.27,
          263194901.15,
          263605996.26000002,
          264003271.29000002,
          264399637.52,
          264793980.86,
          265186485.13000003,
          309991671.23
         ]
        }
       ],
       "layout": {
        "shapes": [
         {
          "line": {
           "color": "red",
           "dash": "dash"
          },
          "type": "line",
          "x0": "MACAPÁ",
          "x1": "MACAPÁ",
          "xref": "x",
          "y0": 0,
          "y1": 1,
          "yref": "y domain"
         }
        ],
        "template": {
         "data": {
          "bar": [
           {
            "error_x": {
             "color": "#2a3f5f"
            },
            "error_y": {
             "color": "#2a3f5f"
            },
            "marker": {
             "line": {
              "color": "#E5ECF6",
              "width": 0.5
             },
             "pattern": {
              "fillmode": "overlay",
              "size": 10,
              "solidity": 0.2
             }
            },
            "type": "bar"
           }
          ],
          "barpolar": [
           {
            "marker": {
             "line": {
              "color": "#E5ECF6",
              "width": 0.5
             },
             "pattern": {
              "fillmode": "overlay",
              "size": 10,
              "solidity": 0.2
             }
            },
            "type": "barpolar"
           }
          ],
          "carpet": [
           {
            "aaxis": {
             "endlinecolor": "#2a3f5f",
             "gridcolor": "white",
             "linecolor": "white",
             "minorgridcolor": "white",
             "startlinecolor": "#2a3f5f"
            },
            "baxis": {
             "endlinecolor": "#2a3f5f",
             "gridcolor": "white",
             "linecolor": "white",
             "minorgridcolor": "white",
             "startlinecolor": "#2a3f5f"
            },
            "type": "carpet"
           }
          ],
          "choropleth": [
           {
            "colorbar": {
             "outlinewidth": 0,
             "ticks": ""
            },
            "type": "choropleth"
           }
          ],
          "contour": [
           {
            "colorbar": {
             "outlinewidth": 0,
             "ticks": ""
            },
            "colorscale": [
             [
              0,
              "#0d0887"
             ],
             [
              0.1111111111111111,
              "#46039f"
             ],
             [
              0.2222222222222222,
              "#7201a8"
             ],
             [
              0.3333333333333333,
              "#9c179e"
             ],
             [
              0.4444444444444444,
              "#bd3786"
             ],
             [
              0.5555555555555556,
              "#d8576b"
             ],
             [
              0.6666666666666666,
              "#ed7953"
             ],
             [
              0.7777777777777778,
              "#fb9f3a"
             ],
             [
              0.8888888888888888,
              "#fdca26"
             ],
             [
              1,
              "#f0f921"
             ]
            ],
            "type": "contour"
           }
          ],
          "contourcarpet": [
           {
            "colorbar": {
             "outlinewidth": 0,
             "ticks": ""
            },
            "type": "contourcarpet"
           }
          ],
          "heatmap": [
           {
            "colorbar": {
             "outlinewidth": 0,
             "ticks": ""
            },
            "colorscale": [
             [
              0,
              "#0d0887"
             ],
             [
              0.1111111111111111,
              "#46039f"
             ],
             [
              0.2222222222222222,
              "#7201a8"
             ],
             [
              0.3333333333333333,
              "#9c179e"
             ],
             [
              0.4444444444444444,
              "#bd3786"
             ],
             [
              0.5555555555555556,
              "#d8576b"
             ],
             [
              0.6666666666666666,
              "#ed7953"
             ],
             [
              0.7777777777777778,
              "#fb9f3a"
             ],
             [
              0.8888888888888888,
              "#fdca26"
             ],
             [
              1,
              "#f0f921"
             ]
            ],
            "type": "heatmap"
           }
          ],
          "heatmapgl": [
           {
            "colorbar": {
             "outlinewidth": 0,
             "ticks": ""
            },
            "colorscale": [
             [
              0,
              "#0d0887"
             ],
             [
              0.1111111111111111,
              "#46039f"
             ],
             [
              0.2222222222222222,
              "#7201a8"
             ],
             [
              0.3333333333333333,
              "#9c179e"
             ],
             [
              0.4444444444444444,
              "#bd3786"
             ],
             [
              0.5555555555555556,
              "#d8576b"
             ],
             [
              0.6666666666666666,
              "#ed7953"
             ],
             [
              0.7777777777777778,
              "#fb9f3a"
             ],
             [
              0.8888888888888888,
              "#fdca26"
             ],
             [
              1,
              "#f0f921"
             ]
            ],
            "type": "heatmapgl"
           }
          ],
          "histogram": [
           {
            "marker": {
             "pattern": {
              "fillmode": "overlay",
              "size": 10,
              "solidity": 0.2
             }
            },
            "type": "histogram"
           }
          ],
          "histogram2d": [
           {
            "colorbar": {
             "outlinewidth": 0,
             "ticks": ""
            },
            "colorscale": [
             [
              0,
              "#0d0887"
             ],
             [
              0.1111111111111111,
              "#46039f"
             ],
             [
              0.2222222222222222,
              "#7201a8"
             ],
             [
              0.3333333333333333,
              "#9c179e"
             ],
             [
              0.4444444444444444,
              "#bd3786"
             ],
             [
              0.5555555555555556,
              "#d8576b"
             ],
             [
              0.6666666666666666,
              "#ed7953"
             ],
             [
              0.7777777777777778,
              "#fb9f3a"
             ],
             [
              0.8888888888888888,
              "#fdca26"
             ],
             [
              1,
              "#f0f921"
             ]
            ],
            "type": "histogram2d"
           }
          ],
          "histogram2dcontour": [
           {
            "colorbar": {
             "outlinewidth": 0,
             "ticks": ""
            },
            "colorscale": [
             [
              0,
              "#0d0887"
             ],
             [
              0.1111111111111111,
              "#46039f"
             ],
             [
              0.2222222222222222,
              "#7201a8"
             ],
             [
              0.3333333333333333,
              "#9c179e"
             ],
             [
              0.4444444444444444,
              "#bd3786"
             ],
             [
              0.5555555555555556,
              "#d8576b"
             ],
             [
              0.6666666666666666,
              "#ed7953"
             ],
             [
              0.7777777777777778,
              "#fb9f3a"
             ],
             [
              0.8888888888888888,
              "#fdca26"
             ],
             [
              1,
              "#f0f921"
             ]
            ],
            "type": "histogram2dcontour"
           }
          ],
          "mesh3d": [
           {
            "colorbar": {
             "outlinewidth": 0,
             "ticks": ""
            },
            "type": "mesh3d"
           }
          ],
          "parcoords": [
           {
            "line": {
             "colorbar": {
              "outlinewidth": 0,
              "ticks": ""
             }
            },
            "type": "parcoords"
           }
          ],
          "pie": [
           {
            "automargin": true,
            "type": "pie"
           }
          ],
          "scatter": [
           {
            "fillpattern": {
             "fillmode": "overlay",
             "size": 10,
             "solidity": 0.2
            },
            "type": "scatter"
           }
          ],
          "scatter3d": [
           {
            "line": {
             "colorbar": {
              "outlinewidth": 0,
              "ticks": ""
             }
            },
            "marker": {
             "colorbar": {
              "outlinewidth": 0,
              "ticks": ""
             }
            },
            "type": "scatter3d"
           }
          ],
          "scattercarpet": [
           {
            "marker": {
             "colorbar": {
              "outlinewidth": 0,
              "ticks": ""
             }
            },
            "type": "scattercarpet"
           }
          ],
          "scattergeo": [
           {
            "marker": {
             "colorbar": {
              "outlinewidth": 0,
              "ticks": ""
             }
            },
            "type": "scattergeo"
           }
          ],
          "scattergl": [
           {
            "marker": {
             "colorbar": {
              "outlinewidth": 0,
              "ticks": ""
             }
            },
            "type": "scattergl"
           }
          ],
          "scattermapbox": [
           {
            "marker": {
             "colorbar": {
              "outlinewidth": 0,
              "ticks": ""
             }
            },
            "type": "scattermapbox"
           }
          ],
          "scatterpolar": [
           {
            "marker": {
             "colorbar": {
              "outlinewidth": 0,
              "ticks": ""
             }
            },
            "type": "scatterpolar"
           }
          ],
          "scatterpolargl": [
           {
            "marker": {
             "colorbar": {
              "outlinewidth": 0,
              "ticks": ""
             }
            },
            "type": "scatterpolargl"
           }
          ],
          "scatterternary": [
           {
            "marker": {
             "colorbar": {
              "outlinewidth": 0,
              "ticks": ""
             }
            },
            "type": "scatterternary"
           }
          ],
          "surface": [
           {
            "colorbar": {
             "outlinewidth": 0,
             "ticks": ""
            },
            "colorscale": [
             [
              0,
              "#0d0887"
             ],
             [
              0.1111111111111111,
              "#46039f"
             ],
             [
              0.2222222222222222,
              "#7201a8"
             ],
             [
              0.3333333333333333,
              "#9c179e"
             ],
             [
              0.4444444444444444,
              "#bd3786"
             ],
             [
              0.5555555555555556,
              "#d8576b"
             ],
             [
              0.6666666666666666,
              "#ed7953"
             ],
             [
              0.7777777777777778,
              "#fb9f3a"
             ],
             [
              0.8888888888888888,
              "#fdca26"
             ],
             [
              1,
              "#f0f921"
             ]
            ],
            "type": "surface"
           }
          ],
          "table": [
           {
            "cells": {
             "fill": {
              "color": "#EBF0F8"
             },
             "line": {
              "color": "white"
             }
            },
            "header": {
             "fill": {
              "color": "#C8D4E3"
             },
             "line": {
              "color": "white"
             }
            },
            "type": "table"
           }
          ]
         },
         "layout": {
          "annotationdefaults": {
           "arrowcolor": "#2a3f5f",
           "arrowhead": 0,
           "arrowwidth": 1
          },
          "autotypenumbers": "strict",
          "coloraxis": {
           "colorbar": {
            "outlinewidth": 0,
            "ticks": ""
           }
          },
          "colorscale": {
           "diverging": [
            [
             0,
             "#8e0152"
            ],
            [
             0.1,
             "#c51b7d"
            ],
            [
             0.2,
             "#de77ae"
            ],
            [
             0.3,
             "#f1b6da"
            ],
            [
             0.4,
             "#fde0ef"
            ],
            [
             0.5,
             "#f7f7f7"
            ],
            [
             0.6,
             "#e6f5d0"
            ],
            [
             0.7,
             "#b8e186"
            ],
            [
             0.8,
             "#7fbc41"
            ],
            [
             0.9,
             "#4d9221"
            ],
            [
             1,
             "#276419"
            ]
           ],
           "sequential": [
            [
             0,
             "#0d0887"
            ],
            [
             0.1111111111111111,
             "#46039f"
            ],
            [
             0.2222222222222222,
             "#7201a8"
            ],
            [
             0.3333333333333333,
             "#9c179e"
            ],
            [
             0.4444444444444444,
             "#bd3786"
            ],
            [
             0.5555555555555556,
             "#d8576b"
            ],
            [
             0.6666666666666666,
             "#ed7953"
            ],
            [
             0.7777777777777778,
             "#fb9f3a"
            ],
            [
             0.8888888888888888,
             "#fdca26"
            ],
            [
             1,
             "#f0f921"
            ]
           ],
           "sequentialminus": [
            [
             0,
             "#0d0887"
            ],
            [
             0.1111111111111111,
             "#46039f"
            ],
            [
             0.2222222222222222,
             "#7201a8"
            ],
            [
             0.3333333333333333,
             "#9c179e"
            ],
            [
             0.4444444444444444,
             "#bd3786"
            ],
            [
             0.5555555555555556,
             "#d8576b"
            ],
            [
             0.6666666666666666,
             "#ed7953"
            ],
            [
             0.7777777777777778,
             "#fb9f3a"
            ],
            [
             0.8888888888888888,
             "#fdca26"
            ],
            [
             1,
             "#f0f921"
            ]
           ]
          },
          "colorway": [
           "#636efa",
           "#EF553B",
           "#00cc96",
           "#ab63fa",
           "#FFA15A",
           "#19d3f3",
           "#FF6692",
           "#B6E880",
           "#FF97FF",
           "#FECB52"
          ],
          "font": {
           "color": "#2a3f5f"
          },
          "geo": {
           "bgcolor": "white",
           "lakecolor": "white",
           "landcolor": "#E5ECF6",
           "showlakes": true,
           "showland": true,
           "subunitcolor": "white"
          },
          "hoverlabel": {
           "align": "left"
          },
          "hovermode": "closest",
          "mapbox": {
           "style": "light"
          },
          "paper_bgcolor": "white",
          "plot_bgcolor": "#E5ECF6",
          "polar": {
           "angularaxis": {
            "gridcolor": "white",
            "linecolor": "white",
            "ticks": ""
           },
           "bgcolor": "#E5ECF6",
           "radialaxis": {
            "gridcolor": "white",
            "linecolor": "white",
            "ticks": ""
           }
          },
          "scene": {
           "xaxis": {
            "backgroundcolor": "#E5ECF6",
            "gridcolor": "white",
            "gridwidth": 2,
            "linecolor": "white",
            "showbackground": true,
            "ticks": "",
            "zerolinecolor": "white"
           },
           "yaxis": {
            "backgroundcolor": "#E5ECF6",
            "gridcolor": "white",
            "gridwidth": 2,
            "linecolor": "white",
            "showbackground": true,
            "ticks": "",
            "zerolinecolor": "white"
           },
           "zaxis": {
            "backgroundcolor": "#E5ECF6",
            "gridcolor": "white",
            "gridwidth": 2,
            "linecolor": "white",
            "showbackground": true,
            "ticks": "",
            "zerolinecolor": "white"
           }
          },
          "shapedefaults": {
           "line": {
            "color": "#2a3f5f"
           }
          },
          "ternary": {
           "aaxis": {
            "gridcolor": "white",
            "linecolor": "white",
            "ticks": ""
           },
           "baxis": {
            "gridcolor": "white",
            "linecolor": "white",
            "ticks": ""
           },
           "bgcolor": "#E5ECF6",
           "caxis": {
            "gridcolor": "white",
            "linecolor": "white",
            "ticks": ""
           }
          },
          "title": {
           "x": 0.05
          },
          "xaxis": {
           "automargin": true,
           "gridcolor": "white",
           "linecolor": "white",
           "ticks": "",
           "title": {
            "standoff": 15
           },
           "zerolinecolor": "white",
           "zerolinewidth": 2
          },
          "yaxis": {
           "automargin": true,
           "gridcolor": "white",
           "linecolor": "white",
           "ticks": "",
           "title": {
            "standoff": 15
           },
           "zerolinecolor": "white",
           "zerolinewidth": 2
          }
         }
        },
        "title": {
         "text": "Análise de Pareto para vl_premio_comercial por cidade"
        },
        "xaxis": {
         "title": {
          "text": "cidade"
         }
        },
        "yaxis": {
         "title": {
          "text": "Valor"
         }
        }
       }
      }
     },
     "metadata": {},
     "output_type": "display_data"
    },
    {
     "name": "stdout",
     "output_type": "stream",
     "text": [
      "Ponto de Pareto para vl_custo_aquisicao por cidade: 309\n",
      "Valor acumulado até o ponto de Pareto: 72002441.90999997\n",
      "Percentual de registros até o ponto de Pareto: 80.14937927710048%\n"
     ]
    },
    {
     "name": "stderr",
     "output_type": "stream",
     "text": [
      "C:\\Users\\frosa\\AppData\\Local\\Temp\\ipykernel_47912\\2866448968.py:4: FutureWarning:\n",
      "\n",
      "The default of observed=False is deprecated and will be changed to True in a future version of pandas. Pass observed=False to retain current behavior or observed=True to adopt the future default and silence this warning.\n",
      "\n"
     ]
    },
    {
     "data": {
      "application/vnd.plotly.v1+json": {
       "config": {
        "plotlyServerURL": "https://plot.ly"
       },
       "data": [
        {
         "name": "Soma dos valores",
         "type": "bar",
         "x": [
          "MARINGÁ",
          "FRANCISCO BELTRÃO",
          "LONDRINA",
          "UMUARAMA",
          "TOLEDO",
          "CASCAVEL",
          "CANOAS",
          "CURITIBA",
          "PATO BRANCO",
          "ASSIS CHATEAUBRIAND",
          "FOZ DO IGUAÇU",
          "APUCARANA",
          "BELÉM",
          "MARECHAL CÂNDIDO RONDON",
          "ARAPONGAS",
          "PARANAVAÍ",
          "SÃO PAULO",
          "SARANDI",
          "CIANORTE",
          "DOIS VIZINHOS",
          "MEDIANEIRA",
          "PONTA GROSSA",
          "CAMPO MOURÃO",
          "GUARAPUAVA",
          "MARIALVA",
          "CORONEL VIVIDA",
          "SANTA TEREZINHA DE ITAIPU",
          "NOVA PRATA DO IGUAÇU",
          "ROLÂNDIA",
          "CORNÉLIO PROCÓPIO",
          "REALEZA",
          "COLORADO",
          "CAMBÉ",
          "AMPÉRE",
          "MACAPÁ",
          "LARANJEIRAS DO SUL",
          "PAIÇANDU",
          "GRAVATAÍ",
          "SÃO JORGE D'OESTE",
          "SÃO MIGUEL DO IGUAÇU",
          "JESUÍTAS",
          "TELÊMACO BORBA",
          "PRUDENTÓPOLIS",
          "CAPANEMA",
          "MANDAGUARI",
          "CRUZEIRO DO OESTE",
          "CAMBARÁ",
          "SANTO ANTÔNIO DO SUDOESTE",
          "CAMPINAS",
          "UBIRATÃ",
          "MARMELEIRO",
          "JUNDIAÍ",
          "SANTA IZABEL DO OESTE",
          "CAMPINA DA LAGOA",
          "GUARULHOS",
          "SÃO JOSÉ DOS PINHAIS",
          "SÃO JOÃO",
          "FAZENDA RIO GRANDE",
          "BANDEIRANTES",
          "MATELÂNDIA",
          "ASSAÍ",
          "LOANDA",
          "FORMOSA DO OESTE",
          "CORBÉLIA",
          "VERÊ",
          "IBIPORÃ",
          "SALTO DO LONTRA",
          "CHOPINZINHO",
          "MISSAL",
          "CACHOEIRA DO SUL",
          "JOAQUIM TÁVORA",
          "SERTANÓPOLIS",
          "TERRA BOA",
          "IMBITUVA",
          "PRESIDENTE VENCESLAU",
          "CAXIAS DO SUL",
          "ITAIPULÂNDIA",
          "NOVA ESPERANÇA",
          "PÉROLA",
          "SOROCABA",
          "CAMPO GRANDE",
          "SANTO INÁCIO",
          "PRANCHITA",
          "PEABIRU",
          "SANTANA",
          "PORTO ALEGRE",
          "MANDAGUAÇU",
          "ALTO PARANÁ",
          "NOVA AURORA",
          "REBOUÇAS",
          "GUAÍRA",
          "RONDON",
          "PLANALTO",
          "CAFELÂNDIA",
          "SÃO CARLOS DO IVAÍ",
          "DOURADOS",
          "PEDREIRA",
          "ALTÔNIA",
          "ALVORADA DO SUL",
          "CÉU AZUL",
          null
         ],
         "y": [
          16251022.82,
          8987489.040000001,
          7330206.16,
          4712445.47,
          4680846.15,
          4546042.72,
          4115048.33,
          3929194.22,
          3282650.28,
          2195037.67,
          1629455.91,
          1608358.39,
          1547210.57,
          1480802.3,
          953659.63,
          494924.49,
          423280.32,
          418627.07,
          412077.59,
          410577.73,
          317876.71,
          256287.1,
          228457.09,
          225907.72,
          209460.16,
          208444.73,
          202800.74,
          202080.48,
          192402.62,
          186026.44,
          184338.02,
          179403.24,
          171324.33,
          168860.23,
          166197.12,
          148156.24,
          147898.37,
          147794.3,
          147479.67,
          144522.16,
          143255.85,
          141291.92,
          140945.57,
          140421.45,
          137374.51,
          136058.21,
          134345.16,
          129707.33,
          129457.37,
          129056.96,
          127822.13,
          125370.57,
          124583.06,
          124129.08,
          122410.7,
          122258.45,
          122083.63,
          121716.79,
          121060.56,
          118788.96,
          117832.78,
          116720.3,
          115612.45999999999,
          113859.35,
          111235.33,
          110654.76,
          107033.71,
          106044.97,
          104320.45,
          104031.67,
          103871.29,
          103041.19,
          102221.58,
          102126.2,
          101914.38,
          101470.98,
          100208.23,
          100119.22,
          98450.48,
          95658.56,
          95477.24,
          95016.03,
          94936.24,
          94654.79,
          94485.4,
          94023.33,
          92915.06,
          91239.9,
          91142.67,
          90808.37,
          89778.41,
          89709.96,
          89020.36,
          88411.86,
          88088.85,
          88030.88,
          87953.63,
          87834.44,
          87637.29000000001,
          87587.22,
          10063315.810000002
         ]
        },
        {
         "mode": "lines",
         "name": "Acumulado de Pareto",
         "type": "scatter",
         "x": [
          "MARINGÁ",
          "FRANCISCO BELTRÃO",
          "LONDRINA",
          "UMUARAMA",
          "TOLEDO",
          "CASCAVEL",
          "CANOAS",
          "CURITIBA",
          "PATO BRANCO",
          "ASSIS CHATEAUBRIAND",
          "FOZ DO IGUAÇU",
          "APUCARANA",
          "BELÉM",
          "MARECHAL CÂNDIDO RONDON",
          "ARAPONGAS",
          "PARANAVAÍ",
          "SÃO PAULO",
          "SARANDI",
          "CIANORTE",
          "DOIS VIZINHOS",
          "MEDIANEIRA",
          "PONTA GROSSA",
          "CAMPO MOURÃO",
          "GUARAPUAVA",
          "MARIALVA",
          "CORONEL VIVIDA",
          "SANTA TEREZINHA DE ITAIPU",
          "NOVA PRATA DO IGUAÇU",
          "ROLÂNDIA",
          "CORNÉLIO PROCÓPIO",
          "REALEZA",
          "COLORADO",
          "CAMBÉ",
          "AMPÉRE",
          "MACAPÁ",
          "LARANJEIRAS DO SUL",
          "PAIÇANDU",
          "GRAVATAÍ",
          "SÃO JORGE D'OESTE",
          "SÃO MIGUEL DO IGUAÇU",
          "JESUÍTAS",
          "TELÊMACO BORBA",
          "PRUDENTÓPOLIS",
          "CAPANEMA",
          "MANDAGUARI",
          "CRUZEIRO DO OESTE",
          "CAMBARÁ",
          "SANTO ANTÔNIO DO SUDOESTE",
          "CAMPINAS",
          "UBIRATÃ",
          "MARMELEIRO",
          "JUNDIAÍ",
          "SANTA IZABEL DO OESTE",
          "CAMPINA DA LAGOA",
          "GUARULHOS",
          "SÃO JOSÉ DOS PINHAIS",
          "SÃO JOÃO",
          "FAZENDA RIO GRANDE",
          "BANDEIRANTES",
          "MATELÂNDIA",
          "ASSAÍ",
          "LOANDA",
          "FORMOSA DO OESTE",
          "CORBÉLIA",
          "VERÊ",
          "IBIPORÃ",
          "SALTO DO LONTRA",
          "CHOPINZINHO",
          "MISSAL",
          "CACHOEIRA DO SUL",
          "JOAQUIM TÁVORA",
          "SERTANÓPOLIS",
          "TERRA BOA",
          "IMBITUVA",
          "PRESIDENTE VENCESLAU",
          "CAXIAS DO SUL",
          "ITAIPULÂNDIA",
          "NOVA ESPERANÇA",
          "PÉROLA",
          "SOROCABA",
          "CAMPO GRANDE",
          "SANTO INÁCIO",
          "PRANCHITA",
          "PEABIRU",
          "SANTANA",
          "PORTO ALEGRE",
          "MANDAGUAÇU",
          "ALTO PARANÁ",
          "NOVA AURORA",
          "REBOUÇAS",
          "GUAÍRA",
          "RONDON",
          "PLANALTO",
          "CAFELÂNDIA",
          "SÃO CARLOS DO IVAÍ",
          "DOURADOS",
          "PEDREIRA",
          "ALTÔNIA",
          "ALVORADA DO SUL",
          "CÉU AZUL",
          null
         ],
         "y": [
          16251022.82,
          25238511.86,
          32568718.02,
          37281163.49,
          41962009.64,
          46508052.36,
          50623100.69,
          54552294.91,
          57834945.19,
          60029982.86,
          61659438.769999996,
          63267797.16,
          64815007.73,
          66295810.029999994,
          67249469.66,
          67744394.14999999,
          68167674.46999998,
          68586301.53999998,
          68998379.12999998,
          69408956.85999998,
          69726833.56999998,
          69983120.66999997,
          70211577.75999998,
          70437485.47999997,
          70646945.63999997,
          70855390.36999997,
          71058191.10999997,
          71260271.58999997,
          71452674.20999998,
          71638700.64999998,
          71823038.66999997,
          72002441.90999997,
          72173766.23999996,
          72342626.46999997,
          72508823.58999997,
          72656979.82999997,
          72804878.19999997,
          72952672.49999997,
          73100152.16999997,
          73244674.32999997,
          73387930.17999996,
          73529222.09999996,
          73670167.66999996,
          73810589.11999996,
          73947963.62999997,
          74084021.83999996,
          74218366.99999996,
          74348074.32999995,
          74477531.69999996,
          74606588.65999995,
          74734410.78999995,
          74859781.35999994,
          74984364.41999994,
          75108493.49999994,
          75230904.19999994,
          75353162.64999995,
          75475246.27999994,
          75596963.06999995,
          75718023.62999995,
          75836812.58999994,
          75954645.36999995,
          76071365.66999994,
          76186978.12999994,
          76300837.47999993,
          76412072.80999993,
          76522727.56999993,
          76629761.27999993,
          76735806.24999993,
          76840126.69999993,
          76944158.36999993,
          77048029.65999994,
          77151070.84999993,
          77253292.42999993,
          77355418.62999994,
          77457333.00999993,
          77558803.98999994,
          77659012.21999994,
          77759131.43999994,
          77857581.91999994,
          77953240.47999994,
          78048717.71999994,
          78143733.74999994,
          78238669.98999994,
          78333324.77999994,
          78427810.17999995,
          78521833.50999995,
          78614748.56999995,
          78705988.46999995,
          78797131.13999996,
          78887939.50999996,
          78977717.91999996,
          79067427.87999995,
          79156448.23999995,
          79244860.09999995,
          79332948.94999994,
          79420979.82999994,
          79508933.45999993,
          79596767.89999993,
          79684405.18999994,
          79771992.40999994,
          89835308.21999994
         ]
        }
       ],
       "layout": {
        "shapes": [
         {
          "line": {
           "color": "red",
           "dash": "dash"
          },
          "type": "line",
          "x0": "COLORADO",
          "x1": "COLORADO",
          "xref": "x",
          "y0": 0,
          "y1": 1,
          "yref": "y domain"
         }
        ],
        "template": {
         "data": {
          "bar": [
           {
            "error_x": {
             "color": "#2a3f5f"
            },
            "error_y": {
             "color": "#2a3f5f"
            },
            "marker": {
             "line": {
              "color": "#E5ECF6",
              "width": 0.5
             },
             "pattern": {
              "fillmode": "overlay",
              "size": 10,
              "solidity": 0.2
             }
            },
            "type": "bar"
           }
          ],
          "barpolar": [
           {
            "marker": {
             "line": {
              "color": "#E5ECF6",
              "width": 0.5
             },
             "pattern": {
              "fillmode": "overlay",
              "size": 10,
              "solidity": 0.2
             }
            },
            "type": "barpolar"
           }
          ],
          "carpet": [
           {
            "aaxis": {
             "endlinecolor": "#2a3f5f",
             "gridcolor": "white",
             "linecolor": "white",
             "minorgridcolor": "white",
             "startlinecolor": "#2a3f5f"
            },
            "baxis": {
             "endlinecolor": "#2a3f5f",
             "gridcolor": "white",
             "linecolor": "white",
             "minorgridcolor": "white",
             "startlinecolor": "#2a3f5f"
            },
            "type": "carpet"
           }
          ],
          "choropleth": [
           {
            "colorbar": {
             "outlinewidth": 0,
             "ticks": ""
            },
            "type": "choropleth"
           }
          ],
          "contour": [
           {
            "colorbar": {
             "outlinewidth": 0,
             "ticks": ""
            },
            "colorscale": [
             [
              0,
              "#0d0887"
             ],
             [
              0.1111111111111111,
              "#46039f"
             ],
             [
              0.2222222222222222,
              "#7201a8"
             ],
             [
              0.3333333333333333,
              "#9c179e"
             ],
             [
              0.4444444444444444,
              "#bd3786"
             ],
             [
              0.5555555555555556,
              "#d8576b"
             ],
             [
              0.6666666666666666,
              "#ed7953"
             ],
             [
              0.7777777777777778,
              "#fb9f3a"
             ],
             [
              0.8888888888888888,
              "#fdca26"
             ],
             [
              1,
              "#f0f921"
             ]
            ],
            "type": "contour"
           }
          ],
          "contourcarpet": [
           {
            "colorbar": {
             "outlinewidth": 0,
             "ticks": ""
            },
            "type": "contourcarpet"
           }
          ],
          "heatmap": [
           {
            "colorbar": {
             "outlinewidth": 0,
             "ticks": ""
            },
            "colorscale": [
             [
              0,
              "#0d0887"
             ],
             [
              0.1111111111111111,
              "#46039f"
             ],
             [
              0.2222222222222222,
              "#7201a8"
             ],
             [
              0.3333333333333333,
              "#9c179e"
             ],
             [
              0.4444444444444444,
              "#bd3786"
             ],
             [
              0.5555555555555556,
              "#d8576b"
             ],
             [
              0.6666666666666666,
              "#ed7953"
             ],
             [
              0.7777777777777778,
              "#fb9f3a"
             ],
             [
              0.8888888888888888,
              "#fdca26"
             ],
             [
              1,
              "#f0f921"
             ]
            ],
            "type": "heatmap"
           }
          ],
          "heatmapgl": [
           {
            "colorbar": {
             "outlinewidth": 0,
             "ticks": ""
            },
            "colorscale": [
             [
              0,
              "#0d0887"
             ],
             [
              0.1111111111111111,
              "#46039f"
             ],
             [
              0.2222222222222222,
              "#7201a8"
             ],
             [
              0.3333333333333333,
              "#9c179e"
             ],
             [
              0.4444444444444444,
              "#bd3786"
             ],
             [
              0.5555555555555556,
              "#d8576b"
             ],
             [
              0.6666666666666666,
              "#ed7953"
             ],
             [
              0.7777777777777778,
              "#fb9f3a"
             ],
             [
              0.8888888888888888,
              "#fdca26"
             ],
             [
              1,
              "#f0f921"
             ]
            ],
            "type": "heatmapgl"
           }
          ],
          "histogram": [
           {
            "marker": {
             "pattern": {
              "fillmode": "overlay",
              "size": 10,
              "solidity": 0.2
             }
            },
            "type": "histogram"
           }
          ],
          "histogram2d": [
           {
            "colorbar": {
             "outlinewidth": 0,
             "ticks": ""
            },
            "colorscale": [
             [
              0,
              "#0d0887"
             ],
             [
              0.1111111111111111,
              "#46039f"
             ],
             [
              0.2222222222222222,
              "#7201a8"
             ],
             [
              0.3333333333333333,
              "#9c179e"
             ],
             [
              0.4444444444444444,
              "#bd3786"
             ],
             [
              0.5555555555555556,
              "#d8576b"
             ],
             [
              0.6666666666666666,
              "#ed7953"
             ],
             [
              0.7777777777777778,
              "#fb9f3a"
             ],
             [
              0.8888888888888888,
              "#fdca26"
             ],
             [
              1,
              "#f0f921"
             ]
            ],
            "type": "histogram2d"
           }
          ],
          "histogram2dcontour": [
           {
            "colorbar": {
             "outlinewidth": 0,
             "ticks": ""
            },
            "colorscale": [
             [
              0,
              "#0d0887"
             ],
             [
              0.1111111111111111,
              "#46039f"
             ],
             [
              0.2222222222222222,
              "#7201a8"
             ],
             [
              0.3333333333333333,
              "#9c179e"
             ],
             [
              0.4444444444444444,
              "#bd3786"
             ],
             [
              0.5555555555555556,
              "#d8576b"
             ],
             [
              0.6666666666666666,
              "#ed7953"
             ],
             [
              0.7777777777777778,
              "#fb9f3a"
             ],
             [
              0.8888888888888888,
              "#fdca26"
             ],
             [
              1,
              "#f0f921"
             ]
            ],
            "type": "histogram2dcontour"
           }
          ],
          "mesh3d": [
           {
            "colorbar": {
             "outlinewidth": 0,
             "ticks": ""
            },
            "type": "mesh3d"
           }
          ],
          "parcoords": [
           {
            "line": {
             "colorbar": {
              "outlinewidth": 0,
              "ticks": ""
             }
            },
            "type": "parcoords"
           }
          ],
          "pie": [
           {
            "automargin": true,
            "type": "pie"
           }
          ],
          "scatter": [
           {
            "fillpattern": {
             "fillmode": "overlay",
             "size": 10,
             "solidity": 0.2
            },
            "type": "scatter"
           }
          ],
          "scatter3d": [
           {
            "line": {
             "colorbar": {
              "outlinewidth": 0,
              "ticks": ""
             }
            },
            "marker": {
             "colorbar": {
              "outlinewidth": 0,
              "ticks": ""
             }
            },
            "type": "scatter3d"
           }
          ],
          "scattercarpet": [
           {
            "marker": {
             "colorbar": {
              "outlinewidth": 0,
              "ticks": ""
             }
            },
            "type": "scattercarpet"
           }
          ],
          "scattergeo": [
           {
            "marker": {
             "colorbar": {
              "outlinewidth": 0,
              "ticks": ""
             }
            },
            "type": "scattergeo"
           }
          ],
          "scattergl": [
           {
            "marker": {
             "colorbar": {
              "outlinewidth": 0,
              "ticks": ""
             }
            },
            "type": "scattergl"
           }
          ],
          "scattermapbox": [
           {
            "marker": {
             "colorbar": {
              "outlinewidth": 0,
              "ticks": ""
             }
            },
            "type": "scattermapbox"
           }
          ],
          "scatterpolar": [
           {
            "marker": {
             "colorbar": {
              "outlinewidth": 0,
              "ticks": ""
             }
            },
            "type": "scatterpolar"
           }
          ],
          "scatterpolargl": [
           {
            "marker": {
             "colorbar": {
              "outlinewidth": 0,
              "ticks": ""
             }
            },
            "type": "scatterpolargl"
           }
          ],
          "scatterternary": [
           {
            "marker": {
             "colorbar": {
              "outlinewidth": 0,
              "ticks": ""
             }
            },
            "type": "scatterternary"
           }
          ],
          "surface": [
           {
            "colorbar": {
             "outlinewidth": 0,
             "ticks": ""
            },
            "colorscale": [
             [
              0,
              "#0d0887"
             ],
             [
              0.1111111111111111,
              "#46039f"
             ],
             [
              0.2222222222222222,
              "#7201a8"
             ],
             [
              0.3333333333333333,
              "#9c179e"
             ],
             [
              0.4444444444444444,
              "#bd3786"
             ],
             [
              0.5555555555555556,
              "#d8576b"
             ],
             [
              0.6666666666666666,
              "#ed7953"
             ],
             [
              0.7777777777777778,
              "#fb9f3a"
             ],
             [
              0.8888888888888888,
              "#fdca26"
             ],
             [
              1,
              "#f0f921"
             ]
            ],
            "type": "surface"
           }
          ],
          "table": [
           {
            "cells": {
             "fill": {
              "color": "#EBF0F8"
             },
             "line": {
              "color": "white"
             }
            },
            "header": {
             "fill": {
              "color": "#C8D4E3"
             },
             "line": {
              "color": "white"
             }
            },
            "type": "table"
           }
          ]
         },
         "layout": {
          "annotationdefaults": {
           "arrowcolor": "#2a3f5f",
           "arrowhead": 0,
           "arrowwidth": 1
          },
          "autotypenumbers": "strict",
          "coloraxis": {
           "colorbar": {
            "outlinewidth": 0,
            "ticks": ""
           }
          },
          "colorscale": {
           "diverging": [
            [
             0,
             "#8e0152"
            ],
            [
             0.1,
             "#c51b7d"
            ],
            [
             0.2,
             "#de77ae"
            ],
            [
             0.3,
             "#f1b6da"
            ],
            [
             0.4,
             "#fde0ef"
            ],
            [
             0.5,
             "#f7f7f7"
            ],
            [
             0.6,
             "#e6f5d0"
            ],
            [
             0.7,
             "#b8e186"
            ],
            [
             0.8,
             "#7fbc41"
            ],
            [
             0.9,
             "#4d9221"
            ],
            [
             1,
             "#276419"
            ]
           ],
           "sequential": [
            [
             0,
             "#0d0887"
            ],
            [
             0.1111111111111111,
             "#46039f"
            ],
            [
             0.2222222222222222,
             "#7201a8"
            ],
            [
             0.3333333333333333,
             "#9c179e"
            ],
            [
             0.4444444444444444,
             "#bd3786"
            ],
            [
             0.5555555555555556,
             "#d8576b"
            ],
            [
             0.6666666666666666,
             "#ed7953"
            ],
            [
             0.7777777777777778,
             "#fb9f3a"
            ],
            [
             0.8888888888888888,
             "#fdca26"
            ],
            [
             1,
             "#f0f921"
            ]
           ],
           "sequentialminus": [
            [
             0,
             "#0d0887"
            ],
            [
             0.1111111111111111,
             "#46039f"
            ],
            [
             0.2222222222222222,
             "#7201a8"
            ],
            [
             0.3333333333333333,
             "#9c179e"
            ],
            [
             0.4444444444444444,
             "#bd3786"
            ],
            [
             0.5555555555555556,
             "#d8576b"
            ],
            [
             0.6666666666666666,
             "#ed7953"
            ],
            [
             0.7777777777777778,
             "#fb9f3a"
            ],
            [
             0.8888888888888888,
             "#fdca26"
            ],
            [
             1,
             "#f0f921"
            ]
           ]
          },
          "colorway": [
           "#636efa",
           "#EF553B",
           "#00cc96",
           "#ab63fa",
           "#FFA15A",
           "#19d3f3",
           "#FF6692",
           "#B6E880",
           "#FF97FF",
           "#FECB52"
          ],
          "font": {
           "color": "#2a3f5f"
          },
          "geo": {
           "bgcolor": "white",
           "lakecolor": "white",
           "landcolor": "#E5ECF6",
           "showlakes": true,
           "showland": true,
           "subunitcolor": "white"
          },
          "hoverlabel": {
           "align": "left"
          },
          "hovermode": "closest",
          "mapbox": {
           "style": "light"
          },
          "paper_bgcolor": "white",
          "plot_bgcolor": "#E5ECF6",
          "polar": {
           "angularaxis": {
            "gridcolor": "white",
            "linecolor": "white",
            "ticks": ""
           },
           "bgcolor": "#E5ECF6",
           "radialaxis": {
            "gridcolor": "white",
            "linecolor": "white",
            "ticks": ""
           }
          },
          "scene": {
           "xaxis": {
            "backgroundcolor": "#E5ECF6",
            "gridcolor": "white",
            "gridwidth": 2,
            "linecolor": "white",
            "showbackground": true,
            "ticks": "",
            "zerolinecolor": "white"
           },
           "yaxis": {
            "backgroundcolor": "#E5ECF6",
            "gridcolor": "white",
            "gridwidth": 2,
            "linecolor": "white",
            "showbackground": true,
            "ticks": "",
            "zerolinecolor": "white"
           },
           "zaxis": {
            "backgroundcolor": "#E5ECF6",
            "gridcolor": "white",
            "gridwidth": 2,
            "linecolor": "white",
            "showbackground": true,
            "ticks": "",
            "zerolinecolor": "white"
           }
          },
          "shapedefaults": {
           "line": {
            "color": "#2a3f5f"
           }
          },
          "ternary": {
           "aaxis": {
            "gridcolor": "white",
            "linecolor": "white",
            "ticks": ""
           },
           "baxis": {
            "gridcolor": "white",
            "linecolor": "white",
            "ticks": ""
           },
           "bgcolor": "#E5ECF6",
           "caxis": {
            "gridcolor": "white",
            "linecolor": "white",
            "ticks": ""
           }
          },
          "title": {
           "x": 0.05
          },
          "xaxis": {
           "automargin": true,
           "gridcolor": "white",
           "linecolor": "white",
           "ticks": "",
           "title": {
            "standoff": 15
           },
           "zerolinecolor": "white",
           "zerolinewidth": 2
          },
          "yaxis": {
           "automargin": true,
           "gridcolor": "white",
           "linecolor": "white",
           "ticks": "",
           "title": {
            "standoff": 15
           },
           "zerolinecolor": "white",
           "zerolinewidth": 2
          }
         }
        },
        "title": {
         "text": "Análise de Pareto para vl_custo_aquisicao por cidade"
        },
        "xaxis": {
         "title": {
          "text": "cidade"
         }
        },
        "yaxis": {
         "title": {
          "text": "Valor"
         }
        }
       }
      }
     },
     "metadata": {},
     "output_type": "display_data"
    }
   ],
   "source": [
    "def analise_pareto(df, colunas, grupo, limite=None):\n",
    "    for coluna in colunas:\n",
    "        # Agrupe as variáveis por região\n",
    "        df_grupo = df.groupby(grupo)[coluna].sum().reset_index()\n",
    "        \n",
    "        # Ordene as regiões em ordem decrescente\n",
    "        df_grupo = df_grupo.sort_values(coluna, ascending=False)\n",
    "        \n",
    "        # Se houver um limite, acumule as categorias não exibidas em \"Demais\"\n",
    "        if limite is not None:\n",
    "            df_grupo_demais = df_grupo.iloc[limite:]\n",
    "            df_grupo_demais = pd.DataFrame({'regiao': ['Demais'], coluna: [df_grupo_demais[coluna].sum()]})\n",
    "            df_grupo = pd.concat([df_grupo.iloc[:limite], df_grupo_demais])\n",
    "        \n",
    "        # Calcule o acumulado de valores\n",
    "        acumulado = df_grupo[coluna].cumsum()\n",
    "        \n",
    "        # Calcule o percentual acumulado\n",
    "        percentual_acumulado = (acumulado / acumulado.max()) * 100\n",
    "        \n",
    "        # Identifique o ponto de Pareto\n",
    "        ponto_pareto = percentual_acumulado[percentual_acumulado >= 80].index[0]\n",
    "        \n",
    "        print(f'Ponto de Pareto para {coluna} por {grupo}: {ponto_pareto}')\n",
    "        print(f'Valor acumulado até o ponto de Pareto: {acumulado[ponto_pareto]}')\n",
    "        print(f'Percentual de registros até o ponto de Pareto: {percentual_acumulado[ponto_pareto]}%')\n",
    "        \n",
    "        # Crie um gráfico do Plotly\n",
    "        fig = go.Figure(data=[\n",
    "            go.Bar(x=df_grupo[grupo], y=df_grupo[coluna], name='Soma dos valores'),\n",
    "            go.Scatter(x=df_grupo[grupo], y=acumulado, name='Acumulado de Pareto', mode='lines')\n",
    "        ])\n",
    "        fig.update_layout(title=f'Análise de Pareto para {coluna} por {grupo}',\n",
    "                          xaxis_title=grupo,\n",
    "                          yaxis_title='Valor')\n",
    "        fig.add_vline(x=df_grupo[grupo][ponto_pareto], line_dash='dash', line_color='red')\n",
    "        fig.show()\n",
    "\n",
    "colunas = ['vl_premio_comercial', 'vl_custo_aquisicao']\n",
    "grupo = 'cidade'\n",
    "limite = 100\n",
    "analise_pareto(df_apolice, colunas, grupo, limite)"
   ]
  },
  {
   "cell_type": "markdown",
   "metadata": {},
   "source": [
    "## Dados de Sinistros"
   ]
  },
  {
   "cell_type": "code",
   "execution_count": null,
   "metadata": {},
   "outputs": [],
   "source": [
    "# Importação dos dados de sinistros\n",
    "df_sinistro = pd.read_excel('Apolices_Sinistradas_Sicoob_.xlsx')\n",
    "\n",
    "# Ajustar nome de colunas\n",
    "df_sinistro_colunas_nomes ={\n",
    "\t\"nrApolice\":\t\t\t\t\t\t\t\"nr_apolice\",\n",
    "\t\"nrEndosso\":\t\t\t\t\t\t\t\"nr_endosso\",\n",
    "\t\"dsCoberturaSeguro\":\t\t\t\t\t\"ds_cobertura\",\n",
    "\t\"CdCoberturaSeguro\":\t\t\t\t\t\"cd_cobertura\",\n",
    "\t\"idGrupoRamoSeguro\":\t\t\t\t\t\"id_grp_ramo\",\n",
    "\t\"idRamoSeguro\":\t\t\t\t\t\t\t\"id_ramo\",\n",
    "\t\"nrSinistro\":\t\t\t\t\t\t\t\"nr_sinistro\",\n",
    "\t\"MovimentoSinistro\":\t\t\t\t\t\"nm_movto_sinistro\",\n",
    "\t\"dtEmissaoEventoSinistro\":\t\t\t\t\"dt_emissao_mvto_sinistro\",\n",
    "\t\"vlEventoSinistroMoeda\":\t\t\t\t\"vl_evento_sinsitro_moeda\",\n",
    "\t\"vlEventoSinistroBRL\":\t\t\t\t\t\"vl_evento_sinsitro_brl\",\n",
    "\t\"dtOcorrenciaSinistro\":\t\t\t\t\t\"dt_ocorrencia_sinistro\",\n",
    "\t\"dtAvisoSinistro\":\t\t\t\t\t\t\"dt_aviso_sinistro\",\n",
    "\t\"dtRegistroSinistro\":\t\t\t\t\t\"dt_registro_sinistro\",\n",
    "\t\"cdUFOcorrenciaSinistro\":\t\t\t\t\"uf_ocorrencia_sinistro\",\n",
    "\t\"nrCpfCnpjContraparte\":\t\t\t\t\t\"cpf_cnpj_contraparte\",\n",
    "\t\"nmRazaoSocialContraparte\":\t\t\t\t\"razao_social_contraparte\",\n",
    "\t\"cdProcessoJudicial\":\t\t\t\t\t\"cd_processo_judicial\",\n",
    "}\n",
    "df_sinistro = df_sinistro.rename(columns=df_sinistro_colunas_nomes)\n",
    "memory_usage_before_df_sinistro = df_sinistro.memory_usage(deep=True)\n",
    "types_before = df_sinistro.dtypes\n",
    "\n",
    "# Ajustar tipos de colunas\n",
    "df_sinistro_colunas_tipos ={\n",
    "\t\"ds_cobertura\":\t\t\t\t\t\t\t\"category\",\n",
    "\t\"cd_cobertura\":\t\t\t\t\t\t\t\"category\",\n",
    "\t\"id_grp_ramo\":\t\t\t\t\t\t\t\"category\",\n",
    "\t\"id_ramo\":\t\t\t\t\t\t\t\t\"category\",\n",
    "\t\"nm_movto_sinistro\":\t\t\t\t\t\"category\",\n",
    "\t\"dt_emissao_mvto_sinistro\":\t\t\t\t\"datetime64[ns]\",\n",
    "\t\"vl_evento_sinsitro_moeda\":\t\t\t\t\"float64\",\n",
    "\t\"vl_evento_sinsitro_brl\":\t\t\t\t\"float64\",\n",
    "\t\"dt_ocorrencia_sinistro\":\t\t\t\t\"datetime64[ns]\",\n",
    "\t\"dt_aviso_sinistro\":\t\t\t\t\t\"datetime64[ns]\",\n",
    "\t\"dt_registro_sinistro\":\t\t\t\t\t\"datetime64[ns]\",\n",
    "\t\"uf_ocorrencia_sinistro\":\t\t\t\t\"category\",\n",
    "\t\"cpf_cnpj_contraparte\":\t\t\t\t\t\"float64\",\n",
    "}\n",
    "df_sinistro_tipo = df_sinistro.astype(df_sinistro_colunas_tipos)\n",
    "memory_usage_after_df_sinistro = df_sinistro_tipo.memory_usage(deep=True)\n",
    "types_after = df_sinistro.dtypes"
   ]
  },
  {
   "cell_type": "code",
   "execution_count": null,
   "metadata": {},
   "outputs": [],
   "source": [
    "# Comparar uso de memória de sinistro\n",
    "memory_usage_df_sinistro = pd.DataFrame({\n",
    "    'types_before': types_before,\n",
    "\t'types_after': types_after,\n",
    "    'Memory Usage Before': memory_usage_before_df_sinistro,\n",
    "    'Memory Usage After': memory_usage_after_df_sinistro,\n",
    "    'Percentage Difference': (memory_usage_after_df_sinistro\n",
    "                              - memory_usage_before_df_sinistro)\n",
    "                              / memory_usage_before_df_sinistro * 100\n",
    "})\n",
    "memory_usage_df_sinistro.loc['Diferença total de memória'] = [\n",
    "    '---',\n",
    "    '---',\n",
    "    memory_usage_df_sinistro['Memory Usage Before'].sum(),\n",
    "    memory_usage_df_sinistro['Memory Usage After'].sum(),\n",
    "    (memory_usage_df_sinistro['Memory Usage After'].sum() \n",
    "     - memory_usage_df_sinistro['Memory Usage Before'].sum()) \n",
    "     / memory_usage_df_sinistro['Memory Usage Before'].sum() * 100\n",
    "]\n",
    "\n",
    "memory_usage_df_sinistro"
   ]
  }
 ],
 "metadata": {
  "kernelspec": {
   "display_name": "Python 3",
   "language": "python",
   "name": "python3"
  },
  "language_info": {
   "codemirror_mode": {
    "name": "ipython",
    "version": 3
   },
   "file_extension": ".py",
   "mimetype": "text/x-python",
   "name": "python",
   "nbconvert_exporter": "python",
   "pygments_lexer": "ipython3",
   "version": "3.12.1"
  }
 },
 "nbformat": 4,
 "nbformat_minor": 2
}
