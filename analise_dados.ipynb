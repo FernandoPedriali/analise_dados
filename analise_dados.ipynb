{
 "cells": [
  {
   "cell_type": "markdown",
   "metadata": {},
   "source": [
    "# Planejamento\n",
    "\n",
    "## Etapas\n",
    "- [x] ~~Tratar tipos dos dados~~\n",
    "- [ ] Tratar dados vazios\n",
    "- [ ] Tratar formatação de números para comparações\n",
    "- [ ] Montar análises de Pareto\n",
    "    - [ ] Acumulado de prêmio ganho\n",
    "    - [ ] Acumulado de \n",
    "- [ ] Montar análises cohort de duração de vigência\n",
    "\n",
    "# Próximos passos\n",
    "- [ ] Pareto de motivos de cancelamento"
   ]
  },
  {
   "cell_type": "markdown",
   "metadata": {},
   "source": [
    "# Preparação dos dados"
   ]
  },
  {
   "cell_type": "code",
   "execution_count": 3,
   "metadata": {},
   "outputs": [],
   "source": [
    "# Importação de pacotes\n",
    "import pandas as pd\n",
    "import numpy as np\n",
    "import matplotlib.pyplot as plt\n",
    "import plotly.graph_objects as go\n",
    "\n",
    "# configurações de visualização\n",
    "pd.set_option('display.max_columns', None)"
   ]
  },
  {
   "cell_type": "markdown",
   "metadata": {},
   "source": [
    "## Dados de Apólices"
   ]
  },
  {
   "cell_type": "code",
   "execution_count": 4,
   "metadata": {},
   "outputs": [],
   "source": [
    "# Importação dos dados de apólices\n",
    "df_apolice = pd.read_excel('Apolices_Emitidas_.xlsx')\n",
    "\n",
    "# Ajustar nome de colunas\n",
    "df_apolice_colunas_nomes ={\n",
    "\t\"nrProposta\":\t\t\t\t\t\t\"nr_proposta\",\n",
    "\t\"nrApolice\":\t\t\t\t\t\t\"nr_apolice\",\n",
    "\t\"nrEndosso\":\t\t\t\t\t\t\"nr_endosso\",\n",
    "\t\"nrEndossoAssociado\":\t\t\t\t\"nr_endosso_associado\",\n",
    "\t\"dsEndosso\":\t\t\t\t\t\t\"ds_endosso\",\n",
    "\t\"statusApolice\":\t\t\t\t\t\"status_apolice\",\n",
    "\t\"idGrupoRamoSeguro\":\t\t\t\t\"id_grp_ramo\",\n",
    "\t\"RamoSeguro\":\t\t\t\t\t\t\"nm_ramo\",\n",
    "\t\"nmGrupoRamoSeguro\":\t\t\t\t\"nm_grp_ramo\",\n",
    "\t\"dtEmissaoMovimento\":\t\t\t\t\"dt_emissao_mvto\",\n",
    "\t\"dtIniVigencia\":\t\t\t\t\t\"dt_inicio_vigencia\",\n",
    "\t\"dtFimVigencia\":\t\t\t\t\t\"dt_fim_vigencia\",\n",
    "\t\"vlPremioComercialSeguroMoeda\":\t\t\"vl_premio_comercial\",\n",
    "\t\"vlCustoAquisicaoOperacionalMoeda\":\t\"vl_custo_aquisicao\",\n",
    "\t\"vlIOF\":\t\t\t\t\t\t\t\"vl_iof\",\n",
    "\t\"vlAdicionalFracionamentoMoeda\":\t\"vl_adicional_fracionamento\",\n",
    "\t\"vlIS\":\t\t\t\t\t\t\t\t\"vl_is\",\n",
    "\t\"nrTotalFracionamento\":\t\t\t\t\"nr_total_fracionamento\",\n",
    "\t\"nrCpfCnpjCorretorLider\":\t\t\t\"cpf_cnpj\",\n",
    "\t\"nmRazaoSocialCorretorLider\":\t\t\"razao_social\",\n",
    "\t\"dtNnascimento\":\t\t\t\t\t\"dt_nascimento\",\n",
    "\t\"nmSexo\":\t\t\t\t\t\t\t\"sexo\",\n",
    "\t\"tipoPessoa\":\t\t\t\t\t\t\"tipo_pessoa\",\n",
    "\t\"cdProdutoApolice\":\t\t\t\t\t\"cd_produto\",\n",
    "\t\"nmProduto\":\t\t\t\t\t\t\"nm_produto\",\n",
    "\t\"nmCep\":\t\t\t\t\t\t\t\"cep\",\n",
    "\t\"nmCidade\":\t\t\t\t\t\t\t\"cidade\",\n",
    "\t\"nmUF\":\t\t\t\t\t\t\t\t\"uf\"\n",
    "}\n",
    "df_apolice = df_apolice.rename(columns=df_apolice_colunas_nomes)\n",
    "memory_usage_before_df_apolice = df_apolice.memory_usage(deep=True)\n",
    "types_before = df_apolice.dtypes\n",
    "\n",
    "# Ajustar tipos de colunas\n",
    "df_apolice_colunas_tipos ={\n",
    "\t\"ds_endosso\":\t\t\t\t\t\t\"category\",\n",
    "\t\"status_apolice\":\t\t\t\t\t\"category\",\n",
    "\t\"id_grp_ramo\":\t\t\t\t\t\t\"category\",\n",
    "\t\"nm_ramo\":\t\t\t\t\t\t\t\"category\",\n",
    "\t\"nm_grp_ramo\":\t\t\t\t\t\t\"category\",\n",
    "\t\"dt_emissao_mvto\":\t\t\t\t\t\"datetime64[ns]\",\n",
    "\t\"dt_inicio_vigencia\":\t\t\t\t\"datetime64[ns]\",\n",
    "\t\"dt_fim_vigencia\":\t\t\t\t\t\"datetime64[ns]\",\n",
    "\t\"vl_premio_comercial\":\t\t\t\t\"float64\",\n",
    "\t\"vl_custo_aquisicao\":\t\t\t\t\"float64\",\n",
    "\t\"vl_iof\":\t\t\t\t\t\t\t\"float64\",\n",
    "\t\"vl_adicional_fracionamento\":\t\t\"float64\",\n",
    "\t\"vl_is\":\t\t\t\t\t\t\t\"float64\",\n",
    "\t\"nr_total_fracionamento\":\t\t\t\"category\",\n",
    "\t\"cpf_cnpj\":\t\t\t\t\t\t\t\"category\",\n",
    "\t\"razao_social\":\t\t\t\t\t\t\"category\",\n",
    "\t\"dt_nascimento\":\t\t\t\t\t\"datetime64[ns]\",\n",
    "\t\"sexo\":\t\t\t\t\t\t\t\t\"category\",\n",
    "\t\"tipo_pessoa\":\t\t\t\t\t\t\"category\",\n",
    "\t\"cd_produto\":\t\t\t\t\t\t\"category\",\n",
    "\t\"nm_produto\":\t\t\t\t\t\t\"category\",\n",
    "\t\"cep\":\t\t\t\t\t\t\t\t\"string\",\n",
    "\t\"cidade\":\t\t\t\t\t\t\t\"category\",\n",
    "\t\"uf\":\t\t\t\t\t\t\t\t\"category\"\n",
    "\t}\n",
    "df_apolice = df_apolice.astype(df_apolice_colunas_tipos)\n",
    "memory_usage_after_df_apolice = df_apolice.memory_usage(deep=True)\n",
    "types_after = df_apolice.dtypes"
   ]
  },
  {
   "cell_type": "code",
   "execution_count": 5,
   "metadata": {},
   "outputs": [
    {
     "data": {
      "application/vnd.microsoft.datawrangler.viewer.v0+json": {
       "columns": [
        {
         "name": "index",
         "rawType": "int64",
         "type": "integer"
        },
        {
         "name": "nr_proposta",
         "rawType": "int64",
         "type": "integer"
        },
        {
         "name": "nr_apolice",
         "rawType": "int64",
         "type": "integer"
        },
        {
         "name": "nr_endosso",
         "rawType": "object",
         "type": "string"
        },
        {
         "name": "nr_endosso_associado",
         "rawType": "float64",
         "type": "float"
        },
        {
         "name": "ds_endosso",
         "rawType": "category",
         "type": "unknown"
        },
        {
         "name": "status_apolice",
         "rawType": "category",
         "type": "unknown"
        },
        {
         "name": "id_grp_ramo",
         "rawType": "category",
         "type": "unknown"
        },
        {
         "name": "nm_ramo",
         "rawType": "category",
         "type": "unknown"
        },
        {
         "name": "nm_grp_ramo",
         "rawType": "category",
         "type": "unknown"
        },
        {
         "name": "dt_emissao_mvto",
         "rawType": "datetime64[ns]",
         "type": "datetime"
        },
        {
         "name": "dt_inicio_vigencia",
         "rawType": "datetime64[ns]",
         "type": "datetime"
        },
        {
         "name": "dt_fim_vigencia",
         "rawType": "datetime64[ns]",
         "type": "datetime"
        },
        {
         "name": "vl_premio_comercial",
         "rawType": "float64",
         "type": "float"
        },
        {
         "name": "vl_custo_aquisicao",
         "rawType": "float64",
         "type": "float"
        },
        {
         "name": "vl_iof",
         "rawType": "float64",
         "type": "float"
        },
        {
         "name": "vl_adicional_fracionamento",
         "rawType": "float64",
         "type": "float"
        },
        {
         "name": "vl_is",
         "rawType": "float64",
         "type": "float"
        },
        {
         "name": "nr_total_fracionamento",
         "rawType": "category",
         "type": "unknown"
        },
        {
         "name": "cpf_cnpj",
         "rawType": "category",
         "type": "unknown"
        },
        {
         "name": "razao_social",
         "rawType": "category",
         "type": "unknown"
        },
        {
         "name": "dt_nascimento",
         "rawType": "datetime64[ns]",
         "type": "datetime"
        },
        {
         "name": "sexo",
         "rawType": "category",
         "type": "unknown"
        },
        {
         "name": "tipo_pessoa",
         "rawType": "category",
         "type": "unknown"
        },
        {
         "name": "cd_produto",
         "rawType": "category",
         "type": "unknown"
        },
        {
         "name": "nm_produto",
         "rawType": "category",
         "type": "unknown"
        },
        {
         "name": "cep",
         "rawType": "string",
         "type": "string"
        },
        {
         "name": "cidade",
         "rawType": "category",
         "type": "unknown"
        },
        {
         "name": "uf",
         "rawType": "category",
         "type": "unknown"
        }
       ],
       "ref": "a1d5a56d-ddb0-4532-95e1-727242da9147",
       "rows": [
        [
         "0",
         "205775",
         "2023011905310165685",
         "000001T",
         "0.0",
         "ENDOSSO DE CANCELAMENTO SEM RESTITUIÇÃO DE PREMIO",
         "CANCELADO",
         "5",
         "31",
         "AUTOMÓVEL - CASCO",
         "2024-08-06 00:00:00",
         "2024-07-07 00:00:00",
         "2024-07-08 00:00:00",
         "0.0",
         "0.0",
         "0.0",
         "0.0",
         "51870.0",
         "0",
         "8326511000100",
         "UNICOOB CORRETORA DE SEGUROS LTDA",
         "1958-12-06 00:00:00",
         "MASCULINO",
         "PF",
         "99",
         "AUTOMOVEL/CAMINHAO",
         "85550-000",
         "CORONEL VIVIDA",
         "PR"
        ],
        [
         "1",
         "206438",
         "2023011905310166200",
         "000001T",
         "0.0",
         "ENDOSSO DE CANCELAMENTO SEM RESTITUIÇÃO DE PREMIO",
         "CANCELADO",
         "5",
         "31",
         "AUTOMÓVEL - CASCO",
         "2024-08-22 00:00:00",
         "2024-07-12 00:00:00",
         "2024-07-13 00:00:00",
         "0.0",
         "0.0",
         "0.0",
         "0.0",
         "56513.0",
         "0",
         "8326511000100",
         "UNICOOB CORRETORA DE SEGUROS LTDA",
         "1961-01-03 00:00:00",
         "MASCULINO",
         "PF",
         "99",
         "AUTOMOVEL/CAMINHAO",
         "85440-000",
         "UBIRATÃ",
         "PR"
        ],
        [
         "2",
         "207799",
         "2023011905310167362",
         "000001R",
         "0.0",
         "ENDOSSO DE RESTITUIÇÃO DE PREMIO",
         "CANCELADO",
         "5",
         "31",
         "AUTOMÓVEL - CASCO",
         "2024-07-01 00:00:00",
         "2024-07-01 00:00:00",
         "2024-07-31 00:00:00",
         "63.22",
         "6.32",
         "0.0",
         "0.0",
         "43516.0",
         "1",
         "8326511000100",
         "UNICOOB CORRETORA DE SEGUROS LTDA",
         "1982-03-23 00:00:00",
         "MASCULINO",
         "PF",
         "99",
         "AUTOMOVEL/CAMINHAO",
         "87470-000",
         "MARILUZ",
         "PR"
        ],
        [
         "3",
         "208027",
         "2023011905310167598",
         "000001R",
         "0.0",
         "ENDOSSO DE RESTITUIÇÃO DE PREMIO",
         "CANCELADO",
         "5",
         "31",
         "AUTOMÓVEL - CASCO",
         "2024-07-09 00:00:00",
         "2024-07-09 00:00:00",
         "2024-07-29 00:00:00",
         "27.14",
         "2.71",
         "0.0",
         "0.0",
         "68098.0",
         "1",
         "8326511000100",
         "UNICOOB CORRETORA DE SEGUROS LTDA",
         "1962-09-27 00:00:00",
         "FEMININO",
         "PF",
         "99",
         "AUTOMOVEL/CAMINHAO",
         "85904-000",
         "TOLEDO",
         "PR"
        ],
        [
         "4",
         "208276",
         "2023011905310167777",
         "000002R",
         null,
         "ENDOSSO DE RESTITUIÇÃO DE PREMIO",
         "EXPIRADO",
         "5",
         "31",
         "AUTOMÓVEL - CASCO",
         "2024-07-02 00:00:00",
         "2024-06-10 00:00:00",
         "2024-07-28 00:00:00",
         "148.77",
         "14.87",
         "7.22",
         "0.0",
         "93163.0",
         "2",
         "8326511000100",
         "UNICOOB CORRETORA DE SEGUROS LTDA",
         "1971-06-14 00:00:00",
         "MASCULINO",
         "PF",
         "99",
         "AUTOMOVEL/CAMINHAO",
         "87060-668",
         "MARINGÁ",
         "PR"
        ],
        [
         "5",
         "208934",
         "2023011905310168324",
         "000001T",
         "0.0",
         "ENDOSSO DE CANCELAMENTO COM RESTITUIÇÃO DE PREMIO",
         "CANCELADO",
         "5",
         "31",
         "AUTOMÓVEL - CASCO",
         "2024-07-19 00:00:00",
         "2024-07-19 00:00:00",
         "2024-08-06 00:00:00",
         "0.0",
         "0.0",
         "0.0",
         "0.0",
         "48748.0",
         "0",
         "8326511000100",
         "UNICOOB CORRETORA DE SEGUROS LTDA",
         "1985-06-07 00:00:00",
         "FEMININO",
         "PF",
         "99",
         "AUTOMOVEL/CAMINHAO",
         "86770-000",
         "SANTA FÉ",
         "PR"
        ],
        [
         "6",
         "209629",
         "2023011905310168902",
         "000001R",
         "0.0",
         "ENDOSSO DE RESTITUIÇÃO DE PREMIO",
         "CANCELADO",
         "5",
         "31",
         "AUTOMÓVEL - CASCO",
         "2024-07-26 00:00:00",
         "2024-07-26 00:00:00",
         "2024-08-11 00:00:00",
         "18.88",
         "2.83",
         "0.0",
         "0.0",
         "25404.0",
         "1",
         "8326511000100",
         "UNICOOB CORRETORA DE SEGUROS LTDA",
         "1966-09-28 00:00:00",
         "MASCULINO",
         "PF",
         "99",
         "AUTOMOVEL/CAMINHAO",
         "85903-450",
         "TOLEDO",
         "PR"
        ],
        [
         "7",
         "209990",
         "2023011905310169242",
         "000001R",
         null,
         "ENDOSSO DE RESTITUIÇÃO DE PREMIO",
         "EXPIRADO",
         "5",
         "31",
         "AUTOMÓVEL - CASCO",
         "2024-06-26 00:00:00",
         "2024-06-11 00:00:00",
         "2024-08-30 00:00:00",
         "56.72",
         "9.06",
         "0.0",
         "0.0",
         "60670.0",
         "2",
         "8326511000100",
         "UNICOOB CORRETORA DE SEGUROS LTDA",
         "1963-12-01 00:00:00",
         "FEMININO",
         "PF",
         "99",
         "AUTOMOVEL/CAMINHAO",
         "85770-000",
         "REALEZA",
         "PR"
        ],
        [
         "8",
         "210010",
         "2023011905310169248",
         "000001T",
         "0.0",
         "ENDOSSO DE CANCELAMENTO SEM RESTITUIÇÃO DE PREMIO",
         "CANCELADO",
         "5",
         "31",
         "AUTOMÓVEL - CASCO",
         "2024-06-30 00:00:00",
         "2024-06-30 00:00:00",
         "2024-09-03 00:00:00",
         "105.3",
         "11.58",
         "7.77",
         "0.0",
         "24835.0",
         "1",
         "8326511000100",
         "UNICOOB CORRETORA DE SEGUROS LTDA",
         "1951-11-19 00:00:00",
         "MASCULINO",
         "PF",
         "99",
         "AUTOMOVEL/CAMINHAO",
         "86084-740",
         "LONDRINA",
         "PR"
        ],
        [
         "9",
         "210970",
         "2023011905530170143",
         "000001A",
         null,
         "ENDOSSO DE COBRANÇA ADICIONAL DE PREMIO",
         "EXPIRADO",
         "5",
         "53",
         "RESPONSABILIDADE CIVIL FACULTATIVA DE VEÍCULO",
         "2024-07-09 00:00:00",
         "2024-06-27 00:00:00",
         "2024-08-31 00:00:00",
         "0.0",
         "0.0",
         "0.0",
         "0.0",
         "28303.0",
         "0",
         "8326511000100",
         "UNICOOB CORRETORA DE SEGUROS LTDA",
         "1998-10-25 00:00:00",
         "MASCULINO",
         "PF",
         "99",
         "AUTOMOVEL/CAMINHAO",
         "85857-240",
         "FOZ DO IGUAÇU",
         "PR"
        ],
        [
         "10",
         "211576",
         "2023011905310170645",
         "000001R",
         "0.0",
         "ENDOSSO DE RESTITUIÇÃO DE PREMIO",
         "CANCELADO",
         "5",
         "31",
         "AUTOMÓVEL - CASCO",
         "2024-08-26 00:00:00",
         "2024-08-26 00:00:00",
         "2024-09-20 00:00:00",
         "65.79",
         "6.58",
         "0.0",
         "0.0",
         "101512.0",
         "1",
         "8326511000100",
         "UNICOOB CORRETORA DE SEGUROS LTDA",
         "1976-02-05 00:00:00",
         "FEMININO",
         "PF",
         "99",
         "AUTOMOVEL/CAMINHAO",
         "86990-000",
         "MARIALVA",
         "PR"
        ],
        [
         "11",
         "211823",
         "2023011905310170844",
         "000001T",
         "0.0",
         "ENDOSSO DE CANCELAMENTO SEM RESTITUIÇÃO DE PREMIO",
         "CANCELADO",
         "5",
         "31",
         "AUTOMÓVEL - CASCO",
         "2024-06-13 00:00:00",
         "2024-05-02 00:00:00",
         "2024-09-06 00:00:00",
         "1157.06",
         "115.74",
         "85.38",
         "0.0",
         "106236.6",
         "2",
         "8326511000100",
         "UNICOOB CORRETORA DE SEGUROS LTDA",
         "1981-03-11 00:00:00",
         "MASCULINO",
         "PF",
         "99",
         "AUTOMOVEL/CAMINHAO",
         "85869-691",
         "FOZ DO IGUAÇU",
         "PR"
        ],
        [
         "12",
         "205481",
         "2023011905310165615",
         "000001R",
         "0.0",
         "ENDOSSO DE RESTITUIÇÃO DE PREMIO",
         "CANCELADO",
         "5",
         "31",
         "AUTOMÓVEL - CASCO",
         "2024-06-18 00:00:00",
         "2024-06-18 00:00:00",
         "2024-06-30 00:00:00",
         "19.92",
         "1.99",
         "0.0",
         "0.0",
         "36499.0",
         "1",
         "8326511000100",
         "UNICOOB CORRETORA DE SEGUROS LTDA",
         "1983-07-20 00:00:00",
         "FEMININO",
         "PF",
         "99",
         "AUTOMOVEL/CAMINHAO",
         "87240-000",
         "TERRA BOA",
         "PR"
        ],
        [
         "13",
         "206282",
         "2023011905310166450",
         "000001T",
         "0.0",
         "ENDOSSO DE CANCELAMENTO SEM RESTITUIÇÃO DE PREMIO",
         "CANCELADO",
         "5",
         "31",
         "AUTOMÓVEL - CASCO",
         "2024-06-12 00:00:00",
         "2024-06-12 00:00:00",
         "2024-07-07 00:00:00",
         "274.86",
         "27.54",
         "20.28",
         "0.0",
         "47397.0",
         "1",
         "8326511000100",
         "UNICOOB CORRETORA DE SEGUROS LTDA",
         "1965-08-11 00:00:00",
         "FEMININO",
         "PF",
         "99",
         "AUTOMOVEL/CAMINHAO",
         "87113-310",
         "SARANDI",
         "PR"
        ],
        [
         "14",
         "206548",
         "2023011905310166395",
         "000001R",
         "0.0",
         "ENDOSSO DE RESTITUIÇÃO DE PREMIO",
         "CANCELADO",
         "5",
         "31",
         "AUTOMÓVEL - CASCO",
         "2024-06-12 00:00:00",
         "2024-06-12 00:00:00",
         "2024-07-11 00:00:00",
         "74.8",
         "7.48",
         "0.0",
         "0.0",
         "67810.0",
         "1",
         "8326511000100",
         "UNICOOB CORRETORA DE SEGUROS LTDA",
         "1957-07-21 00:00:00",
         "FEMININO",
         "PF",
         "99",
         "AUTOMOVEL/CAMINHAO",
         "87600-000",
         "NOVA ESPERANÇA",
         "PR"
        ],
        [
         "15",
         "207897",
         "2023011905310167597",
         "000001R",
         "0.0",
         "ENDOSSO DE RESTITUIÇÃO DE PREMIO",
         "CANCELADO",
         "5",
         "31",
         "AUTOMÓVEL - CASCO",
         "2024-06-20 00:00:00",
         "2024-06-20 00:00:00",
         "2024-08-02 00:00:00",
         "70.99",
         "0.71",
         "0.0",
         "0.0",
         "42899.85",
         "1",
         "8326511000100",
         "UNICOOB CORRETORA DE SEGUROS LTDA",
         "1992-04-13 00:00:00",
         "FEMININO",
         "PF",
         "99",
         "AUTOMOVEL/CAMINHAO",
         "85905-000",
         "TOLEDO",
         "PR"
        ],
        [
         "16",
         "208718",
         "2023011905310168300",
         "000001R",
         "0.0",
         "ENDOSSO DE RESTITUIÇÃO DE PREMIO",
         "CANCELADO",
         "5",
         "31",
         "AUTOMÓVEL - CASCO",
         "2024-07-23 00:00:00",
         "2024-07-23 00:00:00",
         "2024-08-02 00:00:00",
         "30.1",
         "3.01",
         "0.0",
         "0.0",
         "70167.0",
         "1",
         "8326511000100",
         "UNICOOB CORRETORA DE SEGUROS LTDA",
         "1993-05-18 00:00:00",
         "FEMININO",
         "PF",
         "99",
         "AUTOMOVEL/CAMINHAO",
         "87710-160",
         "PARANAVAÍ",
         "PR"
        ],
        [
         "17",
         "209087",
         "2023011905310168458",
         "000001A",
         null,
         "ENDOSSO DE COBRANÇA ADICIONAL DE PREMIO",
         "EXPIRADO",
         "5",
         "31",
         "AUTOMÓVEL - CASCO",
         "2024-06-05 00:00:00",
         "2024-06-03 00:00:00",
         "2024-08-22 00:00:00",
         "174.56",
         "17.45",
         "12.88",
         "0.0",
         "99148.0",
         "2",
         "8326511000100",
         "UNICOOB CORRETORA DE SEGUROS LTDA",
         "1984-09-03 00:00:00",
         "MASCULINO",
         "PF",
         "99",
         "AUTOMOVEL/CAMINHAO",
         "85960-508",
         "MARECHAL CÂNDIDO RONDON",
         "PR"
        ],
        [
         "18",
         "205297",
         "2023011905310165265",
         "000002T",
         "0.0",
         "ENDOSSO DE CANCELAMENTO SEM RESTITUIÇÃO DE PREMIO",
         "CANCELADO",
         "5",
         "31",
         "AUTOMÓVEL - CASCO",
         "2024-09-02 00:00:00",
         "2024-07-14 00:00:00",
         "2024-07-15 00:00:00",
         "186.96",
         "18.7",
         "13.8",
         "0.0",
         "120440.0",
         "1",
         "8326511000100",
         "UNICOOB CORRETORA DE SEGUROS LTDA",
         "1992-05-15 00:00:00",
         "MASCULINO",
         "PF",
         "99",
         "AUTOMOVEL/CAMINHAO",
         "87075-630",
         "MARINGÁ",
         "PR"
        ],
        [
         "19",
         "206548",
         "2023011905310166395",
         "000001T",
         "0.0",
         "ENDOSSO DE CANCELAMENTO COM RESTITUIÇÃO DE PREMIO",
         "CANCELADO",
         "5",
         "31",
         "AUTOMÓVEL - CASCO",
         "2024-06-12 00:00:00",
         "2024-06-12 00:00:00",
         "2024-07-11 00:00:00",
         "0.0",
         "0.0",
         "0.0",
         "0.0",
         "67810.0",
         "0",
         "8326511000100",
         "UNICOOB CORRETORA DE SEGUROS LTDA",
         "1957-07-21 00:00:00",
         "FEMININO",
         "PF",
         "99",
         "AUTOMOVEL/CAMINHAO",
         "87600-000",
         "NOVA ESPERANÇA",
         "PR"
        ],
        [
         "20",
         "206916",
         "2023011905310166708",
         "000001T",
         "0.0",
         "ENDOSSO DE CANCELAMENTO SEM RESTITUIÇÃO DE PREMIO",
         "CANCELADO",
         "5",
         "31",
         "AUTOMÓVEL - CASCO",
         "2024-06-19 00:00:00",
         "2024-06-19 00:00:00",
         "2024-07-14 00:00:00",
         "251.56",
         "25.21",
         "18.56",
         "0.0",
         "66848.0",
         "1",
         "8326511000100",
         "UNICOOB CORRETORA DE SEGUROS LTDA",
         "1975-04-10 00:00:00",
         "MASCULINO",
         "PF",
         "99",
         "AUTOMOVEL/CAMINHAO",
         "87540-000",
         "PÉROLA",
         "PR"
        ],
        [
         "21",
         "207799",
         "2023011905310167362",
         "000001T",
         "0.0",
         "ENDOSSO DE CANCELAMENTO COM RESTITUIÇÃO DE PREMIO",
         "CANCELADO",
         "5",
         "31",
         "AUTOMÓVEL - CASCO",
         "2024-07-01 00:00:00",
         "2024-07-01 00:00:00",
         "2024-07-31 00:00:00",
         "0.0",
         "0.0",
         "0.0",
         "0.0",
         "43516.0",
         "0",
         "8326511000100",
         "UNICOOB CORRETORA DE SEGUROS LTDA",
         "1982-03-23 00:00:00",
         "MASCULINO",
         "PF",
         "99",
         "AUTOMOVEL/CAMINHAO",
         "87470-000",
         "MARILUZ",
         "PR"
        ],
        [
         "22",
         "207873",
         "2023011905310167462",
         "000001A",
         null,
         "ENDOSSO DE COBRANÇA ADICIONAL DE PREMIO",
         "EXPIRADO",
         "5",
         "31",
         "AUTOMÓVEL - CASCO",
         "2024-06-13 00:00:00",
         "2024-06-06 00:00:00",
         "2024-07-27 00:00:00",
         "55.88",
         "7.27",
         "4.12",
         "0.0",
         "57067.0",
         "1",
         "8326511000100",
         "UNICOOB CORRETORA DE SEGUROS LTDA",
         "1962-03-04 00:00:00",
         "MASCULINO",
         "PF",
         "99",
         "AUTOMOVEL/CAMINHAO",
         "85145-000",
         "FOZ DO JORDÃO",
         "PR"
        ],
        [
         "23",
         "207897",
         "2023011905310167597",
         "000001T",
         "0.0",
         "ENDOSSO DE CANCELAMENTO COM RESTITUIÇÃO DE PREMIO",
         "CANCELADO",
         "5",
         "31",
         "AUTOMÓVEL - CASCO",
         "2024-06-20 00:00:00",
         "2024-06-20 00:00:00",
         "2024-08-02 00:00:00",
         "0.0",
         "0.0",
         "0.0",
         "0.0",
         "42899.85",
         "0",
         "8326511000100",
         "UNICOOB CORRETORA DE SEGUROS LTDA",
         "1992-04-13 00:00:00",
         "FEMININO",
         "PF",
         "99",
         "AUTOMOVEL/CAMINHAO",
         "85905-000",
         "TOLEDO",
         "PR"
        ],
        [
         "24",
         "212098",
         "2023011905310171107",
         "000001A",
         null,
         "ENDOSSO DE COBRANÇA ADICIONAL DE PREMIO",
         "EXPIRADO",
         "5",
         "31",
         "AUTOMÓVEL - CASCO",
         "2024-07-17 00:00:00",
         "2024-07-12 00:00:00",
         "2024-09-12 00:00:00",
         "0.0",
         "0.0",
         "0.0",
         "0.0",
         "79641.0",
         "0",
         "8326511000100",
         "UNICOOB CORRETORA DE SEGUROS LTDA",
         "1969-12-28 00:00:00",
         "FEMININO",
         "PF",
         "99",
         "AUTOMOVEL/CAMINHAO",
         "86635-000",
         "LUPIONÓPOLIS",
         "PR"
        ],
        [
         "25",
         "212461",
         "2023011905310171391",
         "000001R",
         null,
         "ENDOSSO DE RESTITUIÇÃO DE PREMIO",
         "EXPIRADO",
         "5",
         "31",
         "AUTOMÓVEL - CASCO",
         "2024-06-13 00:00:00",
         "2024-06-05 00:00:00",
         "2024-09-15 00:00:00",
         "720.52",
         "72.04",
         "0.0",
         "0.0",
         "125856.0",
         "2",
         "8326511000100",
         "UNICOOB CORRETORA DE SEGUROS LTDA",
         null,
         null,
         "PJ",
         "99",
         "AUTOMOVEL/CAMINHAO",
         "87053-515",
         "MARINGÁ",
         "PR"
        ],
        [
         "26",
         "212639",
         "2023011905310171645",
         "000001A",
         null,
         "ENDOSSO DE COBRANÇA ADICIONAL DE PREMIO",
         "EXPIRADO",
         "5",
         "31",
         "AUTOMÓVEL - CASCO",
         "2024-07-18 00:00:00",
         "2024-07-17 00:00:00",
         "2024-09-19 00:00:00",
         "178.93",
         "17.89",
         "13.2",
         "0.0",
         "185590.4",
         "1",
         "8326511000100",
         "UNICOOB CORRETORA DE SEGUROS LTDA",
         "1958-05-14 00:00:00",
         "MASCULINO",
         "PF",
         "99",
         "AUTOMOVEL/CAMINHAO",
         "85861-180",
         "FOZ DO IGUAÇU",
         "PR"
        ],
        [
         "27",
         "212702",
         "2023011905310171614",
         "000001T",
         "0.0",
         "ENDOSSO DE CANCELAMENTO COM RESTITUIÇÃO DE PREMIO",
         "CANCELADO",
         "5",
         "31",
         "AUTOMÓVEL - CASCO",
         "2024-06-07 00:00:00",
         "2024-06-07 00:00:00",
         "2024-09-16 00:00:00",
         "522.08",
         "52.29",
         "38.53",
         "0.0",
         "124782.0",
         "1",
         "8326511000100",
         "UNICOOB CORRETORA DE SEGUROS LTDA",
         "1980-12-08 00:00:00",
         "FEMININO",
         "PF",
         "99",
         "AUTOMOVEL/CAMINHAO",
         "85835-000",
         "JESUÍTAS",
         "PR"
        ],
        [
         "28",
         "212769",
         "2023011905310171707",
         "000001T",
         "0.0",
         "ENDOSSO DE CANCELAMENTO SEM RESTITUIÇÃO DE PREMIO",
         "CANCELADO",
         "5",
         "31",
         "AUTOMÓVEL - CASCO",
         "2024-07-26 00:00:00",
         "2024-07-25 00:00:00",
         "2024-09-15 00:00:00",
         "286.13",
         "28.61",
         "21.11",
         "0.0",
         "61594.0",
         "1",
         "8326511000100",
         "UNICOOB CORRETORA DE SEGUROS LTDA",
         null,
         null,
         "PJ",
         "99",
         "AUTOMOVEL/CAMINHAO",
         "87025-647",
         "MARINGÁ",
         "PR"
        ],
        [
         "29",
         "213677",
         "2023011905310172426",
         "000001R",
         null,
         "ENDOSSO DE RESTITUIÇÃO DE PREMIO",
         "EXPIRADO",
         "5",
         "31",
         "AUTOMÓVEL - CASCO",
         "2024-07-09 00:00:00",
         "2024-07-02 00:00:00",
         "2024-10-08 00:00:00",
         "0.04",
         "0.0",
         "0.0",
         "0.0",
         "116836.0",
         "2",
         "8326511000100",
         "UNICOOB CORRETORA DE SEGUROS LTDA",
         "1996-07-26 00:00:00",
         "FEMININO",
         "PF",
         "99",
         "AUTOMOVEL/CAMINHAO",
         "87050-170",
         "MARINGÁ",
         "PR"
        ],
        [
         "30",
         "208027",
         "2023011905310167598",
         "000001T",
         "0.0",
         "ENDOSSO DE CANCELAMENTO COM RESTITUIÇÃO DE PREMIO",
         "CANCELADO",
         "5",
         "31",
         "AUTOMÓVEL - CASCO",
         "2024-07-09 00:00:00",
         "2024-07-09 00:00:00",
         "2024-07-29 00:00:00",
         "0.0",
         "0.0",
         "0.0",
         "0.0",
         "68098.0",
         "0",
         "8326511000100",
         "UNICOOB CORRETORA DE SEGUROS LTDA",
         "1962-09-27 00:00:00",
         "FEMININO",
         "PF",
         "99",
         "AUTOMOVEL/CAMINHAO",
         "85904-000",
         "TOLEDO",
         "PR"
        ],
        [
         "31",
         "208067",
         "2023011905310167608",
         "000001T",
         "0.0",
         "ENDOSSO DE CANCELAMENTO SEM RESTITUIÇÃO DE PREMIO",
         "CANCELADO",
         "5",
         "31",
         "AUTOMÓVEL - CASCO",
         "2024-07-10 00:00:00",
         "2024-07-10 00:00:00",
         "2024-08-05 00:00:00",
         "411.61",
         "61.77",
         "30.37",
         "0.0",
         "85678.0",
         "1",
         "8326511000100",
         "UNICOOB CORRETORA DE SEGUROS LTDA",
         "1965-05-16 00:00:00",
         "MASCULINO",
         "PF",
         "99",
         "AUTOMOVEL/CAMINHAO",
         "85948-000",
         "PATO BRAGADO",
         "PR"
        ],
        [
         "32",
         "208276",
         "2023011905310167777",
         "000002A",
         null,
         "ENDOSSO DE COBRANÇA ADICIONAL DE PREMIO",
         "EXPIRADO",
         "5",
         "31",
         "AUTOMÓVEL - CASCO",
         "2024-07-02 00:00:00",
         "2024-06-10 00:00:00",
         "2024-07-28 00:00:00",
         "0.08",
         "0.0",
         "0.0",
         "0.0",
         "93163.0",
         "2",
         "8326511000100",
         "UNICOOB CORRETORA DE SEGUROS LTDA",
         "1971-06-14 00:00:00",
         "MASCULINO",
         "PF",
         "99",
         "AUTOMOVEL/CAMINHAO",
         "87060-668",
         "MARINGÁ",
         "PR"
        ],
        [
         "33",
         "208718",
         "2023011905310168300",
         "000001T",
         "0.0",
         "ENDOSSO DE CANCELAMENTO COM RESTITUIÇÃO DE PREMIO",
         "CANCELADO",
         "5",
         "31",
         "AUTOMÓVEL - CASCO",
         "2024-07-23 00:00:00",
         "2024-07-23 00:00:00",
         "2024-08-02 00:00:00",
         "0.0",
         "0.0",
         "0.0",
         "0.0",
         "70167.0",
         "0",
         "8326511000100",
         "UNICOOB CORRETORA DE SEGUROS LTDA",
         "1993-05-18 00:00:00",
         "FEMININO",
         "PF",
         "99",
         "AUTOMOVEL/CAMINHAO",
         "87710-160",
         "PARANAVAÍ",
         "PR"
        ],
        [
         "34",
         "209547",
         "2023011905310169419",
         "000001R",
         "0.0",
         "ENDOSSO DE RESTITUIÇÃO DE PREMIO",
         "CANCELADO",
         "5",
         "31",
         "AUTOMÓVEL - CASCO",
         "2024-07-23 00:00:00",
         "2024-07-23 00:00:00",
         "2024-08-10 00:00:00",
         "88.38",
         "10.61",
         "0.0",
         "0.0",
         "156727.0",
         "1",
         "8326511000100",
         "UNICOOB CORRETORA DE SEGUROS LTDA",
         null,
         null,
         "PJ",
         "99",
         "AUTOMOVEL/CAMINHAO",
         "87080-025",
         "MARINGÁ",
         "PR"
        ],
        [
         "35",
         "209547",
         "2023011905310169419",
         "000001T",
         "0.0",
         "ENDOSSO DE CANCELAMENTO COM RESTITUIÇÃO DE PREMIO",
         "CANCELADO",
         "5",
         "31",
         "AUTOMÓVEL - CASCO",
         "2024-07-23 00:00:00",
         "2024-07-23 00:00:00",
         "2024-08-10 00:00:00",
         "0.0",
         "0.0",
         "0.0",
         "0.0",
         "156727.0",
         "0",
         "8326511000100",
         "UNICOOB CORRETORA DE SEGUROS LTDA",
         null,
         null,
         "PJ",
         "99",
         "AUTOMOVEL/CAMINHAO",
         "87080-025",
         "MARINGÁ",
         "PR"
        ],
        [
         "36",
         "209342",
         "2023011905310168765",
         "000001A",
         null,
         "ENDOSSO DE COBRANÇA ADICIONAL DE PREMIO",
         "EXPIRADO",
         "5",
         "31",
         "AUTOMÓVEL - CASCO",
         "2024-07-17 00:00:00",
         "2024-07-08 00:00:00",
         "2024-08-09 00:00:00",
         "82.92",
         "8.3",
         "6.12",
         "0.0",
         "39252.0",
         "1",
         "8326511000100",
         "UNICOOB CORRETORA DE SEGUROS LTDA",
         "1982-06-09 00:00:00",
         "FEMININO",
         "PF",
         "99",
         "AUTOMOVEL/CAMINHAO",
         "87250-000",
         "PEABIRU",
         "PR"
        ],
        [
         "37",
         "209431",
         "2023011905310168804",
         "000001A",
         null,
         "ENDOSSO DE COBRANÇA ADICIONAL DE PREMIO",
         "EXPIRADO",
         "5",
         "31",
         "AUTOMÓVEL - CASCO",
         "2024-06-25 00:00:00",
         "2024-06-20 00:00:00",
         "2024-08-20 00:00:00",
         "106.06",
         "13.79",
         "7.83",
         "0.0",
         "86604.0",
         "1",
         "8326511000100",
         "UNICOOB CORRETORA DE SEGUROS LTDA",
         "1955-02-13 00:00:00",
         "MASCULINO",
         "PF",
         "99",
         "AUTOMOVEL/CAMINHAO",
         "81850-260",
         "CURITIBA",
         "PR"
        ],
        [
         "38",
         "209607",
         "2023011905310168899",
         "000001A",
         null,
         "ENDOSSO DE COBRANÇA ADICIONAL DE PREMIO",
         "EXPIRADO",
         "5",
         "31",
         "AUTOMÓVEL - CASCO",
         "2024-07-03 00:00:00",
         "2024-06-26 00:00:00",
         "2024-08-14 00:00:00",
         "0.0",
         "0.0",
         "0.0",
         "0.0",
         "56574.0",
         "0",
         "8326511000100",
         "UNICOOB CORRETORA DE SEGUROS LTDA",
         "1993-08-30 00:00:00",
         "FEMININO",
         "PF",
         "99",
         "AUTOMOVEL/CAMINHAO",
         "85504-594",
         "PATO BRANCO",
         "PR"
        ],
        [
         "39",
         "209629",
         "2023011905310168902",
         "000001T",
         "0.0",
         "ENDOSSO DE CANCELAMENTO COM RESTITUIÇÃO DE PREMIO",
         "CANCELADO",
         "5",
         "31",
         "AUTOMÓVEL - CASCO",
         "2024-07-26 00:00:00",
         "2024-07-26 00:00:00",
         "2024-08-11 00:00:00",
         "0.0",
         "0.0",
         "0.0",
         "0.0",
         "25404.0",
         "0",
         "8326511000100",
         "UNICOOB CORRETORA DE SEGUROS LTDA",
         "1966-09-28 00:00:00",
         "MASCULINO",
         "PF",
         "99",
         "AUTOMOVEL/CAMINHAO",
         "85903-450",
         "TOLEDO",
         "PR"
        ],
        [
         "40",
         "210263",
         "2023011905310169467",
         "000001T",
         "0.0",
         "ENDOSSO DE CANCELAMENTO SEM RESTITUIÇÃO DE PREMIO",
         "CANCELADO",
         "5",
         "31",
         "AUTOMÓVEL - CASCO",
         "2024-07-24 00:00:00",
         "2024-07-24 00:00:00",
         "2024-08-19 00:00:00",
         "376.68",
         "90.45",
         "27.8",
         "0.0",
         "86429.0",
         "1",
         "8326511000100",
         "UNICOOB CORRETORA DE SEGUROS LTDA",
         "1988-03-18 00:00:00",
         "MASCULINO",
         "PF",
         "99",
         "AUTOMOVEL/CAMINHAO",
         "84950-000",
         "WENCESLAU BRAZ",
         "PR"
        ],
        [
         "41",
         "211455",
         "2023011905310170582",
         "000001T",
         "0.0",
         "ENDOSSO DE CANCELAMENTO SEM RESTITUIÇÃO DE PREMIO",
         "CANCELADO",
         "5",
         "31",
         "AUTOMÓVEL - CASCO",
         "2024-07-08 00:00:00",
         "2024-07-08 00:00:00",
         "2024-09-03 00:00:00",
         "276.41",
         "27.64",
         "20.4",
         "0.0",
         "96382.0",
         "1",
         "8326511000100",
         "UNICOOB CORRETORA DE SEGUROS LTDA",
         "1966-10-15 00:00:00",
         "MASCULINO",
         "PF",
         "99",
         "AUTOMOVEL/CAMINHAO",
         "87770-000",
         "SÃO CARLOS DO IVAÍ",
         "PR"
        ],
        [
         "42",
         "211524",
         "2023011905310170706",
         "000002T",
         "0.0",
         "ENDOSSO DE CANCELAMENTO SEM RESTITUIÇÃO DE PREMIO",
         "CANCELADO",
         "5",
         "31",
         "AUTOMÓVEL - CASCO",
         "2024-07-10 00:00:00",
         "2024-07-10 00:00:00",
         "2024-09-01 00:00:00",
         "757.46",
         "75.78",
         "55.9",
         "0.0",
         "81113.0",
         "2",
         "8326511000100",
         "UNICOOB CORRETORA DE SEGUROS LTDA",
         null,
         null,
         "PJ",
         "99",
         "AUTOMOVEL/CAMINHAO",
         "87065-290",
         "MARINGÁ",
         "PR"
        ],
        [
         "43",
         "212077",
         "2023011905310171102",
         "000001A",
         null,
         "ENDOSSO DE COBRANÇA ADICIONAL DE PREMIO",
         "EXPIRADO",
         "5",
         "31",
         "AUTOMÓVEL - CASCO",
         "2024-08-06 00:00:00",
         "2024-07-29 00:00:00",
         "2024-09-12 00:00:00",
         "70.5",
         "7.05",
         "5.2",
         "0.0",
         "121661.0",
         "1",
         "8326511000100",
         "UNICOOB CORRETORA DE SEGUROS LTDA",
         "1966-02-02 00:00:00",
         "MASCULINO",
         "PF",
         "99",
         "AUTOMOVEL/CAMINHAO",
         "87023-419",
         "MARINGÁ",
         "PR"
        ],
        [
         "44",
         "212702",
         "2023011905310171614",
         "000001R",
         "0.0",
         "ENDOSSO DE RESTITUIÇÃO DE PREMIO",
         "CANCELADO",
         "5",
         "31",
         "AUTOMÓVEL - CASCO",
         "2024-06-07 00:00:00",
         "2024-06-07 00:00:00",
         "2024-09-16 00:00:00",
         "296.03",
         "29.52",
         "0.0",
         "0.0",
         "124782.0",
         "1",
         "8326511000100",
         "UNICOOB CORRETORA DE SEGUROS LTDA",
         "1980-12-08 00:00:00",
         "FEMININO",
         "PF",
         "99",
         "AUTOMOVEL/CAMINHAO",
         "85835-000",
         "JESUÍTAS",
         "PR"
        ],
        [
         "45",
         "213094",
         "2023011905310171922",
         "000001T",
         "0.0",
         "ENDOSSO DE CANCELAMENTO SEM RESTITUIÇÃO DE PREMIO",
         "CANCELADO",
         "5",
         "31",
         "AUTOMÓVEL - CASCO",
         "2024-08-01 00:00:00",
         "2024-08-01 00:00:00",
         "2024-09-25 00:00:00",
         "0.0",
         "0.0",
         "0.0",
         "0.0",
         "143754.0",
         "0",
         "8326511000100",
         "UNICOOB CORRETORA DE SEGUROS LTDA",
         "1952-03-25 00:00:00",
         "FEMININO",
         "PF",
         "99",
         "AUTOMOVEL/CAMINHAO",
         "85140-000",
         "CANDÓI",
         "PR"
        ],
        [
         "46",
         "213316",
         "2023011905310172121",
         "000001T",
         "0.0",
         "ENDOSSO DE CANCELAMENTO COM RESTITUIÇÃO DE PREMIO",
         "CANCELADO",
         "5",
         "31",
         "AUTOMÓVEL - CASCO",
         "2024-07-29 00:00:00",
         "2024-07-29 00:00:00",
         "2024-09-23 00:00:00",
         "0.0",
         "0.0",
         "0.0",
         "0.0",
         "34160.0",
         "0",
         "8326511000100",
         "UNICOOB CORRETORA DE SEGUROS LTDA",
         "1990-04-03 00:00:00",
         "FEMININO",
         "PF",
         "99",
         "AUTOMOVEL/CAMINHAO",
         "83750-000",
         "LAPA",
         "PR"
        ],
        [
         "47",
         "213747",
         "2023011905310172480",
         "000001T",
         "0.0",
         "ENDOSSO DE CANCELAMENTO SEM RESTITUIÇÃO DE PREMIO",
         "CANCELADO",
         "5",
         "31",
         "AUTOMÓVEL - CASCO",
         "2024-07-02 00:00:00",
         "2024-07-02 00:00:00",
         "2024-09-26 00:00:00",
         "661.4",
         "66.19",
         "48.81",
         "0.0",
         "34160.0",
         "3",
         "8326511000100",
         "UNICOOB CORRETORA DE SEGUROS LTDA",
         "1978-11-22 00:00:00",
         "MASCULINO",
         "PF",
         "99",
         "AUTOMOVEL/CAMINHAO",
         "85803-176",
         "CASCAVEL",
         "PR"
        ],
        [
         "48",
         "209990",
         "2023011905310169242",
         "000001A",
         null,
         "ENDOSSO DE COBRANÇA ADICIONAL DE PREMIO",
         "EXPIRADO",
         "5",
         "31",
         "AUTOMÓVEL - CASCO",
         "2024-06-26 00:00:00",
         "2024-06-11 00:00:00",
         "2024-08-30 00:00:00",
         "33.59",
         "5.36",
         "0.0",
         "0.0",
         "60670.0",
         "2",
         "8326511000100",
         "UNICOOB CORRETORA DE SEGUROS LTDA",
         "1963-12-01 00:00:00",
         "FEMININO",
         "PF",
         "99",
         "AUTOMOVEL/CAMINHAO",
         "85770-000",
         "REALEZA",
         "PR"
        ],
        [
         "49",
         "210638",
         "2023011905310170034",
         "000001T",
         "0.0",
         "ENDOSSO DE CANCELAMENTO SEM RESTITUIÇÃO DE PREMIO",
         "CANCELADO",
         "5",
         "31",
         "AUTOMÓVEL - CASCO",
         "2024-06-30 00:00:00",
         "2024-06-30 00:00:00",
         "2024-08-23 00:00:00",
         "618.54",
         "92.79",
         "45.64",
         "0.0",
         "62407.0",
         "2",
         "8326511000100",
         "UNICOOB CORRETORA DE SEGUROS LTDA",
         "1978-10-23 00:00:00",
         "MASCULINO",
         "PF",
         "99",
         "AUTOMOVEL/CAMINHAO",
         "87750-000",
         "ALTO PARANÁ",
         "PR"
        ]
       ],
       "shape": {
        "columns": 28,
        "rows": 172455
       }
      },
      "text/html": [
       "<div>\n",
       "<style scoped>\n",
       "    .dataframe tbody tr th:only-of-type {\n",
       "        vertical-align: middle;\n",
       "    }\n",
       "\n",
       "    .dataframe tbody tr th {\n",
       "        vertical-align: top;\n",
       "    }\n",
       "\n",
       "    .dataframe thead th {\n",
       "        text-align: right;\n",
       "    }\n",
       "</style>\n",
       "<table border=\"1\" class=\"dataframe\">\n",
       "  <thead>\n",
       "    <tr style=\"text-align: right;\">\n",
       "      <th></th>\n",
       "      <th>nr_proposta</th>\n",
       "      <th>nr_apolice</th>\n",
       "      <th>nr_endosso</th>\n",
       "      <th>nr_endosso_associado</th>\n",
       "      <th>ds_endosso</th>\n",
       "      <th>status_apolice</th>\n",
       "      <th>id_grp_ramo</th>\n",
       "      <th>nm_ramo</th>\n",
       "      <th>nm_grp_ramo</th>\n",
       "      <th>dt_emissao_mvto</th>\n",
       "      <th>dt_inicio_vigencia</th>\n",
       "      <th>dt_fim_vigencia</th>\n",
       "      <th>vl_premio_comercial</th>\n",
       "      <th>vl_custo_aquisicao</th>\n",
       "      <th>vl_iof</th>\n",
       "      <th>vl_adicional_fracionamento</th>\n",
       "      <th>vl_is</th>\n",
       "      <th>nr_total_fracionamento</th>\n",
       "      <th>cpf_cnpj</th>\n",
       "      <th>razao_social</th>\n",
       "      <th>dt_nascimento</th>\n",
       "      <th>sexo</th>\n",
       "      <th>tipo_pessoa</th>\n",
       "      <th>cd_produto</th>\n",
       "      <th>nm_produto</th>\n",
       "      <th>cep</th>\n",
       "      <th>cidade</th>\n",
       "      <th>uf</th>\n",
       "    </tr>\n",
       "  </thead>\n",
       "  <tbody>\n",
       "    <tr>\n",
       "      <th>0</th>\n",
       "      <td>205775</td>\n",
       "      <td>2023011905310165685</td>\n",
       "      <td>000001T</td>\n",
       "      <td>0.0</td>\n",
       "      <td>ENDOSSO DE CANCELAMENTO SEM RESTITUIÇÃO DE PREMIO</td>\n",
       "      <td>CANCELADO</td>\n",
       "      <td>5</td>\n",
       "      <td>31</td>\n",
       "      <td>AUTOMÓVEL - CASCO</td>\n",
       "      <td>2024-08-06</td>\n",
       "      <td>2024-07-07</td>\n",
       "      <td>2024-07-08</td>\n",
       "      <td>0.00</td>\n",
       "      <td>0.00</td>\n",
       "      <td>0.00</td>\n",
       "      <td>0.0</td>\n",
       "      <td>51870.00</td>\n",
       "      <td>0</td>\n",
       "      <td>8326511000100</td>\n",
       "      <td>UNICOOB CORRETORA DE SEGUROS LTDA</td>\n",
       "      <td>1958-12-06</td>\n",
       "      <td>MASCULINO</td>\n",
       "      <td>PF</td>\n",
       "      <td>99</td>\n",
       "      <td>AUTOMOVEL/CAMINHAO</td>\n",
       "      <td>85550-000</td>\n",
       "      <td>CORONEL VIVIDA</td>\n",
       "      <td>PR</td>\n",
       "    </tr>\n",
       "    <tr>\n",
       "      <th>1</th>\n",
       "      <td>206438</td>\n",
       "      <td>2023011905310166200</td>\n",
       "      <td>000001T</td>\n",
       "      <td>0.0</td>\n",
       "      <td>ENDOSSO DE CANCELAMENTO SEM RESTITUIÇÃO DE PREMIO</td>\n",
       "      <td>CANCELADO</td>\n",
       "      <td>5</td>\n",
       "      <td>31</td>\n",
       "      <td>AUTOMÓVEL - CASCO</td>\n",
       "      <td>2024-08-22</td>\n",
       "      <td>2024-07-12</td>\n",
       "      <td>2024-07-13</td>\n",
       "      <td>0.00</td>\n",
       "      <td>0.00</td>\n",
       "      <td>0.00</td>\n",
       "      <td>0.0</td>\n",
       "      <td>56513.00</td>\n",
       "      <td>0</td>\n",
       "      <td>8326511000100</td>\n",
       "      <td>UNICOOB CORRETORA DE SEGUROS LTDA</td>\n",
       "      <td>1961-01-03</td>\n",
       "      <td>MASCULINO</td>\n",
       "      <td>PF</td>\n",
       "      <td>99</td>\n",
       "      <td>AUTOMOVEL/CAMINHAO</td>\n",
       "      <td>85440-000</td>\n",
       "      <td>UBIRATÃ</td>\n",
       "      <td>PR</td>\n",
       "    </tr>\n",
       "    <tr>\n",
       "      <th>2</th>\n",
       "      <td>207799</td>\n",
       "      <td>2023011905310167362</td>\n",
       "      <td>000001R</td>\n",
       "      <td>0.0</td>\n",
       "      <td>ENDOSSO DE RESTITUIÇÃO DE PREMIO</td>\n",
       "      <td>CANCELADO</td>\n",
       "      <td>5</td>\n",
       "      <td>31</td>\n",
       "      <td>AUTOMÓVEL - CASCO</td>\n",
       "      <td>2024-07-01</td>\n",
       "      <td>2024-07-01</td>\n",
       "      <td>2024-07-31</td>\n",
       "      <td>63.22</td>\n",
       "      <td>6.32</td>\n",
       "      <td>0.00</td>\n",
       "      <td>0.0</td>\n",
       "      <td>43516.00</td>\n",
       "      <td>1</td>\n",
       "      <td>8326511000100</td>\n",
       "      <td>UNICOOB CORRETORA DE SEGUROS LTDA</td>\n",
       "      <td>1982-03-23</td>\n",
       "      <td>MASCULINO</td>\n",
       "      <td>PF</td>\n",
       "      <td>99</td>\n",
       "      <td>AUTOMOVEL/CAMINHAO</td>\n",
       "      <td>87470-000</td>\n",
       "      <td>MARILUZ</td>\n",
       "      <td>PR</td>\n",
       "    </tr>\n",
       "    <tr>\n",
       "      <th>3</th>\n",
       "      <td>208027</td>\n",
       "      <td>2023011905310167598</td>\n",
       "      <td>000001R</td>\n",
       "      <td>0.0</td>\n",
       "      <td>ENDOSSO DE RESTITUIÇÃO DE PREMIO</td>\n",
       "      <td>CANCELADO</td>\n",
       "      <td>5</td>\n",
       "      <td>31</td>\n",
       "      <td>AUTOMÓVEL - CASCO</td>\n",
       "      <td>2024-07-09</td>\n",
       "      <td>2024-07-09</td>\n",
       "      <td>2024-07-29</td>\n",
       "      <td>27.14</td>\n",
       "      <td>2.71</td>\n",
       "      <td>0.00</td>\n",
       "      <td>0.0</td>\n",
       "      <td>68098.00</td>\n",
       "      <td>1</td>\n",
       "      <td>8326511000100</td>\n",
       "      <td>UNICOOB CORRETORA DE SEGUROS LTDA</td>\n",
       "      <td>1962-09-27</td>\n",
       "      <td>FEMININO</td>\n",
       "      <td>PF</td>\n",
       "      <td>99</td>\n",
       "      <td>AUTOMOVEL/CAMINHAO</td>\n",
       "      <td>85904-000</td>\n",
       "      <td>TOLEDO</td>\n",
       "      <td>PR</td>\n",
       "    </tr>\n",
       "    <tr>\n",
       "      <th>4</th>\n",
       "      <td>208276</td>\n",
       "      <td>2023011905310167777</td>\n",
       "      <td>000002R</td>\n",
       "      <td>NaN</td>\n",
       "      <td>ENDOSSO DE RESTITUIÇÃO DE PREMIO</td>\n",
       "      <td>EXPIRADO</td>\n",
       "      <td>5</td>\n",
       "      <td>31</td>\n",
       "      <td>AUTOMÓVEL - CASCO</td>\n",
       "      <td>2024-07-02</td>\n",
       "      <td>2024-06-10</td>\n",
       "      <td>2024-07-28</td>\n",
       "      <td>148.77</td>\n",
       "      <td>14.87</td>\n",
       "      <td>7.22</td>\n",
       "      <td>0.0</td>\n",
       "      <td>93163.00</td>\n",
       "      <td>2</td>\n",
       "      <td>8326511000100</td>\n",
       "      <td>UNICOOB CORRETORA DE SEGUROS LTDA</td>\n",
       "      <td>1971-06-14</td>\n",
       "      <td>MASCULINO</td>\n",
       "      <td>PF</td>\n",
       "      <td>99</td>\n",
       "      <td>AUTOMOVEL/CAMINHAO</td>\n",
       "      <td>87060-668</td>\n",
       "      <td>MARINGÁ</td>\n",
       "      <td>PR</td>\n",
       "    </tr>\n",
       "    <tr>\n",
       "      <th>...</th>\n",
       "      <td>...</td>\n",
       "      <td>...</td>\n",
       "      <td>...</td>\n",
       "      <td>...</td>\n",
       "      <td>...</td>\n",
       "      <td>...</td>\n",
       "      <td>...</td>\n",
       "      <td>...</td>\n",
       "      <td>...</td>\n",
       "      <td>...</td>\n",
       "      <td>...</td>\n",
       "      <td>...</td>\n",
       "      <td>...</td>\n",
       "      <td>...</td>\n",
       "      <td>...</td>\n",
       "      <td>...</td>\n",
       "      <td>...</td>\n",
       "      <td>...</td>\n",
       "      <td>...</td>\n",
       "      <td>...</td>\n",
       "      <td>...</td>\n",
       "      <td>...</td>\n",
       "      <td>...</td>\n",
       "      <td>...</td>\n",
       "      <td>...</td>\n",
       "      <td>...</td>\n",
       "      <td>...</td>\n",
       "      <td>...</td>\n",
       "    </tr>\n",
       "    <tr>\n",
       "      <th>172450</th>\n",
       "      <td>98226570</td>\n",
       "      <td>1009811000080</td>\n",
       "      <td>49</td>\n",
       "      <td>0.0</td>\n",
       "      <td>COBRANÇA</td>\n",
       "      <td>EXPIRADA ULTIMO ENDOSSO, PORÉM ENDOSSO 0 VIGENTE</td>\n",
       "      <td>11</td>\n",
       "      <td>98</td>\n",
       "      <td>RURAL</td>\n",
       "      <td>2025-07-10</td>\n",
       "      <td>2025-05-31</td>\n",
       "      <td>2025-06-30</td>\n",
       "      <td>2666.30</td>\n",
       "      <td>1066.52</td>\n",
       "      <td>0.00</td>\n",
       "      <td>0.0</td>\n",
       "      <td>1271836.25</td>\n",
       "      <td>1</td>\n",
       "      <td>8326511000100</td>\n",
       "      <td>UNICOOB CORRETORA DE SEGUROS LTDA</td>\n",
       "      <td>NaT</td>\n",
       "      <td>NaN</td>\n",
       "      <td>PJ</td>\n",
       "      <td>413</td>\n",
       "      <td>SANCOR SEGUROS VIDA RURAL TM VINCULADO</td>\n",
       "      <td>86010390</td>\n",
       "      <td>LONDRINA</td>\n",
       "      <td>PR</td>\n",
       "    </tr>\n",
       "    <tr>\n",
       "      <th>172451</th>\n",
       "      <td>98226573</td>\n",
       "      <td>1009811000069</td>\n",
       "      <td>61</td>\n",
       "      <td>0.0</td>\n",
       "      <td>COBRANÇA</td>\n",
       "      <td>EXPIRADA ULTIMO ENDOSSO, PORÉM ENDOSSO 0 VIGENTE</td>\n",
       "      <td>11</td>\n",
       "      <td>98</td>\n",
       "      <td>RURAL</td>\n",
       "      <td>2025-07-11</td>\n",
       "      <td>2025-05-31</td>\n",
       "      <td>2025-06-30</td>\n",
       "      <td>54.35</td>\n",
       "      <td>21.74</td>\n",
       "      <td>0.00</td>\n",
       "      <td>0.0</td>\n",
       "      <td>70945.40</td>\n",
       "      <td>1</td>\n",
       "      <td>8326511000100</td>\n",
       "      <td>UNICOOB CORRETORA DE SEGUROS LTDA</td>\n",
       "      <td>NaT</td>\n",
       "      <td>NaN</td>\n",
       "      <td>PJ</td>\n",
       "      <td>413</td>\n",
       "      <td>SANCOR SEGUROS VIDA RURAL TM VINCULADO</td>\n",
       "      <td>85601260</td>\n",
       "      <td>FRANCISCO BELTRÃO</td>\n",
       "      <td>PR</td>\n",
       "    </tr>\n",
       "    <tr>\n",
       "      <th>172452</th>\n",
       "      <td>9836</td>\n",
       "      <td>1008113002532</td>\n",
       "      <td>11</td>\n",
       "      <td>0.0</td>\n",
       "      <td>COBRANÇA</td>\n",
       "      <td>EXPIRADA ENDOSSO 0 E ÚLTIMO ENDOSSO</td>\n",
       "      <td>13</td>\n",
       "      <td>81</td>\n",
       "      <td>PESSOAS INDIVIDUAL</td>\n",
       "      <td>2024-10-28</td>\n",
       "      <td>2024-12-09</td>\n",
       "      <td>2025-12-09</td>\n",
       "      <td>216.46</td>\n",
       "      <td>64.92</td>\n",
       "      <td>0.82</td>\n",
       "      <td>0.0</td>\n",
       "      <td>1052190.96</td>\n",
       "      <td>12</td>\n",
       "      <td>8326511000100</td>\n",
       "      <td>UNICOOB CORRETORA DE SEGUROS LTDA</td>\n",
       "      <td>1964-03-01</td>\n",
       "      <td>MASCULINO</td>\n",
       "      <td>PF</td>\n",
       "      <td>64</td>\n",
       "      <td>SANCOR SEGUROS AP PREMIADO</td>\n",
       "      <td>85900040</td>\n",
       "      <td>TOLEDO</td>\n",
       "      <td>PR</td>\n",
       "    </tr>\n",
       "    <tr>\n",
       "      <th>172453</th>\n",
       "      <td>99</td>\n",
       "      <td>1011401000006</td>\n",
       "      <td>0</td>\n",
       "      <td>NaN</td>\n",
       "      <td>APÓLICE</td>\n",
       "      <td>VIGENTE</td>\n",
       "      <td>1</td>\n",
       "      <td>14</td>\n",
       "      <td>PATRIMONIAL</td>\n",
       "      <td>2025-01-27</td>\n",
       "      <td>2025-01-24</td>\n",
       "      <td>2026-01-24</td>\n",
       "      <td>0.00</td>\n",
       "      <td>0.00</td>\n",
       "      <td>0.00</td>\n",
       "      <td>0.0</td>\n",
       "      <td>NaN</td>\n",
       "      <td>0</td>\n",
       "      <td>8326511000100</td>\n",
       "      <td>UNICOOB CORRETORA DE SEGUROS LTDA</td>\n",
       "      <td>1966-05-04</td>\n",
       "      <td>MASCULINO</td>\n",
       "      <td>PF</td>\n",
       "      <td>17</td>\n",
       "      <td>RESIDENCIAL FÁCIL</td>\n",
       "      <td>86067970</td>\n",
       "      <td>LONDRINA</td>\n",
       "      <td>PR</td>\n",
       "    </tr>\n",
       "    <tr>\n",
       "      <th>172454</th>\n",
       "      <td>990</td>\n",
       "      <td>1011401000232</td>\n",
       "      <td>2000000</td>\n",
       "      <td>NaN</td>\n",
       "      <td>CANCELAMENTO</td>\n",
       "      <td>VIGENTE</td>\n",
       "      <td>1</td>\n",
       "      <td>14</td>\n",
       "      <td>PATRIMONIAL</td>\n",
       "      <td>2025-07-21</td>\n",
       "      <td>2025-06-10</td>\n",
       "      <td>2026-06-10</td>\n",
       "      <td>0.00</td>\n",
       "      <td>0.00</td>\n",
       "      <td>0.00</td>\n",
       "      <td>0.0</td>\n",
       "      <td>NaN</td>\n",
       "      <td>0</td>\n",
       "      <td>8326511000100</td>\n",
       "      <td>UNICOOB CORRETORA DE SEGUROS LTDA</td>\n",
       "      <td>1995-12-14</td>\n",
       "      <td>FEMININO</td>\n",
       "      <td>PF</td>\n",
       "      <td>17</td>\n",
       "      <td>RESIDENCIAL FÁCIL</td>\n",
       "      <td>13456625</td>\n",
       "      <td>SANTA BÁRBARA D'OESTE</td>\n",
       "      <td>SP</td>\n",
       "    </tr>\n",
       "  </tbody>\n",
       "</table>\n",
       "<p>172455 rows × 28 columns</p>\n",
       "</div>"
      ],
      "text/plain": [
       "        nr_proposta           nr_apolice nr_endosso  nr_endosso_associado  \\\n",
       "0            205775  2023011905310165685    000001T                   0.0   \n",
       "1            206438  2023011905310166200    000001T                   0.0   \n",
       "2            207799  2023011905310167362    000001R                   0.0   \n",
       "3            208027  2023011905310167598    000001R                   0.0   \n",
       "4            208276  2023011905310167777    000002R                   NaN   \n",
       "...             ...                  ...        ...                   ...   \n",
       "172450     98226570        1009811000080         49                   0.0   \n",
       "172451     98226573        1009811000069         61                   0.0   \n",
       "172452         9836        1008113002532         11                   0.0   \n",
       "172453           99        1011401000006          0                   NaN   \n",
       "172454          990        1011401000232    2000000                   NaN   \n",
       "\n",
       "                                               ds_endosso  \\\n",
       "0       ENDOSSO DE CANCELAMENTO SEM RESTITUIÇÃO DE PREMIO   \n",
       "1       ENDOSSO DE CANCELAMENTO SEM RESTITUIÇÃO DE PREMIO   \n",
       "2                        ENDOSSO DE RESTITUIÇÃO DE PREMIO   \n",
       "3                        ENDOSSO DE RESTITUIÇÃO DE PREMIO   \n",
       "4                        ENDOSSO DE RESTITUIÇÃO DE PREMIO   \n",
       "...                                                   ...   \n",
       "172450                                           COBRANÇA   \n",
       "172451                                           COBRANÇA   \n",
       "172452                                           COBRANÇA   \n",
       "172453                                            APÓLICE   \n",
       "172454                                       CANCELAMENTO   \n",
       "\n",
       "                                          status_apolice id_grp_ramo nm_ramo  \\\n",
       "0                                              CANCELADO           5      31   \n",
       "1                                              CANCELADO           5      31   \n",
       "2                                              CANCELADO           5      31   \n",
       "3                                              CANCELADO           5      31   \n",
       "4                                               EXPIRADO           5      31   \n",
       "...                                                  ...         ...     ...   \n",
       "172450  EXPIRADA ULTIMO ENDOSSO, PORÉM ENDOSSO 0 VIGENTE          11      98   \n",
       "172451  EXPIRADA ULTIMO ENDOSSO, PORÉM ENDOSSO 0 VIGENTE          11      98   \n",
       "172452               EXPIRADA ENDOSSO 0 E ÚLTIMO ENDOSSO          13      81   \n",
       "172453                                           VIGENTE           1      14   \n",
       "172454                                           VIGENTE           1      14   \n",
       "\n",
       "               nm_grp_ramo dt_emissao_mvto dt_inicio_vigencia dt_fim_vigencia  \\\n",
       "0        AUTOMÓVEL - CASCO      2024-08-06         2024-07-07      2024-07-08   \n",
       "1        AUTOMÓVEL - CASCO      2024-08-22         2024-07-12      2024-07-13   \n",
       "2        AUTOMÓVEL - CASCO      2024-07-01         2024-07-01      2024-07-31   \n",
       "3        AUTOMÓVEL - CASCO      2024-07-09         2024-07-09      2024-07-29   \n",
       "4        AUTOMÓVEL - CASCO      2024-07-02         2024-06-10      2024-07-28   \n",
       "...                    ...             ...                ...             ...   \n",
       "172450               RURAL      2025-07-10         2025-05-31      2025-06-30   \n",
       "172451               RURAL      2025-07-11         2025-05-31      2025-06-30   \n",
       "172452  PESSOAS INDIVIDUAL      2024-10-28         2024-12-09      2025-12-09   \n",
       "172453         PATRIMONIAL      2025-01-27         2025-01-24      2026-01-24   \n",
       "172454         PATRIMONIAL      2025-07-21         2025-06-10      2026-06-10   \n",
       "\n",
       "        vl_premio_comercial  vl_custo_aquisicao  vl_iof  \\\n",
       "0                      0.00                0.00    0.00   \n",
       "1                      0.00                0.00    0.00   \n",
       "2                     63.22                6.32    0.00   \n",
       "3                     27.14                2.71    0.00   \n",
       "4                    148.77               14.87    7.22   \n",
       "...                     ...                 ...     ...   \n",
       "172450              2666.30             1066.52    0.00   \n",
       "172451                54.35               21.74    0.00   \n",
       "172452               216.46               64.92    0.82   \n",
       "172453                 0.00                0.00    0.00   \n",
       "172454                 0.00                0.00    0.00   \n",
       "\n",
       "        vl_adicional_fracionamento       vl_is nr_total_fracionamento  \\\n",
       "0                              0.0    51870.00                      0   \n",
       "1                              0.0    56513.00                      0   \n",
       "2                              0.0    43516.00                      1   \n",
       "3                              0.0    68098.00                      1   \n",
       "4                              0.0    93163.00                      2   \n",
       "...                            ...         ...                    ...   \n",
       "172450                         0.0  1271836.25                      1   \n",
       "172451                         0.0    70945.40                      1   \n",
       "172452                         0.0  1052190.96                     12   \n",
       "172453                         0.0         NaN                      0   \n",
       "172454                         0.0         NaN                      0   \n",
       "\n",
       "             cpf_cnpj                       razao_social dt_nascimento  \\\n",
       "0       8326511000100  UNICOOB CORRETORA DE SEGUROS LTDA    1958-12-06   \n",
       "1       8326511000100  UNICOOB CORRETORA DE SEGUROS LTDA    1961-01-03   \n",
       "2       8326511000100  UNICOOB CORRETORA DE SEGUROS LTDA    1982-03-23   \n",
       "3       8326511000100  UNICOOB CORRETORA DE SEGUROS LTDA    1962-09-27   \n",
       "4       8326511000100  UNICOOB CORRETORA DE SEGUROS LTDA    1971-06-14   \n",
       "...               ...                                ...           ...   \n",
       "172450  8326511000100  UNICOOB CORRETORA DE SEGUROS LTDA           NaT   \n",
       "172451  8326511000100  UNICOOB CORRETORA DE SEGUROS LTDA           NaT   \n",
       "172452  8326511000100  UNICOOB CORRETORA DE SEGUROS LTDA    1964-03-01   \n",
       "172453  8326511000100  UNICOOB CORRETORA DE SEGUROS LTDA    1966-05-04   \n",
       "172454  8326511000100  UNICOOB CORRETORA DE SEGUROS LTDA    1995-12-14   \n",
       "\n",
       "             sexo tipo_pessoa cd_produto  \\\n",
       "0       MASCULINO          PF         99   \n",
       "1       MASCULINO          PF         99   \n",
       "2       MASCULINO          PF         99   \n",
       "3        FEMININO          PF         99   \n",
       "4       MASCULINO          PF         99   \n",
       "...           ...         ...        ...   \n",
       "172450        NaN          PJ        413   \n",
       "172451        NaN          PJ        413   \n",
       "172452  MASCULINO          PF         64   \n",
       "172453  MASCULINO          PF         17   \n",
       "172454   FEMININO          PF         17   \n",
       "\n",
       "                                    nm_produto        cep  \\\n",
       "0                           AUTOMOVEL/CAMINHAO  85550-000   \n",
       "1                           AUTOMOVEL/CAMINHAO  85440-000   \n",
       "2                           AUTOMOVEL/CAMINHAO  87470-000   \n",
       "3                           AUTOMOVEL/CAMINHAO  85904-000   \n",
       "4                           AUTOMOVEL/CAMINHAO  87060-668   \n",
       "...                                        ...        ...   \n",
       "172450  SANCOR SEGUROS VIDA RURAL TM VINCULADO   86010390   \n",
       "172451  SANCOR SEGUROS VIDA RURAL TM VINCULADO   85601260   \n",
       "172452              SANCOR SEGUROS AP PREMIADO   85900040   \n",
       "172453                       RESIDENCIAL FÁCIL   86067970   \n",
       "172454                       RESIDENCIAL FÁCIL   13456625   \n",
       "\n",
       "                       cidade  uf  \n",
       "0              CORONEL VIVIDA  PR  \n",
       "1                     UBIRATÃ  PR  \n",
       "2                     MARILUZ  PR  \n",
       "3                      TOLEDO  PR  \n",
       "4                     MARINGÁ  PR  \n",
       "...                       ...  ..  \n",
       "172450               LONDRINA  PR  \n",
       "172451      FRANCISCO BELTRÃO  PR  \n",
       "172452                 TOLEDO  PR  \n",
       "172453               LONDRINA  PR  \n",
       "172454  SANTA BÁRBARA D'OESTE  SP  \n",
       "\n",
       "[172455 rows x 28 columns]"
      ]
     },
     "execution_count": 5,
     "metadata": {},
     "output_type": "execute_result"
    }
   ],
   "source": [
    "df_apolice"
   ]
  },
  {
   "cell_type": "code",
   "execution_count": null,
   "metadata": {},
   "outputs": [],
   "source": [
    "# Comparar uso de memória de apólices\n",
    "memory_usage_df_apolice = pd.DataFrame({\n",
    "    'types_before': types_before,\n",
    "\t'types_after': types_after,\n",
    "    'Memory Usage Before': memory_usage_before_df_apolice,\n",
    "    'Memory Usage After': memory_usage_after_df_apolice,\n",
    "    'Percentage Difference': (memory_usage_after_df_apolice\n",
    "                              - memory_usage_before_df_apolice)\n",
    "                              / memory_usage_before_df_apolice * 100\n",
    "})\n",
    "memory_usage_df_apolice.loc['Diferença total de memória'] = [\n",
    "    '---',\n",
    "    '---',\n",
    "    memory_usage_df_apolice['Memory Usage Before'].sum(),\n",
    "    memory_usage_df_apolice['Memory Usage After'].sum(),\n",
    "    (memory_usage_df_apolice['Memory Usage After'].sum() \n",
    "     - memory_usage_df_apolice['Memory Usage Before'].sum()) \n",
    "     / memory_usage_df_apolice['Memory Usage Before'].sum() * 100\n",
    "]\n",
    "\n",
    "memory_usage_df_apolice"
   ]
  },
  {
   "cell_type": "code",
   "execution_count": 54,
   "metadata": {},
   "outputs": [
    {
     "name": "stdout",
     "output_type": "stream",
     "text": [
      "Ponto de Pareto para vl_premio_comercial por cidade: 710\n",
      "Valor acumulado até o ponto de Pareto: 248085858.74000004\n",
      "Percentual de registros até o ponto de Pareto: 80.02984652962866%\n"
     ]
    },
    {
     "name": "stderr",
     "output_type": "stream",
     "text": [
      "C:\\Users\\frosa\\AppData\\Local\\Temp\\ipykernel_47912\\2866448968.py:4: FutureWarning:\n",
      "\n",
      "The default of observed=False is deprecated and will be changed to True in a future version of pandas. Pass observed=False to retain current behavior or observed=True to adopt the future default and silence this warning.\n",
      "\n"
     ]
    },
    {
     "data": {
      "application/vnd.plotly.v1+json": {
       "config": {
        "plotlyServerURL": "https://plot.ly"
       },
       "data": [
        {
         "name": "Soma dos valores",
         "type": "bar",
         "x": [
          "MARINGÁ",
          "FRANCISCO BELTRÃO",
          "LONDRINA",
          "TOLEDO",
          "CASCAVEL",
          "UMUARAMA",
          "CURITIBA",
          "CANOAS",
          "PATO BRANCO",
          "ASSIS CHATEAUBRIAND",
          "FOZ DO IGUAÇU",
          "APUCARANA",
          "MARECHAL CÂNDIDO RONDON",
          "BELÉM",
          "ARAPONGAS",
          "PARANAVAÍ",
          "DOIS VIZINHOS",
          "SARANDI",
          "MEDIANEIRA",
          "CIANORTE",
          "REALEZA",
          "SANTA TEREZINHA DE ITAIPU",
          "SÃO PAULO",
          "SÃO JORGE D'OESTE",
          "GUARAPUAVA",
          "LARANJEIRAS DO SUL",
          "AMPÉRE",
          "CAMPO MOURÃO",
          "JESUÍTAS",
          "PONTA GROSSA",
          "VERÊ",
          "MARMELEIRO",
          "NOVA PRATA DO IGUAÇU",
          "CORNÉLIO PROCÓPIO",
          "SANTO ANTÔNIO DO SUDOESTE",
          "FORMOSA DO OESTE",
          "CAPANEMA",
          "BRAGANEY",
          "SANTA IZABEL DO OESTE",
          "CORBÉLIA",
          "CORONEL VIVIDA",
          "MARIALVA",
          "COLORADO",
          "CAMPINA DA LAGOA",
          "CAMBARÁ",
          "ALVORADA DO SUL",
          "NOVA AURORA",
          "UBIRATÃ",
          "SALTO DO LONTRA",
          "SÃO JOÃO",
          "PAIÇANDU",
          "ROLÂNDIA",
          "CAMBÉ",
          "TELÊMACO BORBA",
          "GUARANIAÇU",
          "GUAÍRA",
          "PALOTINA",
          "MANDAGUARI",
          "ASSAÍ",
          "TUPÃSSI",
          "PRANCHITA",
          "CÉU AZUL",
          "MACAPÁ",
          "SÃO MIGUEL DO IGUAÇU",
          "GRAVATAÍ",
          "BANDEIRANTES",
          "SANTO INÁCIO",
          "MATELÂNDIA",
          "CRUZEIRO DO OESTE",
          "PRUDENTÓPOLIS",
          "TERRA BOA",
          "LOANDA",
          "SÃO JOSÉ DOS PINHAIS",
          "PLANALTO",
          "NOVA ESPERANÇA",
          "FAZENDA RIO GRANDE",
          "CAFELÂNDIA",
          "BOA ESPERANÇA DO IGUAÇU",
          "JUNDIAÍ",
          "JOAQUIM TÁVORA",
          "CAMPINAS",
          "MAMBORÊ",
          "SÃO CARLOS DO IVAÍ",
          "JAPURÁ",
          "IBIPORÃ",
          "GUARULHOS",
          "MANDAGUAÇU",
          "CACHOEIRA DO SUL",
          "PITANGA",
          "IMBITUVA",
          "PEABIRU",
          "CHOPINZINHO",
          "MISSAL",
          "RONDON",
          "CRUZEIRO DO IGUAÇU",
          "ALTO PARANÁ",
          "CANTAGALO",
          "PRESIDENTE VENCESLAU",
          "QUEDAS DO IGUAÇU",
          "CAXIAS DO SUL",
          null
         ],
         "y": [
          53400781.19,
          24026133.75,
          20488033.66,
          14554147.8,
          13689834.84,
          12880361.55,
          10934105.09,
          10503362.12,
          9489561.51,
          6996553.08,
          6406047.38,
          4518847.85,
          4272156.05,
          4202601.91,
          2767295.73,
          2203757.79,
          2114856.82,
          2073420.23,
          1904887.16,
          1694355.06,
          1564615.2,
          1551065.36,
          1545153.77,
          1358086.04,
          1310045.94,
          1239872.3699999999,
          1223892.84,
          1164669.59,
          1116465.1,
          1090848.76,
          1090784.6,
          1060796.53,
          1009810.82,
          977972.7899999999,
          967419.11,
          924915.24,
          912963.86,
          906689.54,
          905216.04,
          882551.33,
          882430.14,
          879490.28,
          875755.45,
          807030.75,
          789561.84,
          776098.34,
          767581.77,
          756739.19,
          739275.23,
          726720.08,
          716350.11,
          705297.34,
          694300.05,
          685354.9,
          659808.11,
          607550.9,
          597996.23,
          594673.77,
          585488.89,
          581834.37,
          578147.31,
          578083.68,
          575354.61,
          571581.9,
          558324.95,
          536922.93,
          528053.1900000001,
          526882.77,
          523490.45,
          521798.61,
          520739.02,
          517866.62,
          495359.59,
          492621.46,
          486617.72000000003,
          482136.6,
          473817.25,
          466984.82,
          464635.32,
          464580.75,
          459093.92,
          457118.95,
          446571.52,
          443756.2,
          442648.25,
          438142.95,
          437919.26,
          427307.11,
          424521.07,
          421315.68,
          419115.36,
          417739.76,
          415070.54,
          414100.01,
          412207.88,
          411095.11,
          397275.02999999997,
          396366.23,
          394343.34,
          392504.27,
          44805186.1
         ]
        },
        {
         "mode": "lines",
         "name": "Acumulado de Pareto",
         "type": "scatter",
         "x": [
          "MARINGÁ",
          "FRANCISCO BELTRÃO",
          "LONDRINA",
          "TOLEDO",
          "CASCAVEL",
          "UMUARAMA",
          "CURITIBA",
          "CANOAS",
          "PATO BRANCO",
          "ASSIS CHATEAUBRIAND",
          "FOZ DO IGUAÇU",
          "APUCARANA",
          "MARECHAL CÂNDIDO RONDON",
          "BELÉM",
          "ARAPONGAS",
          "PARANAVAÍ",
          "DOIS VIZINHOS",
          "SARANDI",
          "MEDIANEIRA",
          "CIANORTE",
          "REALEZA",
          "SANTA TEREZINHA DE ITAIPU",
          "SÃO PAULO",
          "SÃO JORGE D'OESTE",
          "GUARAPUAVA",
          "LARANJEIRAS DO SUL",
          "AMPÉRE",
          "CAMPO MOURÃO",
          "JESUÍTAS",
          "PONTA GROSSA",
          "VERÊ",
          "MARMELEIRO",
          "NOVA PRATA DO IGUAÇU",
          "CORNÉLIO PROCÓPIO",
          "SANTO ANTÔNIO DO SUDOESTE",
          "FORMOSA DO OESTE",
          "CAPANEMA",
          "BRAGANEY",
          "SANTA IZABEL DO OESTE",
          "CORBÉLIA",
          "CORONEL VIVIDA",
          "MARIALVA",
          "COLORADO",
          "CAMPINA DA LAGOA",
          "CAMBARÁ",
          "ALVORADA DO SUL",
          "NOVA AURORA",
          "UBIRATÃ",
          "SALTO DO LONTRA",
          "SÃO JOÃO",
          "PAIÇANDU",
          "ROLÂNDIA",
          "CAMBÉ",
          "TELÊMACO BORBA",
          "GUARANIAÇU",
          "GUAÍRA",
          "PALOTINA",
          "MANDAGUARI",
          "ASSAÍ",
          "TUPÃSSI",
          "PRANCHITA",
          "CÉU AZUL",
          "MACAPÁ",
          "SÃO MIGUEL DO IGUAÇU",
          "GRAVATAÍ",
          "BANDEIRANTES",
          "SANTO INÁCIO",
          "MATELÂNDIA",
          "CRUZEIRO DO OESTE",
          "PRUDENTÓPOLIS",
          "TERRA BOA",
          "LOANDA",
          "SÃO JOSÉ DOS PINHAIS",
          "PLANALTO",
          "NOVA ESPERANÇA",
          "FAZENDA RIO GRANDE",
          "CAFELÂNDIA",
          "BOA ESPERANÇA DO IGUAÇU",
          "JUNDIAÍ",
          "JOAQUIM TÁVORA",
          "CAMPINAS",
          "MAMBORÊ",
          "SÃO CARLOS DO IVAÍ",
          "JAPURÁ",
          "IBIPORÃ",
          "GUARULHOS",
          "MANDAGUAÇU",
          "CACHOEIRA DO SUL",
          "PITANGA",
          "IMBITUVA",
          "PEABIRU",
          "CHOPINZINHO",
          "MISSAL",
          "RONDON",
          "CRUZEIRO DO IGUAÇU",
          "ALTO PARANÁ",
          "CANTAGALO",
          "PRESIDENTE VENCESLAU",
          "QUEDAS DO IGUAÇU",
          "CAXIAS DO SUL",
          null
         ],
         "y": [
          53400781.19,
          77426914.94,
          97914948.6,
          112469096.39999999,
          126158931.24,
          139039292.79,
          149973397.88,
          160476760,
          169966321.51,
          176962874.59,
          183368921.97,
          187887769.82,
          192159925.87,
          196362527.78,
          199129823.51,
          201333581.29999998,
          203448438.11999997,
          205521858.34999996,
          207426745.50999996,
          209121100.56999996,
          210685715.76999995,
          212236781.12999997,
          213781934.89999998,
          215140020.93999997,
          216450066.87999997,
          217689939.24999997,
          218913832.08999997,
          220078501.67999998,
          221194966.77999997,
          222285815.53999996,
          223376600.13999996,
          224437396.66999996,
          225447207.48999995,
          226425180.27999994,
          227392599.38999996,
          228317514.62999997,
          229230478.48999998,
          230137168.02999997,
          231042384.06999996,
          231924935.39999998,
          232807365.53999996,
          233686855.81999996,
          234562611.26999995,
          235369642.01999995,
          236159203.85999995,
          236935302.19999996,
          237702883.96999997,
          238459623.15999997,
          239198898.38999996,
          239925618.46999997,
          240641968.57999998,
          241347265.92,
          242041565.97,
          242726920.87,
          243386728.98000002,
          243994279.88000003,
          244592276.11,
          245186949.88000003,
          245772438.77,
          246354273.14000002,
          246932420.45000002,
          247510504.13000003,
          248085858.74000004,
          248657440.64000005,
          249215765.59000003,
          249752688.52000004,
          250280741.71000004,
          250807624.48000005,
          251331114.93000004,
          251852913.54000005,
          252373652.56000006,
          252891519.18000007,
          253386878.77000007,
          253879500.23000008,
          254366117.95000008,
          254848254.55000007,
          255322071.80000007,
          255789056.62000006,
          256253691.94000006,
          256718272.69000006,
          257177366.61000004,
          257634485.56000003,
          258081057.08000004,
          258524813.28000003,
          258967461.53000003,
          259405604.48000002,
          259843523.74,
          260270830.85000002,
          260695351.92000002,
          261116667.60000002,
          261535782.96000004,
          261953522.72000003,
          262368593.26000002,
          262782693.27,
          263194901.15,
          263605996.26000002,
          264003271.29000002,
          264399637.52,
          264793980.86,
          265186485.13000003,
          309991671.23
         ]
        }
       ],
       "layout": {
        "shapes": [
         {
          "line": {
           "color": "red",
           "dash": "dash"
          },
          "type": "line",
          "x0": "MACAPÁ",
          "x1": "MACAPÁ",
          "xref": "x",
          "y0": 0,
          "y1": 1,
          "yref": "y domain"
         }
        ],
        "template": {
         "data": {
          "bar": [
           {
            "error_x": {
             "color": "#2a3f5f"
            },
            "error_y": {
             "color": "#2a3f5f"
            },
            "marker": {
             "line": {
              "color": "#E5ECF6",
              "width": 0.5
             },
             "pattern": {
              "fillmode": "overlay",
              "size": 10,
              "solidity": 0.2
             }
            },
            "type": "bar"
           }
          ],
          "barpolar": [
           {
            "marker": {
             "line": {
              "color": "#E5ECF6",
              "width": 0.5
             },
             "pattern": {
              "fillmode": "overlay",
              "size": 10,
              "solidity": 0.2
             }
            },
            "type": "barpolar"
           }
          ],
          "carpet": [
           {
            "aaxis": {
             "endlinecolor": "#2a3f5f",
             "gridcolor": "white",
             "linecolor": "white",
             "minorgridcolor": "white",
             "startlinecolor": "#2a3f5f"
            },
            "baxis": {
             "endlinecolor": "#2a3f5f",
             "gridcolor": "white",
             "linecolor": "white",
             "minorgridcolor": "white",
             "startlinecolor": "#2a3f5f"
            },
            "type": "carpet"
           }
          ],
          "choropleth": [
           {
            "colorbar": {
             "outlinewidth": 0,
             "ticks": ""
            },
            "type": "choropleth"
           }
          ],
          "contour": [
           {
            "colorbar": {
             "outlinewidth": 0,
             "ticks": ""
            },
            "colorscale": [
             [
              0,
              "#0d0887"
             ],
             [
              0.1111111111111111,
              "#46039f"
             ],
             [
              0.2222222222222222,
              "#7201a8"
             ],
             [
              0.3333333333333333,
              "#9c179e"
             ],
             [
              0.4444444444444444,
              "#bd3786"
             ],
             [
              0.5555555555555556,
              "#d8576b"
             ],
             [
              0.6666666666666666,
              "#ed7953"
             ],
             [
              0.7777777777777778,
              "#fb9f3a"
             ],
             [
              0.8888888888888888,
              "#fdca26"
             ],
             [
              1,
              "#f0f921"
             ]
            ],
            "type": "contour"
           }
          ],
          "contourcarpet": [
           {
            "colorbar": {
             "outlinewidth": 0,
             "ticks": ""
            },
            "type": "contourcarpet"
           }
          ],
          "heatmap": [
           {
            "colorbar": {
             "outlinewidth": 0,
             "ticks": ""
            },
            "colorscale": [
             [
              0,
              "#0d0887"
             ],
             [
              0.1111111111111111,
              "#46039f"
             ],
             [
              0.2222222222222222,
              "#7201a8"
             ],
             [
              0.3333333333333333,
              "#9c179e"
             ],
             [
              0.4444444444444444,
              "#bd3786"
             ],
             [
              0.5555555555555556,
              "#d8576b"
             ],
             [
              0.6666666666666666,
              "#ed7953"
             ],
             [
              0.7777777777777778,
              "#fb9f3a"
             ],
             [
              0.8888888888888888,
              "#fdca26"
             ],
             [
              1,
              "#f0f921"
             ]
            ],
            "type": "heatmap"
           }
          ],
          "heatmapgl": [
           {
            "colorbar": {
             "outlinewidth": 0,
             "ticks": ""
            },
            "colorscale": [
             [
              0,
              "#0d0887"
             ],
             [
              0.1111111111111111,
              "#46039f"
             ],
             [
              0.2222222222222222,
              "#7201a8"
             ],
             [
              0.3333333333333333,
              "#9c179e"
             ],
             [
              0.4444444444444444,
              "#bd3786"
             ],
             [
              0.5555555555555556,
              "#d8576b"
             ],
             [
              0.6666666666666666,
              "#ed7953"
             ],
             [
              0.7777777777777778,
              "#fb9f3a"
             ],
             [
              0.8888888888888888,
              "#fdca26"
             ],
             [
              1,
              "#f0f921"
             ]
            ],
            "type": "heatmapgl"
           }
          ],
          "histogram": [
           {
            "marker": {
             "pattern": {
              "fillmode": "overlay",
              "size": 10,
              "solidity": 0.2
             }
            },
            "type": "histogram"
           }
          ],
          "histogram2d": [
           {
            "colorbar": {
             "outlinewidth": 0,
             "ticks": ""
            },
            "colorscale": [
             [
              0,
              "#0d0887"
             ],
             [
              0.1111111111111111,
              "#46039f"
             ],
             [
              0.2222222222222222,
              "#7201a8"
             ],
             [
              0.3333333333333333,
              "#9c179e"
             ],
             [
              0.4444444444444444,
              "#bd3786"
             ],
             [
              0.5555555555555556,
              "#d8576b"
             ],
             [
              0.6666666666666666,
              "#ed7953"
             ],
             [
              0.7777777777777778,
              "#fb9f3a"
             ],
             [
              0.8888888888888888,
              "#fdca26"
             ],
             [
              1,
              "#f0f921"
             ]
            ],
            "type": "histogram2d"
           }
          ],
          "histogram2dcontour": [
           {
            "colorbar": {
             "outlinewidth": 0,
             "ticks": ""
            },
            "colorscale": [
             [
              0,
              "#0d0887"
             ],
             [
              0.1111111111111111,
              "#46039f"
             ],
             [
              0.2222222222222222,
              "#7201a8"
             ],
             [
              0.3333333333333333,
              "#9c179e"
             ],
             [
              0.4444444444444444,
              "#bd3786"
             ],
             [
              0.5555555555555556,
              "#d8576b"
             ],
             [
              0.6666666666666666,
              "#ed7953"
             ],
             [
              0.7777777777777778,
              "#fb9f3a"
             ],
             [
              0.8888888888888888,
              "#fdca26"
             ],
             [
              1,
              "#f0f921"
             ]
            ],
            "type": "histogram2dcontour"
           }
          ],
          "mesh3d": [
           {
            "colorbar": {
             "outlinewidth": 0,
             "ticks": ""
            },
            "type": "mesh3d"
           }
          ],
          "parcoords": [
           {
            "line": {
             "colorbar": {
              "outlinewidth": 0,
              "ticks": ""
             }
            },
            "type": "parcoords"
           }
          ],
          "pie": [
           {
            "automargin": true,
            "type": "pie"
           }
          ],
          "scatter": [
           {
            "fillpattern": {
             "fillmode": "overlay",
             "size": 10,
             "solidity": 0.2
            },
            "type": "scatter"
           }
          ],
          "scatter3d": [
           {
            "line": {
             "colorbar": {
              "outlinewidth": 0,
              "ticks": ""
             }
            },
            "marker": {
             "colorbar": {
              "outlinewidth": 0,
              "ticks": ""
             }
            },
            "type": "scatter3d"
           }
          ],
          "scattercarpet": [
           {
            "marker": {
             "colorbar": {
              "outlinewidth": 0,
              "ticks": ""
             }
            },
            "type": "scattercarpet"
           }
          ],
          "scattergeo": [
           {
            "marker": {
             "colorbar": {
              "outlinewidth": 0,
              "ticks": ""
             }
            },
            "type": "scattergeo"
           }
          ],
          "scattergl": [
           {
            "marker": {
             "colorbar": {
              "outlinewidth": 0,
              "ticks": ""
             }
            },
            "type": "scattergl"
           }
          ],
          "scattermapbox": [
           {
            "marker": {
             "colorbar": {
              "outlinewidth": 0,
              "ticks": ""
             }
            },
            "type": "scattermapbox"
           }
          ],
          "scatterpolar": [
           {
            "marker": {
             "colorbar": {
              "outlinewidth": 0,
              "ticks": ""
             }
            },
            "type": "scatterpolar"
           }
          ],
          "scatterpolargl": [
           {
            "marker": {
             "colorbar": {
              "outlinewidth": 0,
              "ticks": ""
             }
            },
            "type": "scatterpolargl"
           }
          ],
          "scatterternary": [
           {
            "marker": {
             "colorbar": {
              "outlinewidth": 0,
              "ticks": ""
             }
            },
            "type": "scatterternary"
           }
          ],
          "surface": [
           {
            "colorbar": {
             "outlinewidth": 0,
             "ticks": ""
            },
            "colorscale": [
             [
              0,
              "#0d0887"
             ],
             [
              0.1111111111111111,
              "#46039f"
             ],
             [
              0.2222222222222222,
              "#7201a8"
             ],
             [
              0.3333333333333333,
              "#9c179e"
             ],
             [
              0.4444444444444444,
              "#bd3786"
             ],
             [
              0.5555555555555556,
              "#d8576b"
             ],
             [
              0.6666666666666666,
              "#ed7953"
             ],
             [
              0.7777777777777778,
              "#fb9f3a"
             ],
             [
              0.8888888888888888,
              "#fdca26"
             ],
             [
              1,
              "#f0f921"
             ]
            ],
            "type": "surface"
           }
          ],
          "table": [
           {
            "cells": {
             "fill": {
              "color": "#EBF0F8"
             },
             "line": {
              "color": "white"
             }
            },
            "header": {
             "fill": {
              "color": "#C8D4E3"
             },
             "line": {
              "color": "white"
             }
            },
            "type": "table"
           }
          ]
         },
         "layout": {
          "annotationdefaults": {
           "arrowcolor": "#2a3f5f",
           "arrowhead": 0,
           "arrowwidth": 1
          },
          "autotypenumbers": "strict",
          "coloraxis": {
           "colorbar": {
            "outlinewidth": 0,
            "ticks": ""
           }
          },
          "colorscale": {
           "diverging": [
            [
             0,
             "#8e0152"
            ],
            [
             0.1,
             "#c51b7d"
            ],
            [
             0.2,
             "#de77ae"
            ],
            [
             0.3,
             "#f1b6da"
            ],
            [
             0.4,
             "#fde0ef"
            ],
            [
             0.5,
             "#f7f7f7"
            ],
            [
             0.6,
             "#e6f5d0"
            ],
            [
             0.7,
             "#b8e186"
            ],
            [
             0.8,
             "#7fbc41"
            ],
            [
             0.9,
             "#4d9221"
            ],
            [
             1,
             "#276419"
            ]
           ],
           "sequential": [
            [
             0,
             "#0d0887"
            ],
            [
             0.1111111111111111,
             "#46039f"
            ],
            [
             0.2222222222222222,
             "#7201a8"
            ],
            [
             0.3333333333333333,
             "#9c179e"
            ],
            [
             0.4444444444444444,
             "#bd3786"
            ],
            [
             0.5555555555555556,
             "#d8576b"
            ],
            [
             0.6666666666666666,
             "#ed7953"
            ],
            [
             0.7777777777777778,
             "#fb9f3a"
            ],
            [
             0.8888888888888888,
             "#fdca26"
            ],
            [
             1,
             "#f0f921"
            ]
           ],
           "sequentialminus": [
            [
             0,
             "#0d0887"
            ],
            [
             0.1111111111111111,
             "#46039f"
            ],
            [
             0.2222222222222222,
             "#7201a8"
            ],
            [
             0.3333333333333333,
             "#9c179e"
            ],
            [
             0.4444444444444444,
             "#bd3786"
            ],
            [
             0.5555555555555556,
             "#d8576b"
            ],
            [
             0.6666666666666666,
             "#ed7953"
            ],
            [
             0.7777777777777778,
             "#fb9f3a"
            ],
            [
             0.8888888888888888,
             "#fdca26"
            ],
            [
             1,
             "#f0f921"
            ]
           ]
          },
          "colorway": [
           "#636efa",
           "#EF553B",
           "#00cc96",
           "#ab63fa",
           "#FFA15A",
           "#19d3f3",
           "#FF6692",
           "#B6E880",
           "#FF97FF",
           "#FECB52"
          ],
          "font": {
           "color": "#2a3f5f"
          },
          "geo": {
           "bgcolor": "white",
           "lakecolor": "white",
           "landcolor": "#E5ECF6",
           "showlakes": true,
           "showland": true,
           "subunitcolor": "white"
          },
          "hoverlabel": {
           "align": "left"
          },
          "hovermode": "closest",
          "mapbox": {
           "style": "light"
          },
          "paper_bgcolor": "white",
          "plot_bgcolor": "#E5ECF6",
          "polar": {
           "angularaxis": {
            "gridcolor": "white",
            "linecolor": "white",
            "ticks": ""
           },
           "bgcolor": "#E5ECF6",
           "radialaxis": {
            "gridcolor": "white",
            "linecolor": "white",
            "ticks": ""
           }
          },
          "scene": {
           "xaxis": {
            "backgroundcolor": "#E5ECF6",
            "gridcolor": "white",
            "gridwidth": 2,
            "linecolor": "white",
            "showbackground": true,
            "ticks": "",
            "zerolinecolor": "white"
           },
           "yaxis": {
            "backgroundcolor": "#E5ECF6",
            "gridcolor": "white",
            "gridwidth": 2,
            "linecolor": "white",
            "showbackground": true,
            "ticks": "",
            "zerolinecolor": "white"
           },
           "zaxis": {
            "backgroundcolor": "#E5ECF6",
            "gridcolor": "white",
            "gridwidth": 2,
            "linecolor": "white",
            "showbackground": true,
            "ticks": "",
            "zerolinecolor": "white"
           }
          },
          "shapedefaults": {
           "line": {
            "color": "#2a3f5f"
           }
          },
          "ternary": {
           "aaxis": {
            "gridcolor": "white",
            "linecolor": "white",
            "ticks": ""
           },
           "baxis": {
            "gridcolor": "white",
            "linecolor": "white",
            "ticks": ""
           },
           "bgcolor": "#E5ECF6",
           "caxis": {
            "gridcolor": "white",
            "linecolor": "white",
            "ticks": ""
           }
          },
          "title": {
           "x": 0.05
          },
          "xaxis": {
           "automargin": true,
           "gridcolor": "white",
           "linecolor": "white",
           "ticks": "",
           "title": {
            "standoff": 15
           },
           "zerolinecolor": "white",
           "zerolinewidth": 2
          },
          "yaxis": {
           "automargin": true,
           "gridcolor": "white",
           "linecolor": "white",
           "ticks": "",
           "title": {
            "standoff": 15
           },
           "zerolinecolor": "white",
           "zerolinewidth": 2
          }
         }
        },
        "title": {
         "text": "Análise de Pareto para vl_premio_comercial por cidade"
        },
        "xaxis": {
         "title": {
          "text": "cidade"
         }
        },
        "yaxis": {
         "title": {
          "text": "Valor"
         }
        }
       }
      }
     },
     "metadata": {},
     "output_type": "display_data"
    },
    {
     "name": "stdout",
     "output_type": "stream",
     "text": [
      "Ponto de Pareto para vl_custo_aquisicao por cidade: 309\n",
      "Valor acumulado até o ponto de Pareto: 72002441.90999997\n",
      "Percentual de registros até o ponto de Pareto: 80.14937927710048%\n"
     ]
    },
    {
     "name": "stderr",
     "output_type": "stream",
     "text": [
      "C:\\Users\\frosa\\AppData\\Local\\Temp\\ipykernel_47912\\2866448968.py:4: FutureWarning:\n",
      "\n",
      "The default of observed=False is deprecated and will be changed to True in a future version of pandas. Pass observed=False to retain current behavior or observed=True to adopt the future default and silence this warning.\n",
      "\n"
     ]
    },
    {
     "data": {
      "application/vnd.plotly.v1+json": {
       "config": {
        "plotlyServerURL": "https://plot.ly"
       },
       "data": [
        {
         "name": "Soma dos valores",
         "type": "bar",
         "x": [
          "MARINGÁ",
          "FRANCISCO BELTRÃO",
          "LONDRINA",
          "UMUARAMA",
          "TOLEDO",
          "CASCAVEL",
          "CANOAS",
          "CURITIBA",
          "PATO BRANCO",
          "ASSIS CHATEAUBRIAND",
          "FOZ DO IGUAÇU",
          "APUCARANA",
          "BELÉM",
          "MARECHAL CÂNDIDO RONDON",
          "ARAPONGAS",
          "PARANAVAÍ",
          "SÃO PAULO",
          "SARANDI",
          "CIANORTE",
          "DOIS VIZINHOS",
          "MEDIANEIRA",
          "PONTA GROSSA",
          "CAMPO MOURÃO",
          "GUARAPUAVA",
          "MARIALVA",
          "CORONEL VIVIDA",
          "SANTA TEREZINHA DE ITAIPU",
          "NOVA PRATA DO IGUAÇU",
          "ROLÂNDIA",
          "CORNÉLIO PROCÓPIO",
          "REALEZA",
          "COLORADO",
          "CAMBÉ",
          "AMPÉRE",
          "MACAPÁ",
          "LARANJEIRAS DO SUL",
          "PAIÇANDU",
          "GRAVATAÍ",
          "SÃO JORGE D'OESTE",
          "SÃO MIGUEL DO IGUAÇU",
          "JESUÍTAS",
          "TELÊMACO BORBA",
          "PRUDENTÓPOLIS",
          "CAPANEMA",
          "MANDAGUARI",
          "CRUZEIRO DO OESTE",
          "CAMBARÁ",
          "SANTO ANTÔNIO DO SUDOESTE",
          "CAMPINAS",
          "UBIRATÃ",
          "MARMELEIRO",
          "JUNDIAÍ",
          "SANTA IZABEL DO OESTE",
          "CAMPINA DA LAGOA",
          "GUARULHOS",
          "SÃO JOSÉ DOS PINHAIS",
          "SÃO JOÃO",
          "FAZENDA RIO GRANDE",
          "BANDEIRANTES",
          "MATELÂNDIA",
          "ASSAÍ",
          "LOANDA",
          "FORMOSA DO OESTE",
          "CORBÉLIA",
          "VERÊ",
          "IBIPORÃ",
          "SALTO DO LONTRA",
          "CHOPINZINHO",
          "MISSAL",
          "CACHOEIRA DO SUL",
          "JOAQUIM TÁVORA",
          "SERTANÓPOLIS",
          "TERRA BOA",
          "IMBITUVA",
          "PRESIDENTE VENCESLAU",
          "CAXIAS DO SUL",
          "ITAIPULÂNDIA",
          "NOVA ESPERANÇA",
          "PÉROLA",
          "SOROCABA",
          "CAMPO GRANDE",
          "SANTO INÁCIO",
          "PRANCHITA",
          "PEABIRU",
          "SANTANA",
          "PORTO ALEGRE",
          "MANDAGUAÇU",
          "ALTO PARANÁ",
          "NOVA AURORA",
          "REBOUÇAS",
          "GUAÍRA",
          "RONDON",
          "PLANALTO",
          "CAFELÂNDIA",
          "SÃO CARLOS DO IVAÍ",
          "DOURADOS",
          "PEDREIRA",
          "ALTÔNIA",
          "ALVORADA DO SUL",
          "CÉU AZUL",
          null
         ],
         "y": [
          16251022.82,
          8987489.040000001,
          7330206.16,
          4712445.47,
          4680846.15,
          4546042.72,
          4115048.33,
          3929194.22,
          3282650.28,
          2195037.67,
          1629455.91,
          1608358.39,
          1547210.57,
          1480802.3,
          953659.63,
          494924.49,
          423280.32,
          418627.07,
          412077.59,
          410577.73,
          317876.71,
          256287.1,
          228457.09,
          225907.72,
          209460.16,
          208444.73,
          202800.74,
          202080.48,
          192402.62,
          186026.44,
          184338.02,
          179403.24,
          171324.33,
          168860.23,
          166197.12,
          148156.24,
          147898.37,
          147794.3,
          147479.67,
          144522.16,
          143255.85,
          141291.92,
          140945.57,
          140421.45,
          137374.51,
          136058.21,
          134345.16,
          129707.33,
          129457.37,
          129056.96,
          127822.13,
          125370.57,
          124583.06,
          124129.08,
          122410.7,
          122258.45,
          122083.63,
          121716.79,
          121060.56,
          118788.96,
          117832.78,
          116720.3,
          115612.45999999999,
          113859.35,
          111235.33,
          110654.76,
          107033.71,
          106044.97,
          104320.45,
          104031.67,
          103871.29,
          103041.19,
          102221.58,
          102126.2,
          101914.38,
          101470.98,
          100208.23,
          100119.22,
          98450.48,
          95658.56,
          95477.24,
          95016.03,
          94936.24,
          94654.79,
          94485.4,
          94023.33,
          92915.06,
          91239.9,
          91142.67,
          90808.37,
          89778.41,
          89709.96,
          89020.36,
          88411.86,
          88088.85,
          88030.88,
          87953.63,
          87834.44,
          87637.29000000001,
          87587.22,
          10063315.810000002
         ]
        },
        {
         "mode": "lines",
         "name": "Acumulado de Pareto",
         "type": "scatter",
         "x": [
          "MARINGÁ",
          "FRANCISCO BELTRÃO",
          "LONDRINA",
          "UMUARAMA",
          "TOLEDO",
          "CASCAVEL",
          "CANOAS",
          "CURITIBA",
          "PATO BRANCO",
          "ASSIS CHATEAUBRIAND",
          "FOZ DO IGUAÇU",
          "APUCARANA",
          "BELÉM",
          "MARECHAL CÂNDIDO RONDON",
          "ARAPONGAS",
          "PARANAVAÍ",
          "SÃO PAULO",
          "SARANDI",
          "CIANORTE",
          "DOIS VIZINHOS",
          "MEDIANEIRA",
          "PONTA GROSSA",
          "CAMPO MOURÃO",
          "GUARAPUAVA",
          "MARIALVA",
          "CORONEL VIVIDA",
          "SANTA TEREZINHA DE ITAIPU",
          "NOVA PRATA DO IGUAÇU",
          "ROLÂNDIA",
          "CORNÉLIO PROCÓPIO",
          "REALEZA",
          "COLORADO",
          "CAMBÉ",
          "AMPÉRE",
          "MACAPÁ",
          "LARANJEIRAS DO SUL",
          "PAIÇANDU",
          "GRAVATAÍ",
          "SÃO JORGE D'OESTE",
          "SÃO MIGUEL DO IGUAÇU",
          "JESUÍTAS",
          "TELÊMACO BORBA",
          "PRUDENTÓPOLIS",
          "CAPANEMA",
          "MANDAGUARI",
          "CRUZEIRO DO OESTE",
          "CAMBARÁ",
          "SANTO ANTÔNIO DO SUDOESTE",
          "CAMPINAS",
          "UBIRATÃ",
          "MARMELEIRO",
          "JUNDIAÍ",
          "SANTA IZABEL DO OESTE",
          "CAMPINA DA LAGOA",
          "GUARULHOS",
          "SÃO JOSÉ DOS PINHAIS",
          "SÃO JOÃO",
          "FAZENDA RIO GRANDE",
          "BANDEIRANTES",
          "MATELÂNDIA",
          "ASSAÍ",
          "LOANDA",
          "FORMOSA DO OESTE",
          "CORBÉLIA",
          "VERÊ",
          "IBIPORÃ",
          "SALTO DO LONTRA",
          "CHOPINZINHO",
          "MISSAL",
          "CACHOEIRA DO SUL",
          "JOAQUIM TÁVORA",
          "SERTANÓPOLIS",
          "TERRA BOA",
          "IMBITUVA",
          "PRESIDENTE VENCESLAU",
          "CAXIAS DO SUL",
          "ITAIPULÂNDIA",
          "NOVA ESPERANÇA",
          "PÉROLA",
          "SOROCABA",
          "CAMPO GRANDE",
          "SANTO INÁCIO",
          "PRANCHITA",
          "PEABIRU",
          "SANTANA",
          "PORTO ALEGRE",
          "MANDAGUAÇU",
          "ALTO PARANÁ",
          "NOVA AURORA",
          "REBOUÇAS",
          "GUAÍRA",
          "RONDON",
          "PLANALTO",
          "CAFELÂNDIA",
          "SÃO CARLOS DO IVAÍ",
          "DOURADOS",
          "PEDREIRA",
          "ALTÔNIA",
          "ALVORADA DO SUL",
          "CÉU AZUL",
          null
         ],
         "y": [
          16251022.82,
          25238511.86,
          32568718.02,
          37281163.49,
          41962009.64,
          46508052.36,
          50623100.69,
          54552294.91,
          57834945.19,
          60029982.86,
          61659438.769999996,
          63267797.16,
          64815007.73,
          66295810.029999994,
          67249469.66,
          67744394.14999999,
          68167674.46999998,
          68586301.53999998,
          68998379.12999998,
          69408956.85999998,
          69726833.56999998,
          69983120.66999997,
          70211577.75999998,
          70437485.47999997,
          70646945.63999997,
          70855390.36999997,
          71058191.10999997,
          71260271.58999997,
          71452674.20999998,
          71638700.64999998,
          71823038.66999997,
          72002441.90999997,
          72173766.23999996,
          72342626.46999997,
          72508823.58999997,
          72656979.82999997,
          72804878.19999997,
          72952672.49999997,
          73100152.16999997,
          73244674.32999997,
          73387930.17999996,
          73529222.09999996,
          73670167.66999996,
          73810589.11999996,
          73947963.62999997,
          74084021.83999996,
          74218366.99999996,
          74348074.32999995,
          74477531.69999996,
          74606588.65999995,
          74734410.78999995,
          74859781.35999994,
          74984364.41999994,
          75108493.49999994,
          75230904.19999994,
          75353162.64999995,
          75475246.27999994,
          75596963.06999995,
          75718023.62999995,
          75836812.58999994,
          75954645.36999995,
          76071365.66999994,
          76186978.12999994,
          76300837.47999993,
          76412072.80999993,
          76522727.56999993,
          76629761.27999993,
          76735806.24999993,
          76840126.69999993,
          76944158.36999993,
          77048029.65999994,
          77151070.84999993,
          77253292.42999993,
          77355418.62999994,
          77457333.00999993,
          77558803.98999994,
          77659012.21999994,
          77759131.43999994,
          77857581.91999994,
          77953240.47999994,
          78048717.71999994,
          78143733.74999994,
          78238669.98999994,
          78333324.77999994,
          78427810.17999995,
          78521833.50999995,
          78614748.56999995,
          78705988.46999995,
          78797131.13999996,
          78887939.50999996,
          78977717.91999996,
          79067427.87999995,
          79156448.23999995,
          79244860.09999995,
          79332948.94999994,
          79420979.82999994,
          79508933.45999993,
          79596767.89999993,
          79684405.18999994,
          79771992.40999994,
          89835308.21999994
         ]
        }
       ],
       "layout": {
        "shapes": [
         {
          "line": {
           "color": "red",
           "dash": "dash"
          },
          "type": "line",
          "x0": "COLORADO",
          "x1": "COLORADO",
          "xref": "x",
          "y0": 0,
          "y1": 1,
          "yref": "y domain"
         }
        ],
        "template": {
         "data": {
          "bar": [
           {
            "error_x": {
             "color": "#2a3f5f"
            },
            "error_y": {
             "color": "#2a3f5f"
            },
            "marker": {
             "line": {
              "color": "#E5ECF6",
              "width": 0.5
             },
             "pattern": {
              "fillmode": "overlay",
              "size": 10,
              "solidity": 0.2
             }
            },
            "type": "bar"
           }
          ],
          "barpolar": [
           {
            "marker": {
             "line": {
              "color": "#E5ECF6",
              "width": 0.5
             },
             "pattern": {
              "fillmode": "overlay",
              "size": 10,
              "solidity": 0.2
             }
            },
            "type": "barpolar"
           }
          ],
          "carpet": [
           {
            "aaxis": {
             "endlinecolor": "#2a3f5f",
             "gridcolor": "white",
             "linecolor": "white",
             "minorgridcolor": "white",
             "startlinecolor": "#2a3f5f"
            },
            "baxis": {
             "endlinecolor": "#2a3f5f",
             "gridcolor": "white",
             "linecolor": "white",
             "minorgridcolor": "white",
             "startlinecolor": "#2a3f5f"
            },
            "type": "carpet"
           }
          ],
          "choropleth": [
           {
            "colorbar": {
             "outlinewidth": 0,
             "ticks": ""
            },
            "type": "choropleth"
           }
          ],
          "contour": [
           {
            "colorbar": {
             "outlinewidth": 0,
             "ticks": ""
            },
            "colorscale": [
             [
              0,
              "#0d0887"
             ],
             [
              0.1111111111111111,
              "#46039f"
             ],
             [
              0.2222222222222222,
              "#7201a8"
             ],
             [
              0.3333333333333333,
              "#9c179e"
             ],
             [
              0.4444444444444444,
              "#bd3786"
             ],
             [
              0.5555555555555556,
              "#d8576b"
             ],
             [
              0.6666666666666666,
              "#ed7953"
             ],
             [
              0.7777777777777778,
              "#fb9f3a"
             ],
             [
              0.8888888888888888,
              "#fdca26"
             ],
             [
              1,
              "#f0f921"
             ]
            ],
            "type": "contour"
           }
          ],
          "contourcarpet": [
           {
            "colorbar": {
             "outlinewidth": 0,
             "ticks": ""
            },
            "type": "contourcarpet"
           }
          ],
          "heatmap": [
           {
            "colorbar": {
             "outlinewidth": 0,
             "ticks": ""
            },
            "colorscale": [
             [
              0,
              "#0d0887"
             ],
             [
              0.1111111111111111,
              "#46039f"
             ],
             [
              0.2222222222222222,
              "#7201a8"
             ],
             [
              0.3333333333333333,
              "#9c179e"
             ],
             [
              0.4444444444444444,
              "#bd3786"
             ],
             [
              0.5555555555555556,
              "#d8576b"
             ],
             [
              0.6666666666666666,
              "#ed7953"
             ],
             [
              0.7777777777777778,
              "#fb9f3a"
             ],
             [
              0.8888888888888888,
              "#fdca26"
             ],
             [
              1,
              "#f0f921"
             ]
            ],
            "type": "heatmap"
           }
          ],
          "heatmapgl": [
           {
            "colorbar": {
             "outlinewidth": 0,
             "ticks": ""
            },
            "colorscale": [
             [
              0,
              "#0d0887"
             ],
             [
              0.1111111111111111,
              "#46039f"
             ],
             [
              0.2222222222222222,
              "#7201a8"
             ],
             [
              0.3333333333333333,
              "#9c179e"
             ],
             [
              0.4444444444444444,
              "#bd3786"
             ],
             [
              0.5555555555555556,
              "#d8576b"
             ],
             [
              0.6666666666666666,
              "#ed7953"
             ],
             [
              0.7777777777777778,
              "#fb9f3a"
             ],
             [
              0.8888888888888888,
              "#fdca26"
             ],
             [
              1,
              "#f0f921"
             ]
            ],
            "type": "heatmapgl"
           }
          ],
          "histogram": [
           {
            "marker": {
             "pattern": {
              "fillmode": "overlay",
              "size": 10,
              "solidity": 0.2
             }
            },
            "type": "histogram"
           }
          ],
          "histogram2d": [
           {
            "colorbar": {
             "outlinewidth": 0,
             "ticks": ""
            },
            "colorscale": [
             [
              0,
              "#0d0887"
             ],
             [
              0.1111111111111111,
              "#46039f"
             ],
             [
              0.2222222222222222,
              "#7201a8"
             ],
             [
              0.3333333333333333,
              "#9c179e"
             ],
             [
              0.4444444444444444,
              "#bd3786"
             ],
             [
              0.5555555555555556,
              "#d8576b"
             ],
             [
              0.6666666666666666,
              "#ed7953"
             ],
             [
              0.7777777777777778,
              "#fb9f3a"
             ],
             [
              0.8888888888888888,
              "#fdca26"
             ],
             [
              1,
              "#f0f921"
             ]
            ],
            "type": "histogram2d"
           }
          ],
          "histogram2dcontour": [
           {
            "colorbar": {
             "outlinewidth": 0,
             "ticks": ""
            },
            "colorscale": [
             [
              0,
              "#0d0887"
             ],
             [
              0.1111111111111111,
              "#46039f"
             ],
             [
              0.2222222222222222,
              "#7201a8"
             ],
             [
              0.3333333333333333,
              "#9c179e"
             ],
             [
              0.4444444444444444,
              "#bd3786"
             ],
             [
              0.5555555555555556,
              "#d8576b"
             ],
             [
              0.6666666666666666,
              "#ed7953"
             ],
             [
              0.7777777777777778,
              "#fb9f3a"
             ],
             [
              0.8888888888888888,
              "#fdca26"
             ],
             [
              1,
              "#f0f921"
             ]
            ],
            "type": "histogram2dcontour"
           }
          ],
          "mesh3d": [
           {
            "colorbar": {
             "outlinewidth": 0,
             "ticks": ""
            },
            "type": "mesh3d"
           }
          ],
          "parcoords": [
           {
            "line": {
             "colorbar": {
              "outlinewidth": 0,
              "ticks": ""
             }
            },
            "type": "parcoords"
           }
          ],
          "pie": [
           {
            "automargin": true,
            "type": "pie"
           }
          ],
          "scatter": [
           {
            "fillpattern": {
             "fillmode": "overlay",
             "size": 10,
             "solidity": 0.2
            },
            "type": "scatter"
           }
          ],
          "scatter3d": [
           {
            "line": {
             "colorbar": {
              "outlinewidth": 0,
              "ticks": ""
             }
            },
            "marker": {
             "colorbar": {
              "outlinewidth": 0,
              "ticks": ""
             }
            },
            "type": "scatter3d"
           }
          ],
          "scattercarpet": [
           {
            "marker": {
             "colorbar": {
              "outlinewidth": 0,
              "ticks": ""
             }
            },
            "type": "scattercarpet"
           }
          ],
          "scattergeo": [
           {
            "marker": {
             "colorbar": {
              "outlinewidth": 0,
              "ticks": ""
             }
            },
            "type": "scattergeo"
           }
          ],
          "scattergl": [
           {
            "marker": {
             "colorbar": {
              "outlinewidth": 0,
              "ticks": ""
             }
            },
            "type": "scattergl"
           }
          ],
          "scattermapbox": [
           {
            "marker": {
             "colorbar": {
              "outlinewidth": 0,
              "ticks": ""
             }
            },
            "type": "scattermapbox"
           }
          ],
          "scatterpolar": [
           {
            "marker": {
             "colorbar": {
              "outlinewidth": 0,
              "ticks": ""
             }
            },
            "type": "scatterpolar"
           }
          ],
          "scatterpolargl": [
           {
            "marker": {
             "colorbar": {
              "outlinewidth": 0,
              "ticks": ""
             }
            },
            "type": "scatterpolargl"
           }
          ],
          "scatterternary": [
           {
            "marker": {
             "colorbar": {
              "outlinewidth": 0,
              "ticks": ""
             }
            },
            "type": "scatterternary"
           }
          ],
          "surface": [
           {
            "colorbar": {
             "outlinewidth": 0,
             "ticks": ""
            },
            "colorscale": [
             [
              0,
              "#0d0887"
             ],
             [
              0.1111111111111111,
              "#46039f"
             ],
             [
              0.2222222222222222,
              "#7201a8"
             ],
             [
              0.3333333333333333,
              "#9c179e"
             ],
             [
              0.4444444444444444,
              "#bd3786"
             ],
             [
              0.5555555555555556,
              "#d8576b"
             ],
             [
              0.6666666666666666,
              "#ed7953"
             ],
             [
              0.7777777777777778,
              "#fb9f3a"
             ],
             [
              0.8888888888888888,
              "#fdca26"
             ],
             [
              1,
              "#f0f921"
             ]
            ],
            "type": "surface"
           }
          ],
          "table": [
           {
            "cells": {
             "fill": {
              "color": "#EBF0F8"
             },
             "line": {
              "color": "white"
             }
            },
            "header": {
             "fill": {
              "color": "#C8D4E3"
             },
             "line": {
              "color": "white"
             }
            },
            "type": "table"
           }
          ]
         },
         "layout": {
          "annotationdefaults": {
           "arrowcolor": "#2a3f5f",
           "arrowhead": 0,
           "arrowwidth": 1
          },
          "autotypenumbers": "strict",
          "coloraxis": {
           "colorbar": {
            "outlinewidth": 0,
            "ticks": ""
           }
          },
          "colorscale": {
           "diverging": [
            [
             0,
             "#8e0152"
            ],
            [
             0.1,
             "#c51b7d"
            ],
            [
             0.2,
             "#de77ae"
            ],
            [
             0.3,
             "#f1b6da"
            ],
            [
             0.4,
             "#fde0ef"
            ],
            [
             0.5,
             "#f7f7f7"
            ],
            [
             0.6,
             "#e6f5d0"
            ],
            [
             0.7,
             "#b8e186"
            ],
            [
             0.8,
             "#7fbc41"
            ],
            [
             0.9,
             "#4d9221"
            ],
            [
             1,
             "#276419"
            ]
           ],
           "sequential": [
            [
             0,
             "#0d0887"
            ],
            [
             0.1111111111111111,
             "#46039f"
            ],
            [
             0.2222222222222222,
             "#7201a8"
            ],
            [
             0.3333333333333333,
             "#9c179e"
            ],
            [
             0.4444444444444444,
             "#bd3786"
            ],
            [
             0.5555555555555556,
             "#d8576b"
            ],
            [
             0.6666666666666666,
             "#ed7953"
            ],
            [
             0.7777777777777778,
             "#fb9f3a"
            ],
            [
             0.8888888888888888,
             "#fdca26"
            ],
            [
             1,
             "#f0f921"
            ]
           ],
           "sequentialminus": [
            [
             0,
             "#0d0887"
            ],
            [
             0.1111111111111111,
             "#46039f"
            ],
            [
             0.2222222222222222,
             "#7201a8"
            ],
            [
             0.3333333333333333,
             "#9c179e"
            ],
            [
             0.4444444444444444,
             "#bd3786"
            ],
            [
             0.5555555555555556,
             "#d8576b"
            ],
            [
             0.6666666666666666,
             "#ed7953"
            ],
            [
             0.7777777777777778,
             "#fb9f3a"
            ],
            [
             0.8888888888888888,
             "#fdca26"
            ],
            [
             1,
             "#f0f921"
            ]
           ]
          },
          "colorway": [
           "#636efa",
           "#EF553B",
           "#00cc96",
           "#ab63fa",
           "#FFA15A",
           "#19d3f3",
           "#FF6692",
           "#B6E880",
           "#FF97FF",
           "#FECB52"
          ],
          "font": {
           "color": "#2a3f5f"
          },
          "geo": {
           "bgcolor": "white",
           "lakecolor": "white",
           "landcolor": "#E5ECF6",
           "showlakes": true,
           "showland": true,
           "subunitcolor": "white"
          },
          "hoverlabel": {
           "align": "left"
          },
          "hovermode": "closest",
          "mapbox": {
           "style": "light"
          },
          "paper_bgcolor": "white",
          "plot_bgcolor": "#E5ECF6",
          "polar": {
           "angularaxis": {
            "gridcolor": "white",
            "linecolor": "white",
            "ticks": ""
           },
           "bgcolor": "#E5ECF6",
           "radialaxis": {
            "gridcolor": "white",
            "linecolor": "white",
            "ticks": ""
           }
          },
          "scene": {
           "xaxis": {
            "backgroundcolor": "#E5ECF6",
            "gridcolor": "white",
            "gridwidth": 2,
            "linecolor": "white",
            "showbackground": true,
            "ticks": "",
            "zerolinecolor": "white"
           },
           "yaxis": {
            "backgroundcolor": "#E5ECF6",
            "gridcolor": "white",
            "gridwidth": 2,
            "linecolor": "white",
            "showbackground": true,
            "ticks": "",
            "zerolinecolor": "white"
           },
           "zaxis": {
            "backgroundcolor": "#E5ECF6",
            "gridcolor": "white",
            "gridwidth": 2,
            "linecolor": "white",
            "showbackground": true,
            "ticks": "",
            "zerolinecolor": "white"
           }
          },
          "shapedefaults": {
           "line": {
            "color": "#2a3f5f"
           }
          },
          "ternary": {
           "aaxis": {
            "gridcolor": "white",
            "linecolor": "white",
            "ticks": ""
           },
           "baxis": {
            "gridcolor": "white",
            "linecolor": "white",
            "ticks": ""
           },
           "bgcolor": "#E5ECF6",
           "caxis": {
            "gridcolor": "white",
            "linecolor": "white",
            "ticks": ""
           }
          },
          "title": {
           "x": 0.05
          },
          "xaxis": {
           "automargin": true,
           "gridcolor": "white",
           "linecolor": "white",
           "ticks": "",
           "title": {
            "standoff": 15
           },
           "zerolinecolor": "white",
           "zerolinewidth": 2
          },
          "yaxis": {
           "automargin": true,
           "gridcolor": "white",
           "linecolor": "white",
           "ticks": "",
           "title": {
            "standoff": 15
           },
           "zerolinecolor": "white",
           "zerolinewidth": 2
          }
         }
        },
        "title": {
         "text": "Análise de Pareto para vl_custo_aquisicao por cidade"
        },
        "xaxis": {
         "title": {
          "text": "cidade"
         }
        },
        "yaxis": {
         "title": {
          "text": "Valor"
         }
        }
       }
      }
     },
     "metadata": {},
     "output_type": "display_data"
    }
   ],
   "source": [
    "def analise_pareto(df, colunas, grupo, limite=None):\n",
    "    for coluna in colunas:\n",
    "        # Agrupe as variáveis por região\n",
    "        df_grupo = df.groupby(grupo)[coluna].sum().reset_index()\n",
    "        \n",
    "        # Ordene as regiões em ordem decrescente\n",
    "        df_grupo = df_grupo.sort_values(coluna, ascending=False)\n",
    "        \n",
    "        # Se houver um limite, acumule as categorias não exibidas em \"Demais\"\n",
    "        if limite is not None:\n",
    "            df_grupo_demais = df_grupo.iloc[limite:]\n",
    "            df_grupo_demais = pd.DataFrame({'regiao': ['Demais'], coluna: [df_grupo_demais[coluna].sum()]})\n",
    "            df_grupo = pd.concat([df_grupo.iloc[:limite], df_grupo_demais])\n",
    "        \n",
    "        # Calcule o acumulado de valores\n",
    "        acumulado = df_grupo[coluna].cumsum()\n",
    "        \n",
    "        # Calcule o percentual acumulado\n",
    "        percentual_acumulado = (acumulado / acumulado.max()) * 100\n",
    "        \n",
    "        # Identifique o ponto de Pareto\n",
    "        ponto_pareto = percentual_acumulado[percentual_acumulado >= 80].index[0]\n",
    "        \n",
    "        print(f'Ponto de Pareto para {coluna} por {grupo}: {ponto_pareto}')\n",
    "        print(f'Valor acumulado até o ponto de Pareto: {acumulado[ponto_pareto]}')\n",
    "        print(f'Percentual de registros até o ponto de Pareto: {percentual_acumulado[ponto_pareto]}%')\n",
    "        \n",
    "        # Crie um gráfico do Plotly\n",
    "        fig = go.Figure(data=[\n",
    "            go.Bar(x=df_grupo[grupo], y=df_grupo[coluna], name='Soma dos valores'),\n",
    "            go.Scatter(x=df_grupo[grupo], y=acumulado, name='Acumulado de Pareto', mode='lines')\n",
    "        ])\n",
    "        fig.update_layout(title=f'Análise de Pareto para {coluna} por {grupo}',\n",
    "                          xaxis_title=grupo,\n",
    "                          yaxis_title='Valor')\n",
    "        fig.add_vline(x=df_grupo[grupo][ponto_pareto], line_dash='dash', line_color='red')\n",
    "        fig.show()\n",
    "\n",
    "colunas = ['vl_premio_comercial', 'vl_custo_aquisicao']\n",
    "grupo = 'cidade'\n",
    "limite = 100\n",
    "analise_pareto(df_apolice, colunas, grupo, limite)"
   ]
  },
  {
   "cell_type": "markdown",
   "metadata": {},
   "source": [
    "## Dados de Sinistros"
   ]
  },
  {
   "cell_type": "code",
   "execution_count": null,
   "metadata": {},
   "outputs": [],
   "source": [
    "# Importação dos dados de sinistros\n",
    "df_sinistro = pd.read_excel('Apolices_Sinistradas_Sicoob_.xlsx')\n",
    "\n",
    "# Ajustar nome de colunas\n",
    "df_sinistro_colunas_nomes ={\n",
    "\t\"nrApolice\":\t\t\t\t\t\t\t\"nr_apolice\",\n",
    "\t\"nrEndosso\":\t\t\t\t\t\t\t\"nr_endosso\",\n",
    "\t\"dsCoberturaSeguro\":\t\t\t\t\t\"ds_cobertura\",\n",
    "\t\"CdCoberturaSeguro\":\t\t\t\t\t\"cd_cobertura\",\n",
    "\t\"idGrupoRamoSeguro\":\t\t\t\t\t\"id_grp_ramo\",\n",
    "\t\"idRamoSeguro\":\t\t\t\t\t\t\t\"id_ramo\",\n",
    "\t\"nrSinistro\":\t\t\t\t\t\t\t\"nr_sinistro\",\n",
    "\t\"MovimentoSinistro\":\t\t\t\t\t\"nm_movto_sinistro\",\n",
    "\t\"dtEmissaoEventoSinistro\":\t\t\t\t\"dt_emissao_mvto_sinistro\",\n",
    "\t\"vlEventoSinistroMoeda\":\t\t\t\t\"vl_evento_sinsitro_moeda\",\n",
    "\t\"vlEventoSinistroBRL\":\t\t\t\t\t\"vl_evento_sinsitro_brl\",\n",
    "\t\"dtOcorrenciaSinistro\":\t\t\t\t\t\"dt_ocorrencia_sinistro\",\n",
    "\t\"dtAvisoSinistro\":\t\t\t\t\t\t\"dt_aviso_sinistro\",\n",
    "\t\"dtRegistroSinistro\":\t\t\t\t\t\"dt_registro_sinistro\",\n",
    "\t\"cdUFOcorrenciaSinistro\":\t\t\t\t\"uf_ocorrencia_sinistro\",\n",
    "\t\"nrCpfCnpjContraparte\":\t\t\t\t\t\"cpf_cnpj_contraparte\",\n",
    "\t\"nmRazaoSocialContraparte\":\t\t\t\t\"razao_social_contraparte\",\n",
    "\t\"cdProcessoJudicial\":\t\t\t\t\t\"cd_processo_judicial\",\n",
    "}\n",
    "df_sinistro = df_sinistro.rename(columns=df_sinistro_colunas_nomes)\n",
    "memory_usage_before_df_sinistro = df_sinistro.memory_usage(deep=True)\n",
    "types_before = df_sinistro.dtypes\n",
    "\n",
    "# Ajustar tipos de colunas\n",
    "df_sinistro_colunas_tipos ={\n",
    "\t\"ds_cobertura\":\t\t\t\t\t\t\t\"category\",\n",
    "\t\"cd_cobertura\":\t\t\t\t\t\t\t\"category\",\n",
    "\t\"id_grp_ramo\":\t\t\t\t\t\t\t\"category\",\n",
    "\t\"id_ramo\":\t\t\t\t\t\t\t\t\"category\",\n",
    "\t\"nm_movto_sinistro\":\t\t\t\t\t\"category\",\n",
    "\t\"dt_emissao_mvto_sinistro\":\t\t\t\t\"datetime64[ns]\",\n",
    "\t\"vl_evento_sinsitro_moeda\":\t\t\t\t\"float64\",\n",
    "\t\"vl_evento_sinsitro_brl\":\t\t\t\t\"float64\",\n",
    "\t\"dt_ocorrencia_sinistro\":\t\t\t\t\"datetime64[ns]\",\n",
    "\t\"dt_aviso_sinistro\":\t\t\t\t\t\"datetime64[ns]\",\n",
    "\t\"dt_registro_sinistro\":\t\t\t\t\t\"datetime64[ns]\",\n",
    "\t\"uf_ocorrencia_sinistro\":\t\t\t\t\"category\",\n",
    "\t\"cpf_cnpj_contraparte\":\t\t\t\t\t\"float64\",\n",
    "}\n",
    "df_sinistro_tipo = df_sinistro.astype(df_sinistro_colunas_tipos)\n",
    "memory_usage_after_df_sinistro = df_sinistro_tipo.memory_usage(deep=True)\n",
    "types_after = df_sinistro.dtypes"
   ]
  },
  {
   "cell_type": "code",
   "execution_count": null,
   "metadata": {},
   "outputs": [],
   "source": [
    "# Comparar uso de memória de sinistro\n",
    "memory_usage_df_sinistro = pd.DataFrame({\n",
    "    'types_before': types_before,\n",
    "\t'types_after': types_after,\n",
    "    'Memory Usage Before': memory_usage_before_df_sinistro,\n",
    "    'Memory Usage After': memory_usage_after_df_sinistro,\n",
    "    'Percentage Difference': (memory_usage_after_df_sinistro\n",
    "                              - memory_usage_before_df_sinistro)\n",
    "                              / memory_usage_before_df_sinistro * 100\n",
    "})\n",
    "memory_usage_df_sinistro.loc['Diferença total de memória'] = [\n",
    "    '---',\n",
    "    '---',\n",
    "    memory_usage_df_sinistro['Memory Usage Before'].sum(),\n",
    "    memory_usage_df_sinistro['Memory Usage After'].sum(),\n",
    "    (memory_usage_df_sinistro['Memory Usage After'].sum() \n",
    "     - memory_usage_df_sinistro['Memory Usage Before'].sum()) \n",
    "     / memory_usage_df_sinistro['Memory Usage Before'].sum() * 100\n",
    "]\n",
    "\n",
    "memory_usage_df_sinistro"
   ]
  }
 ],
 "metadata": {
  "kernelspec": {
   "display_name": "Python 3",
   "language": "python",
   "name": "python3"
  },
  "language_info": {
   "codemirror_mode": {
    "name": "ipython",
    "version": 3
   },
   "file_extension": ".py",
   "mimetype": "text/x-python",
   "name": "python",
   "nbconvert_exporter": "python",
   "pygments_lexer": "ipython3",
   "version": "3.12.1"
  }
 },
 "nbformat": 4,
 "nbformat_minor": 2
}
